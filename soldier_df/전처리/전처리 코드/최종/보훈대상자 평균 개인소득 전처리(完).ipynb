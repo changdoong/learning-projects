{
 "cells": [
  {
   "cell_type": "code",
   "execution_count": 1,
   "id": "c06496f8-04e9-4529-a67a-5c3d7bba070e",
   "metadata": {},
   "outputs": [
    {
     "name": "stdout",
     "output_type": "stream",
     "text": [
      "2018년도 파일 처리가 완료되었습니다.\n",
      "2021년도 파일 처리가 완료되었습니다.\n",
      "2024년도 파일 처리가 완료되었습니다.\n",
      "\n",
      "모든 연도 파일 처리가 완료되었습니다. 😊\n"
     ]
    }
   ],
   "source": [
    "import os\n",
    "import pandas as pd\n",
    "\n",
    "# 파일이 들어 있는 폴더의 경로로 작업 디렉터리를 변경합니다.\n",
    "os.chdir(\"C:/Users/user/Desktop/전처리 할 것\")\n",
    "\n",
    "def process_data(year):\n",
    "    \"\"\"\n",
    "    주어진 연도에 해당하는 파일을 읽고 전처리한 후 저장하는 함수입니다.\n",
    "    \"\"\"\n",
    "    # 1. 파일 이름에 연도를 포함시켜 경로를 만듭니다.\n",
    "    file_name = f'보훈대상자 평균 개인소득 {year}.csv'\n",
    "\n",
    "    # 2. CSV 파일을 읽어 DataFrame으로 만듭니다.\n",
    "    df = pd.read_csv(file_name)\n",
    "\n",
    "    # 3. 불필요한 컬럼을 제거합니다.\n",
    "    rem = ['Unnamed: 0', 'C1_OBJ_NM', 'UNIT_NM', 'ITM_NM', 'C2_OBJ_NM', 'TBL_NM']\n",
    "    df.drop(columns=rem, inplace=True)\n",
    "\n",
    "    # 4. 'C1_NM' 컬럼을 인덱스로 설정합니다.\n",
    "    df.set_index('C1_NM', inplace=True)\n",
    "\n",
    "    # 5. '연도' 컬럼을 생성합니다.\n",
    "    df['연도'] = year\n",
    "\n",
    "    # 6. 전처리된 DataFrame을 CSV 파일로 저장합니다.\n",
    "    # 파일명에 연도를 추가하여 구분합니다. \n",
    "    output_file_name = f'보훈대상자 평균 개인소득 {year}_processed.csv'\n",
    "    df.to_csv(output_file_name)\n",
    "    \n",
    "    print(f\"{year}년도 파일 처리가 완료되었습니다.\")\n",
    "\n",
    "# 처리하고 싶은 연도 리스트를 만듭니다.\n",
    "years_to_process = [2018, 2021, 2024]\n",
    "\n",
    "# 반복문을 사용해 각 연도마다 함수를 실행합니다.\n",
    "for year in years_to_process:\n",
    "    process_data(year)\n",
    "\n",
    "print(\"\\n모든 연도 파일 처리가 완료되었습니다. 😊\")"
   ]
  },
  {
   "cell_type": "code",
   "execution_count": 2,
   "id": "7981717d-b213-4e02-9018-1b86ebd8bea7",
   "metadata": {},
   "outputs": [
    {
     "name": "stdout",
     "output_type": "stream",
     "text": [
      "'보훈대상자 평균 개인소득 2018_processed.csv' 파일 읽기 완료.\n",
      "'보훈대상자 평균 개인소득 2021_processed.csv' 파일 읽기 완료.\n",
      "'보훈대상자 평균 개인소득 2024_processed.csv' 파일 읽기 완료.\n",
      "\n",
      "병합된 데이터프레임 미리보기:\n",
      "            C2_NM      DT    연도\n",
      "C1_NM                          \n",
      "전체       전체(경상소득)  2460.0  2018\n",
      "전체           근로소득   692.0  2018\n",
      "전체           사업소득   278.0  2018\n",
      "전체           재산소득   137.0  2018\n",
      "전체         사적이전소득   100.0  2018\n",
      "...           ...     ...   ...\n",
      "보훈보상대상자      근로소득  2007.0  2024\n",
      "보훈보상대상자      사업소득   398.0  2024\n",
      "보훈보상대상자      재산소득   112.0  2024\n",
      "보훈보상대상자    사적이전소득    41.0  2024\n",
      "보훈보상대상자    공적이전소득  1187.0  2024\n",
      "\n",
      "[306 rows x 3 columns]\n",
      "\n",
      "모든 파일이 '보훈대상자 평균 개인소득_전체_통합.csv'로 성공적으로 병합되었습니다! 🎉\n"
     ]
    }
   ],
   "source": [
    "# 이전 단계에서 처리된 파일들의 이름을 리스트로 만듭니다.\n",
    "file_list = [\n",
    "    '보훈대상자 평균 개인소득 2018_processed.csv',\n",
    "    '보훈대상자 평균 개인소득 2021_processed.csv',\n",
    "    '보훈대상자 평균 개인소득 2024_processed.csv'\n",
    "]\n",
    "\n",
    "# 합쳐진 데이터프레임을 저장할 빈 리스트를 생성합니다.\n",
    "all_dfs = []\n",
    "\n",
    "# 반복문을 사용해 각 파일을 읽고 리스트에 추가합니다.\n",
    "for file in file_list:\n",
    "    df = pd.read_csv(file, index_col='C1_NM')\n",
    "    all_dfs.append(df)\n",
    "    print(f\"'{file}' 파일 읽기 완료.\")\n",
    "\n",
    "# pd.concat() 함수를 사용하여 리스트 안의 모든 데이터프레임을 하나로 합칩니다.\n",
    "# ignore_index=False로 설정하여 기존 인덱스를 유지합니다.\n",
    "merged_df = pd.concat(all_dfs, ignore_index=False)\n",
    "\n",
    "# 합쳐진 데이터프레임의 첫 5행과 마지막 5행을 출력하여 확인합니다.\n",
    "print(\"\\n병합된 데이터프레임 미리보기:\")\n",
    "print(merged_df)\n",
    "\n",
    "# 최종적으로 병합된 데이터프레임을 새로운 CSV 파일로 저장합니다.\n",
    "merged_df.to_csv('보훈대상자 평균 개인소득_전체_통합.csv')\n",
    "\n",
    "print(\"\\n모든 파일이 '보훈대상자 평균 개인소득_전체_통합.csv'로 성공적으로 병합되었습니다! 🎉\")"
   ]
  },
  {
   "cell_type": "code",
   "execution_count": null,
   "id": "6813ee78-6419-4ef2-89b3-d02d67053d61",
   "metadata": {},
   "outputs": [],
   "source": []
  }
 ],
 "metadata": {
  "kernelspec": {
   "display_name": "Python [conda env:base] *",
   "language": "python",
   "name": "conda-base-py"
  },
  "language_info": {
   "codemirror_mode": {
    "name": "ipython",
    "version": 3
   },
   "file_extension": ".py",
   "mimetype": "text/x-python",
   "name": "python",
   "nbconvert_exporter": "python",
   "pygments_lexer": "ipython3",
   "version": "3.13.5"
  }
 },
 "nbformat": 4,
 "nbformat_minor": 5
}
