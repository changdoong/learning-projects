{
 "cells": [
  {
   "cell_type": "code",
   "execution_count": 3,
   "id": "dbf9fab3-930a-48c2-8903-f13a14a2e212",
   "metadata": {},
   "outputs": [],
   "source": [
    "import pandas as pd\n",
    "df = pd.read_csv('국가보훈대상자 연령 2018.csv')\n",
    "df = df.drop(columns=['C1_OBJ_NM', 'UNIT_NM', 'ITM_NM', 'C2_OBJ_NM', 'TBL_NM','Unnamed: 0'])\n",
    "df.set_index('C1_NM', inplace=True)\n",
    "df['연도'] = '2018'\n",
    "df\n",
    "df.to_csv('국가보훈대상자 연령 2018.csv')"
   ]
  },
  {
   "cell_type": "code",
   "execution_count": null,
   "id": "5fb4592a-49f0-4f44-8d0f-5b88365c4911",
   "metadata": {},
   "outputs": [],
   "source": [
    "import pandas as pd\n",
    "df = pd.read_csv('국가보훈대상자 연령 2021.csv')\n",
    "df = df.drop(columns=['C1_OBJ_NM', 'UNIT_NM', 'ITM_NM', 'C2_OBJ_NM', 'TBL_NM','Unnamed: 0'])\n",
    "df.set_index('C1_NM', inplace=True)\n",
    "df['연도'] = '2021'\n",
    "df\n",
    "df.to_csv('국가보훈대상자 연령 2021.csv')"
   ]
  },
  {
   "cell_type": "code",
   "execution_count": null,
   "id": "bcf8dbb7-cec0-4dd5-9530-c021de286ee0",
   "metadata": {},
   "outputs": [],
   "source": [
    "import pandas as pd\n",
    "df = pd.read_csv('국가보훈대상자 연령 2024.csv')\n",
    "df = df.drop(columns=['C1_OBJ_NM', 'UNIT_NM', 'ITM_NM', 'C2_OBJ_NM', 'TBL_NM','Unnamed: 0'])\n",
    "df.set_index('C1_NM', inplace=True)\n",
    "df['연도'] = '2024'\n",
    "df\n",
    "df.to_csv('국가보훈대상자 연령 2024.csv')"
   ]
  }
 ],
 "metadata": {
  "kernelspec": {
   "display_name": "Python [conda env:.conda-streamlit]",
   "language": "python",
   "name": "conda-env-.conda-streamlit-py"
  },
  "language_info": {
   "codemirror_mode": {
    "name": "ipython",
    "version": 3
   },
   "file_extension": ".py",
   "mimetype": "text/x-python",
   "name": "python",
   "nbconvert_exporter": "python",
   "pygments_lexer": "ipython3",
   "version": "3.12.11"
  }
 },
 "nbformat": 4,
 "nbformat_minor": 5
}
