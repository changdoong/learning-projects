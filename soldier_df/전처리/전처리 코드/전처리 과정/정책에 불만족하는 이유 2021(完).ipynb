{
 "cells": [
  {
   "cell_type": "code",
   "execution_count": 17,
   "id": "0139df98-7a09-4548-92e6-96db8c7b040c",
   "metadata": {},
   "outputs": [],
   "source": [
    "import pandas as pd\n",
    "import os"
   ]
  },
  {
   "cell_type": "code",
   "execution_count": 18,
   "id": "ddb5a199-51cf-4138-a612-ff6e657c017a",
   "metadata": {},
   "outputs": [
    {
     "data": {
      "text/plain": [
       "'C:\\\\Users\\\\m4282\\\\workspaces\\\\TP\\\\전처리'"
      ]
     },
     "execution_count": 18,
     "metadata": {},
     "output_type": "execute_result"
    }
   ],
   "source": [
    "os.getcwd()"
   ]
  },
  {
   "cell_type": "code",
   "execution_count": 19,
   "id": "8b312544-fcc8-4f52-87e1-687304c1b959",
   "metadata": {},
   "outputs": [],
   "source": [
    "os.chdir('C:\\\\Users\\\\m4282\\\\workspaces\\\\TP\\\\전처리')"
   ]
  },
  {
   "cell_type": "code",
   "execution_count": 20,
   "id": "3cbeb034-c2fe-4e70-bdd0-2f4209ccf096",
   "metadata": {},
   "outputs": [
    {
     "data": {
      "text/html": [
       "<div>\n",
       "<style scoped>\n",
       "    .dataframe tbody tr th:only-of-type {\n",
       "        vertical-align: middle;\n",
       "    }\n",
       "\n",
       "    .dataframe tbody tr th {\n",
       "        vertical-align: top;\n",
       "    }\n",
       "\n",
       "    .dataframe thead th {\n",
       "        text-align: right;\n",
       "    }\n",
       "</style>\n",
       "<table border=\"1\" class=\"dataframe\">\n",
       "  <thead>\n",
       "    <tr style=\"text-align: right;\">\n",
       "      <th></th>\n",
       "      <th>C1_NM</th>\n",
       "      <th>C2_NM</th>\n",
       "      <th>DT</th>\n",
       "      <th>연도</th>\n",
       "    </tr>\n",
       "  </thead>\n",
       "  <tbody>\n",
       "    <tr>\n",
       "      <th>0</th>\n",
       "      <td>국가유공자(본인)</td>\n",
       "      <td>현행 지원 범위의 미흡</td>\n",
       "      <td>41.2</td>\n",
       "      <td>2018</td>\n",
       "    </tr>\n",
       "    <tr>\n",
       "      <th>1</th>\n",
       "      <td>국가유공자(본인)</td>\n",
       "      <td>국가보훈부의 정책적 기능의 한계</td>\n",
       "      <td>11.0</td>\n",
       "      <td>2018</td>\n",
       "    </tr>\n",
       "    <tr>\n",
       "      <th>2</th>\n",
       "      <td>국가유공자(본인)</td>\n",
       "      <td>각종 교육 홍보 상담 여건 미비</td>\n",
       "      <td>3.8</td>\n",
       "      <td>2018</td>\n",
       "    </tr>\n",
       "    <tr>\n",
       "      <th>3</th>\n",
       "      <td>국가유공자(본인)</td>\n",
       "      <td>현행 지원수준의 미흡</td>\n",
       "      <td>43.5</td>\n",
       "      <td>2018</td>\n",
       "    </tr>\n",
       "    <tr>\n",
       "      <th>4</th>\n",
       "      <td>국가유공자(본인)</td>\n",
       "      <td>기타</td>\n",
       "      <td>0.4</td>\n",
       "      <td>2018</td>\n",
       "    </tr>\n",
       "  </tbody>\n",
       "</table>\n",
       "</div>"
      ],
      "text/plain": [
       "       C1_NM              C2_NM    DT    연도\n",
       "0  국가유공자(본인)       현행 지원 범위의 미흡  41.2  2018\n",
       "1  국가유공자(본인)  국가보훈부의 정책적 기능의 한계  11.0  2018\n",
       "2  국가유공자(본인)  각종 교육 홍보 상담 여건 미비   3.8  2018\n",
       "3  국가유공자(본인)        현행 지원수준의 미흡  43.5  2018\n",
       "4  국가유공자(본인)                 기타   0.4  2018"
      ]
     },
     "execution_count": 20,
     "metadata": {},
     "output_type": "execute_result"
    }
   ],
   "source": [
    "df = pd.read_csv('정책에 불만족하는 이유 2021.csv')\n",
    "df.head()"
   ]
  },
  {
   "cell_type": "code",
   "execution_count": 25,
   "id": "a6ea1632-042d-41ad-a3ee-5c482d648a45",
   "metadata": {},
   "outputs": [
    {
     "ename": "KeyError",
     "evalue": "\"['Unnamed: 0', 'C1_OBJ_NM', 'UNIT_NM', 'ITM_NM', 'C2_OBJ_NM', 'TBL_NM'] not found in axis\"",
     "output_type": "error",
     "traceback": [
      "\u001b[1;31m---------------------------------------------------------------------------\u001b[0m",
      "\u001b[1;31mKeyError\u001b[0m                                  Traceback (most recent call last)",
      "Cell \u001b[1;32mIn[25], line 4\u001b[0m\n\u001b[0;32m      1\u001b[0m \u001b[38;5;66;03m# 불필요한 컬럼 제거\u001b[39;00m\n\u001b[0;32m      2\u001b[0m rem \u001b[38;5;241m=\u001b[39m [\u001b[38;5;124m'\u001b[39m\u001b[38;5;124mUnnamed: 0\u001b[39m\u001b[38;5;124m'\u001b[39m,\u001b[38;5;124m'\u001b[39m\u001b[38;5;124mC1_OBJ_NM\u001b[39m\u001b[38;5;124m'\u001b[39m,\u001b[38;5;124m'\u001b[39m\u001b[38;5;124mUNIT_NM\u001b[39m\u001b[38;5;124m'\u001b[39m,\u001b[38;5;124m'\u001b[39m\u001b[38;5;124mITM_NM\u001b[39m\u001b[38;5;124m'\u001b[39m,\u001b[38;5;124m'\u001b[39m\u001b[38;5;124mC2_OBJ_NM\u001b[39m\u001b[38;5;124m'\u001b[39m,\u001b[38;5;124m'\u001b[39m\u001b[38;5;124mTBL_NM\u001b[39m\u001b[38;5;124m'\u001b[39m]\n\u001b[1;32m----> 4\u001b[0m df\u001b[38;5;241m.\u001b[39mdrop(columns \u001b[38;5;241m=\u001b[39m rem, inplace \u001b[38;5;241m=\u001b[39m \u001b[38;5;28;01mTrue\u001b[39;00m)\n\u001b[0;32m      5\u001b[0m df\n",
      "File \u001b[1;32mC:\\ProgramData\\anaconda3\\Lib\\site-packages\\pandas\\core\\frame.py:5581\u001b[0m, in \u001b[0;36mDataFrame.drop\u001b[1;34m(self, labels, axis, index, columns, level, inplace, errors)\u001b[0m\n\u001b[0;32m   5433\u001b[0m \u001b[38;5;28;01mdef\u001b[39;00m\u001b[38;5;250m \u001b[39m\u001b[38;5;21mdrop\u001b[39m(\n\u001b[0;32m   5434\u001b[0m     \u001b[38;5;28mself\u001b[39m,\n\u001b[0;32m   5435\u001b[0m     labels: IndexLabel \u001b[38;5;241m|\u001b[39m \u001b[38;5;28;01mNone\u001b[39;00m \u001b[38;5;241m=\u001b[39m \u001b[38;5;28;01mNone\u001b[39;00m,\n\u001b[1;32m   (...)\u001b[0m\n\u001b[0;32m   5442\u001b[0m     errors: IgnoreRaise \u001b[38;5;241m=\u001b[39m \u001b[38;5;124m\"\u001b[39m\u001b[38;5;124mraise\u001b[39m\u001b[38;5;124m\"\u001b[39m,\n\u001b[0;32m   5443\u001b[0m ) \u001b[38;5;241m-\u001b[39m\u001b[38;5;241m>\u001b[39m DataFrame \u001b[38;5;241m|\u001b[39m \u001b[38;5;28;01mNone\u001b[39;00m:\n\u001b[0;32m   5444\u001b[0m \u001b[38;5;250m    \u001b[39m\u001b[38;5;124;03m\"\"\"\u001b[39;00m\n\u001b[0;32m   5445\u001b[0m \u001b[38;5;124;03m    Drop specified labels from rows or columns.\u001b[39;00m\n\u001b[0;32m   5446\u001b[0m \n\u001b[1;32m   (...)\u001b[0m\n\u001b[0;32m   5579\u001b[0m \u001b[38;5;124;03m            weight  1.0     0.8\u001b[39;00m\n\u001b[0;32m   5580\u001b[0m \u001b[38;5;124;03m    \"\"\"\u001b[39;00m\n\u001b[1;32m-> 5581\u001b[0m     \u001b[38;5;28;01mreturn\u001b[39;00m \u001b[38;5;28msuper\u001b[39m()\u001b[38;5;241m.\u001b[39mdrop(\n\u001b[0;32m   5582\u001b[0m         labels\u001b[38;5;241m=\u001b[39mlabels,\n\u001b[0;32m   5583\u001b[0m         axis\u001b[38;5;241m=\u001b[39maxis,\n\u001b[0;32m   5584\u001b[0m         index\u001b[38;5;241m=\u001b[39mindex,\n\u001b[0;32m   5585\u001b[0m         columns\u001b[38;5;241m=\u001b[39mcolumns,\n\u001b[0;32m   5586\u001b[0m         level\u001b[38;5;241m=\u001b[39mlevel,\n\u001b[0;32m   5587\u001b[0m         inplace\u001b[38;5;241m=\u001b[39minplace,\n\u001b[0;32m   5588\u001b[0m         errors\u001b[38;5;241m=\u001b[39merrors,\n\u001b[0;32m   5589\u001b[0m     )\n",
      "File \u001b[1;32mC:\\ProgramData\\anaconda3\\Lib\\site-packages\\pandas\\core\\generic.py:4788\u001b[0m, in \u001b[0;36mNDFrame.drop\u001b[1;34m(self, labels, axis, index, columns, level, inplace, errors)\u001b[0m\n\u001b[0;32m   4786\u001b[0m \u001b[38;5;28;01mfor\u001b[39;00m axis, labels \u001b[38;5;129;01min\u001b[39;00m axes\u001b[38;5;241m.\u001b[39mitems():\n\u001b[0;32m   4787\u001b[0m     \u001b[38;5;28;01mif\u001b[39;00m labels \u001b[38;5;129;01mis\u001b[39;00m \u001b[38;5;129;01mnot\u001b[39;00m \u001b[38;5;28;01mNone\u001b[39;00m:\n\u001b[1;32m-> 4788\u001b[0m         obj \u001b[38;5;241m=\u001b[39m obj\u001b[38;5;241m.\u001b[39m_drop_axis(labels, axis, level\u001b[38;5;241m=\u001b[39mlevel, errors\u001b[38;5;241m=\u001b[39merrors)\n\u001b[0;32m   4790\u001b[0m \u001b[38;5;28;01mif\u001b[39;00m inplace:\n\u001b[0;32m   4791\u001b[0m     \u001b[38;5;28mself\u001b[39m\u001b[38;5;241m.\u001b[39m_update_inplace(obj)\n",
      "File \u001b[1;32mC:\\ProgramData\\anaconda3\\Lib\\site-packages\\pandas\\core\\generic.py:4830\u001b[0m, in \u001b[0;36mNDFrame._drop_axis\u001b[1;34m(self, labels, axis, level, errors, only_slice)\u001b[0m\n\u001b[0;32m   4828\u001b[0m         new_axis \u001b[38;5;241m=\u001b[39m axis\u001b[38;5;241m.\u001b[39mdrop(labels, level\u001b[38;5;241m=\u001b[39mlevel, errors\u001b[38;5;241m=\u001b[39merrors)\n\u001b[0;32m   4829\u001b[0m     \u001b[38;5;28;01melse\u001b[39;00m:\n\u001b[1;32m-> 4830\u001b[0m         new_axis \u001b[38;5;241m=\u001b[39m axis\u001b[38;5;241m.\u001b[39mdrop(labels, errors\u001b[38;5;241m=\u001b[39merrors)\n\u001b[0;32m   4831\u001b[0m     indexer \u001b[38;5;241m=\u001b[39m axis\u001b[38;5;241m.\u001b[39mget_indexer(new_axis)\n\u001b[0;32m   4833\u001b[0m \u001b[38;5;66;03m# Case for non-unique axis\u001b[39;00m\n\u001b[0;32m   4834\u001b[0m \u001b[38;5;28;01melse\u001b[39;00m:\n",
      "File \u001b[1;32mC:\\ProgramData\\anaconda3\\Lib\\site-packages\\pandas\\core\\indexes\\base.py:7070\u001b[0m, in \u001b[0;36mIndex.drop\u001b[1;34m(self, labels, errors)\u001b[0m\n\u001b[0;32m   7068\u001b[0m \u001b[38;5;28;01mif\u001b[39;00m mask\u001b[38;5;241m.\u001b[39many():\n\u001b[0;32m   7069\u001b[0m     \u001b[38;5;28;01mif\u001b[39;00m errors \u001b[38;5;241m!=\u001b[39m \u001b[38;5;124m\"\u001b[39m\u001b[38;5;124mignore\u001b[39m\u001b[38;5;124m\"\u001b[39m:\n\u001b[1;32m-> 7070\u001b[0m         \u001b[38;5;28;01mraise\u001b[39;00m \u001b[38;5;167;01mKeyError\u001b[39;00m(\u001b[38;5;124mf\u001b[39m\u001b[38;5;124m\"\u001b[39m\u001b[38;5;132;01m{\u001b[39;00mlabels[mask]\u001b[38;5;241m.\u001b[39mtolist()\u001b[38;5;132;01m}\u001b[39;00m\u001b[38;5;124m not found in axis\u001b[39m\u001b[38;5;124m\"\u001b[39m)\n\u001b[0;32m   7071\u001b[0m     indexer \u001b[38;5;241m=\u001b[39m indexer[\u001b[38;5;241m~\u001b[39mmask]\n\u001b[0;32m   7072\u001b[0m \u001b[38;5;28;01mreturn\u001b[39;00m \u001b[38;5;28mself\u001b[39m\u001b[38;5;241m.\u001b[39mdelete(indexer)\n",
      "\u001b[1;31mKeyError\u001b[0m: \"['Unnamed: 0', 'C1_OBJ_NM', 'UNIT_NM', 'ITM_NM', 'C2_OBJ_NM', 'TBL_NM'] not found in axis\""
     ]
    }
   ],
   "source": [
    "# 불필요한 컬럼 제거\n",
    "rem = ['Unnamed: 0','C1_OBJ_NM','UNIT_NM','ITM_NM','C2_OBJ_NM','TBL_NM']\n",
    "\n",
    "df.drop(columns = rem, inplace = True)\n",
    "df"
   ]
  },
  {
   "cell_type": "code",
   "execution_count": null,
   "id": "4a7bfd0e-4bfd-4f2d-a926-be5527571f40",
   "metadata": {},
   "outputs": [],
   "source": [
    "# 인덱스 C1_NM으로 설정\n",
    "df.set_index('C1_NM',inplace=True)"
   ]
  },
  {
   "cell_type": "code",
   "execution_count": null,
   "id": "ef4c2088-8c2b-4cb9-83da-c1780cd68ac6",
   "metadata": {},
   "outputs": [],
   "source": [
    "df"
   ]
  },
  {
   "cell_type": "code",
   "execution_count": null,
   "id": "6019d012-9632-436e-96de-1805ef05a03f",
   "metadata": {},
   "outputs": [],
   "source": [
    "#인덱스 고유값 확인 \n",
    "df.index.unique()"
   ]
  },
  {
   "cell_type": "code",
   "execution_count": null,
   "id": "0f907aac-04c8-4fc7-92f6-1bee8bc94f86",
   "metadata": {},
   "outputs": [],
   "source": [
    "# 특정 인덱스 애들 꺼내서 데이터프레임을 만듦\n",
    "man = ['국가유공자(본인)', '국가유공자(유족)', '고엽제', '참전유공자', '특수임무유공자']\n",
    "\n",
    "dfs = df.loc[df.index.isin(man)]"
   ]
  },
  {
   "cell_type": "code",
   "execution_count": null,
   "id": "16a27339-c009-4a9b-83c5-b2ccd3cb9b51",
   "metadata": {},
   "outputs": [],
   "source": [
    "dfs.index.unique()"
   ]
  },
  {
   "cell_type": "code",
   "execution_count": 22,
   "id": "042217b0-589c-4184-a3b9-914c858f6193",
   "metadata": {},
   "outputs": [],
   "source": [
    "# 연도 컬럼 생성하기. 연도 옆에 row 수 만큼 곱해주면됌\n",
    "연도 = [2021] * 25"
   ]
  },
  {
   "cell_type": "code",
   "execution_count": 23,
   "id": "77442ef3-1d73-4aa3-bcbe-c6ba48f71f3b",
   "metadata": {},
   "outputs": [],
   "source": [
    "dfs.loc[:, '연도'] = 연도"
   ]
  },
  {
   "cell_type": "code",
   "execution_count": 24,
   "id": "dec3b4a8-0cd1-4661-92a8-ac85d2ec33d4",
   "metadata": {},
   "outputs": [
    {
     "data": {
      "text/html": [
       "<div>\n",
       "<style scoped>\n",
       "    .dataframe tbody tr th:only-of-type {\n",
       "        vertical-align: middle;\n",
       "    }\n",
       "\n",
       "    .dataframe tbody tr th {\n",
       "        vertical-align: top;\n",
       "    }\n",
       "\n",
       "    .dataframe thead th {\n",
       "        text-align: right;\n",
       "    }\n",
       "</style>\n",
       "<table border=\"1\" class=\"dataframe\">\n",
       "  <thead>\n",
       "    <tr style=\"text-align: right;\">\n",
       "      <th></th>\n",
       "      <th>C2_NM</th>\n",
       "      <th>DT</th>\n",
       "      <th>연도</th>\n",
       "    </tr>\n",
       "    <tr>\n",
       "      <th>C1_NM</th>\n",
       "      <th></th>\n",
       "      <th></th>\n",
       "      <th></th>\n",
       "    </tr>\n",
       "  </thead>\n",
       "  <tbody>\n",
       "    <tr>\n",
       "      <th>국가유공자(본인)</th>\n",
       "      <td>현행 지원 범위의 미흡</td>\n",
       "      <td>41.2</td>\n",
       "      <td>2021</td>\n",
       "    </tr>\n",
       "    <tr>\n",
       "      <th>국가유공자(본인)</th>\n",
       "      <td>국가보훈부의 정책적 기능의 한계</td>\n",
       "      <td>11.0</td>\n",
       "      <td>2021</td>\n",
       "    </tr>\n",
       "    <tr>\n",
       "      <th>국가유공자(본인)</th>\n",
       "      <td>각종 교육 홍보 상담 여건 미비</td>\n",
       "      <td>3.8</td>\n",
       "      <td>2021</td>\n",
       "    </tr>\n",
       "    <tr>\n",
       "      <th>국가유공자(본인)</th>\n",
       "      <td>현행 지원수준의 미흡</td>\n",
       "      <td>43.5</td>\n",
       "      <td>2021</td>\n",
       "    </tr>\n",
       "    <tr>\n",
       "      <th>국가유공자(본인)</th>\n",
       "      <td>기타</td>\n",
       "      <td>0.4</td>\n",
       "      <td>2021</td>\n",
       "    </tr>\n",
       "    <tr>\n",
       "      <th>국가유공자(유족)</th>\n",
       "      <td>현행 지원 범위의 미흡</td>\n",
       "      <td>49.5</td>\n",
       "      <td>2021</td>\n",
       "    </tr>\n",
       "    <tr>\n",
       "      <th>국가유공자(유족)</th>\n",
       "      <td>국가보훈부의 정책적 기능의 한계</td>\n",
       "      <td>7.0</td>\n",
       "      <td>2021</td>\n",
       "    </tr>\n",
       "    <tr>\n",
       "      <th>국가유공자(유족)</th>\n",
       "      <td>각종 교육 홍보 상담 여건 미비</td>\n",
       "      <td>6.7</td>\n",
       "      <td>2021</td>\n",
       "    </tr>\n",
       "    <tr>\n",
       "      <th>국가유공자(유족)</th>\n",
       "      <td>현행 지원수준의 미흡</td>\n",
       "      <td>36.6</td>\n",
       "      <td>2021</td>\n",
       "    </tr>\n",
       "    <tr>\n",
       "      <th>국가유공자(유족)</th>\n",
       "      <td>기타</td>\n",
       "      <td>0.2</td>\n",
       "      <td>2021</td>\n",
       "    </tr>\n",
       "    <tr>\n",
       "      <th>참전유공자</th>\n",
       "      <td>현행 지원 범위의 미흡</td>\n",
       "      <td>44.0</td>\n",
       "      <td>2021</td>\n",
       "    </tr>\n",
       "    <tr>\n",
       "      <th>참전유공자</th>\n",
       "      <td>국가보훈부의 정책적 기능의 한계</td>\n",
       "      <td>6.5</td>\n",
       "      <td>2021</td>\n",
       "    </tr>\n",
       "    <tr>\n",
       "      <th>참전유공자</th>\n",
       "      <td>각종 교육 홍보 상담 여건 미비</td>\n",
       "      <td>2.6</td>\n",
       "      <td>2021</td>\n",
       "    </tr>\n",
       "    <tr>\n",
       "      <th>참전유공자</th>\n",
       "      <td>현행 지원수준의 미흡</td>\n",
       "      <td>46.8</td>\n",
       "      <td>2021</td>\n",
       "    </tr>\n",
       "    <tr>\n",
       "      <th>참전유공자</th>\n",
       "      <td>기타</td>\n",
       "      <td>0.1</td>\n",
       "      <td>2021</td>\n",
       "    </tr>\n",
       "    <tr>\n",
       "      <th>고엽제</th>\n",
       "      <td>현행 지원 범위의 미흡</td>\n",
       "      <td>42.8</td>\n",
       "      <td>2021</td>\n",
       "    </tr>\n",
       "    <tr>\n",
       "      <th>고엽제</th>\n",
       "      <td>국가보훈부의 정책적 기능의 한계</td>\n",
       "      <td>8.8</td>\n",
       "      <td>2021</td>\n",
       "    </tr>\n",
       "    <tr>\n",
       "      <th>고엽제</th>\n",
       "      <td>각종 교육 홍보 상담 여건 미비</td>\n",
       "      <td>1.4</td>\n",
       "      <td>2021</td>\n",
       "    </tr>\n",
       "    <tr>\n",
       "      <th>고엽제</th>\n",
       "      <td>현행 지원수준의 미흡</td>\n",
       "      <td>46.1</td>\n",
       "      <td>2021</td>\n",
       "    </tr>\n",
       "    <tr>\n",
       "      <th>고엽제</th>\n",
       "      <td>기타</td>\n",
       "      <td>1.0</td>\n",
       "      <td>2021</td>\n",
       "    </tr>\n",
       "    <tr>\n",
       "      <th>특수임무유공자</th>\n",
       "      <td>현행 지원 범위의 미흡</td>\n",
       "      <td>58.0</td>\n",
       "      <td>2021</td>\n",
       "    </tr>\n",
       "    <tr>\n",
       "      <th>특수임무유공자</th>\n",
       "      <td>국가보훈부의 정책적 기능의 한계</td>\n",
       "      <td>5.6</td>\n",
       "      <td>2021</td>\n",
       "    </tr>\n",
       "    <tr>\n",
       "      <th>특수임무유공자</th>\n",
       "      <td>각종 교육 홍보 상담 여건 미비</td>\n",
       "      <td>2.8</td>\n",
       "      <td>2021</td>\n",
       "    </tr>\n",
       "    <tr>\n",
       "      <th>특수임무유공자</th>\n",
       "      <td>현행 지원수준의 미흡</td>\n",
       "      <td>33.5</td>\n",
       "      <td>2021</td>\n",
       "    </tr>\n",
       "    <tr>\n",
       "      <th>특수임무유공자</th>\n",
       "      <td>기타</td>\n",
       "      <td>0.0</td>\n",
       "      <td>2021</td>\n",
       "    </tr>\n",
       "  </tbody>\n",
       "</table>\n",
       "</div>"
      ],
      "text/plain": [
       "                       C2_NM    DT    연도\n",
       "C1_NM                                   \n",
       "국가유공자(본인)       현행 지원 범위의 미흡  41.2  2021\n",
       "국가유공자(본인)  국가보훈부의 정책적 기능의 한계  11.0  2021\n",
       "국가유공자(본인)  각종 교육 홍보 상담 여건 미비   3.8  2021\n",
       "국가유공자(본인)        현행 지원수준의 미흡  43.5  2021\n",
       "국가유공자(본인)                 기타   0.4  2021\n",
       "국가유공자(유족)       현행 지원 범위의 미흡  49.5  2021\n",
       "국가유공자(유족)  국가보훈부의 정책적 기능의 한계   7.0  2021\n",
       "국가유공자(유족)  각종 교육 홍보 상담 여건 미비   6.7  2021\n",
       "국가유공자(유족)        현행 지원수준의 미흡  36.6  2021\n",
       "국가유공자(유족)                 기타   0.2  2021\n",
       "참전유공자           현행 지원 범위의 미흡  44.0  2021\n",
       "참전유공자      국가보훈부의 정책적 기능의 한계   6.5  2021\n",
       "참전유공자      각종 교육 홍보 상담 여건 미비   2.6  2021\n",
       "참전유공자            현행 지원수준의 미흡  46.8  2021\n",
       "참전유공자                     기타   0.1  2021\n",
       "고엽제             현행 지원 범위의 미흡  42.8  2021\n",
       "고엽제        국가보훈부의 정책적 기능의 한계   8.8  2021\n",
       "고엽제        각종 교육 홍보 상담 여건 미비   1.4  2021\n",
       "고엽제              현행 지원수준의 미흡  46.1  2021\n",
       "고엽제                       기타   1.0  2021\n",
       "특수임무유공자         현행 지원 범위의 미흡  58.0  2021\n",
       "특수임무유공자    국가보훈부의 정책적 기능의 한계   5.6  2021\n",
       "특수임무유공자    각종 교육 홍보 상담 여건 미비   2.8  2021\n",
       "특수임무유공자          현행 지원수준의 미흡  33.5  2021\n",
       "특수임무유공자                   기타   0.0  2021"
      ]
     },
     "execution_count": 24,
     "metadata": {},
     "output_type": "execute_result"
    }
   ],
   "source": [
    "dfs"
   ]
  },
  {
   "cell_type": "code",
   "execution_count": 26,
   "id": "05bdd8d4-8a75-4a03-965c-7dc717b68cac",
   "metadata": {},
   "outputs": [],
   "source": [
    "dfs.to_csv('정책에 불만족하는 이유 2021.csv')"
   ]
  },
  {
   "cell_type": "code",
   "execution_count": null,
   "id": "efcdc0ec-eb24-4474-9aac-68f0ffdae793",
   "metadata": {},
   "outputs": [],
   "source": []
  }
 ],
 "metadata": {
  "kernelspec": {
   "display_name": "Python [conda env:base] *",
   "language": "python",
   "name": "conda-base-py"
  },
  "language_info": {
   "codemirror_mode": {
    "name": "ipython",
    "version": 3
   },
   "file_extension": ".py",
   "mimetype": "text/x-python",
   "name": "python",
   "nbconvert_exporter": "python",
   "pygments_lexer": "ipython3",
   "version": "3.13.5"
  }
 },
 "nbformat": 4,
 "nbformat_minor": 5
}
