{
 "cells": [
  {
   "cell_type": "code",
   "execution_count": 3,
   "id": "dbf9fab3-930a-48c2-8903-f13a14a2e212",
   "metadata": {},
   "outputs": [],
   "source": [
    "import pandas as pd\n",
    "df = pd.read_csv('정책에서 개선되어야할점 2018.csv')\n",
    "df = df.drop(columns=['C3_OBJ_NM','C3_NM'])\n",
    "df.set_index('C1_NM', inplace=True)\n",
    "df['연도'] = '2018'\n",
    "df\n",
    "df.to_csv('정책에서 개선되어야할점 2018.csv')"
   ]
  },
  {
   "cell_type": "code",
   "execution_count": null,
   "id": "5fb4592a-49f0-4f44-8d0f-5b88365c4911",
   "metadata": {},
   "outputs": [],
   "source": []
  }
 ],
 "metadata": {
  "kernelspec": {
   "display_name": "Python [conda env:.conda-streamlit]",
   "language": "python",
   "name": "conda-env-.conda-streamlit-py"
  },
  "language_info": {
   "codemirror_mode": {
    "name": "ipython",
    "version": 3
   },
   "file_extension": ".py",
   "mimetype": "text/x-python",
   "name": "python",
   "nbconvert_exporter": "python",
   "pygments_lexer": "ipython3",
   "version": "3.12.11"
  }
 },
 "nbformat": 4,
 "nbformat_minor": 5
}
