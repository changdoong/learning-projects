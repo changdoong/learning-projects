{
 "cells": [
  {
   "cell_type": "code",
   "execution_count": 1,
   "id": "ad9d31c3-14ea-45b0-9102-0e597f70835a",
   "metadata": {},
   "outputs": [],
   "source": [
    "import pandas as pd\n",
    "df = pd.read_csv('경제활동 참여 상태 2024.csv')\n",
    "df\n",
    "\n",
    "df = df.drop(columns=['Unnamed: 0','C1_OBJ_NM','UNIT_NM','ITM_NM','C2_OBJ_NM','TBL_NM'])\n",
    "df\n",
    "\n",
    "df['연도'] = '2024'\n",
    "df\n",
    "\n",
    "df = df.rename(columns={\n",
    "    \"C1_NM\": \"구분\",\n",
    "    \"C2_NM\": \"취업여부\",\n",
    "    \"DT\": \"비율\",\n",
    "    \"연도\": \"연도\"\n",
    "})\n",
    "df\n",
    "\n",
    "df.to_csv('경제활동 참여 상태 2024.csv', index=False)"
   ]
  }
 ],
 "metadata": {
  "kernelspec": {
   "display_name": "Python [conda env:base] *",
   "language": "python",
   "name": "conda-base-py"
  },
  "language_info": {
   "codemirror_mode": {
    "name": "ipython",
    "version": 3
   },
   "file_extension": ".py",
   "mimetype": "text/x-python",
   "name": "python",
   "nbconvert_exporter": "python",
   "pygments_lexer": "ipython3",
   "version": "3.13.5"
  }
 },
 "nbformat": 4,
 "nbformat_minor": 5
}
