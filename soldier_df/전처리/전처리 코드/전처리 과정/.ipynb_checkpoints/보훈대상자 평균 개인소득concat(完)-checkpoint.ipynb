{
 "cells": [
  {
   "cell_type": "code",
   "execution_count": 1,
   "id": "85dbbd73-4d32-4aea-9d4a-ec5f319520b0",
   "metadata": {},
   "outputs": [
    {
     "name": "stdout",
     "output_type": "stream",
     "text": [
      "데이터 합치기 완료! 총 행 수: 90\n"
     ]
    }
   ],
   "source": [
    "import pandas as pd\n",
    "\n",
    "# CSV 파일 불러오기\n",
    "df1 = pd.read_csv('보훈대상자 평균 개인소득 2018 전처리.csv')\n",
    "df2 = pd.read_csv('보훈대상자 평균 개인소득 2021 전처리.csv')\n",
    "df3 = pd.read_csv('보훈대상자 평균 개인소득 2024 전처리.csv')\n",
    "\n",
    "# 세 개 데이터프레임을 세로로 합치기\n",
    "final_df = pd.concat([df1, df2, df3], ignore_index=True)\n",
    "\n",
    "# 합친 데이터를 새로운 CSV로 저장\n",
    "final_df.to_csv('보훈대상자 평균 개인소득 총집합.csv', index=False)\n",
    "\n",
    "print(\"데이터 합치기 완료! 총 행 수:\", len(final_df))"
   ]
  }
 ],
 "metadata": {
  "kernelspec": {
   "display_name": "Python [conda env:base] *",
   "language": "python",
   "name": "conda-base-py"
  },
  "language_info": {
   "codemirror_mode": {
    "name": "ipython",
    "version": 3
   },
   "file_extension": ".py",
   "mimetype": "text/x-python",
   "name": "python",
   "nbconvert_exporter": "python",
   "pygments_lexer": "ipython3",
   "version": "3.13.5"
  }
 },
 "nbformat": 4,
 "nbformat_minor": 5
}
