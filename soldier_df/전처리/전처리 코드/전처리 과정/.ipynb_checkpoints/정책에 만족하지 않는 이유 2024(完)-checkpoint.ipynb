{
 "cells": [
  {
   "cell_type": "code",
   "execution_count": 1,
   "id": "dbf9fab3-930a-48c2-8903-f13a14a2e212",
   "metadata": {},
   "outputs": [],
   "source": [
    "import pandas as pd\n",
    "df = pd.read_csv('정책에 불만족하는 이유 2024.csv')\n",
    "df = df.drop(columns=['C1_OBJ_NM', 'UNIT_NM', 'ITM_NM', 'C2_OBJ_NM', 'TBL_NM', 'Unnamed: 0'])\n",
    "df.set_index('C1_NM', inplace=True)\n",
    "df['연도'] = '2024'\n",
    "df\n",
    "df.to_csv('정책에 만족하지 않는 이유 2024.csv')"
   ]
  },
  {
   "cell_type": "code",
   "execution_count": null,
   "id": "5fb4592a-49f0-4f44-8d0f-5b88365c4911",
   "metadata": {},
   "outputs": [],
   "source": []
  }
 ],
 "metadata": {
  "kernelspec": {
   "display_name": "Python 3 (ipykernel)",
   "language": "python",
   "name": "python3"
  },
  "language_info": {
   "codemirror_mode": {
    "name": "ipython",
    "version": 3
   },
   "file_extension": ".py",
   "mimetype": "text/x-python",
   "name": "python",
   "nbconvert_exporter": "python",
   "pygments_lexer": "ipython3",
   "version": "3.13.5"
  }
 },
 "nbformat": 4,
 "nbformat_minor": 5
}
