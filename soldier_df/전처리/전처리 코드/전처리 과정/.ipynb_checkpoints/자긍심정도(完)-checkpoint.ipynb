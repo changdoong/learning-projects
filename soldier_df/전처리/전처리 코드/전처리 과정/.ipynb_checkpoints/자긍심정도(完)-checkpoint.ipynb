{
 "cells": [
  {
   "cell_type": "code",
   "execution_count": 1,
   "id": "903702cd",
   "metadata": {},
   "outputs": [],
   "source": [
    "import pandas as pd"
   ]
  },
  {
   "cell_type": "code",
   "execution_count": 6,
   "id": "00948b02",
   "metadata": {},
   "outputs": [],
   "source": [
    "data1=pd.read_csv('국가보훈대상자로서의 자긍심 정도 2018(전처리 完).csv')"
   ]
  },
  {
   "cell_type": "code",
   "execution_count": 8,
   "id": "2197ed76",
   "metadata": {},
   "outputs": [],
   "source": [
    "data2=pd.read_csv('국가보훈대상자로서의 자긍심 정도 2021(전처리 完).csv')"
   ]
  },
  {
   "cell_type": "code",
   "execution_count": 9,
   "id": "d4954352",
   "metadata": {},
   "outputs": [],
   "source": [
    "data3=pd.read_csv('국가보훈대상자로서의 자긍심 정도 2024(전처리 完).csv')"
   ]
  },
  {
   "cell_type": "code",
   "execution_count": 14,
   "id": "5eeb8668",
   "metadata": {},
   "outputs": [],
   "source": [
    "total=pd.concat([data1,data2, data3])"
   ]
  },
  {
   "cell_type": "code",
   "execution_count": 13,
   "id": "a653af11",
   "metadata": {},
   "outputs": [],
   "source": [
    "# 자긍심을 느끼지 않는 비율이 얼만큼인지 알려주고 자긍심을 느끼지 않는 이유를 설명(배경에 사용)"
   ]
  },
  {
   "cell_type": "code",
   "execution_count": 16,
   "id": "39b1c1fb",
   "metadata": {},
   "outputs": [],
   "source": [
    "total.to_csv('자긍심 정도.csv')"
   ]
  },
  {
   "cell_type": "code",
   "execution_count": null,
   "id": "5d6e7a4d",
   "metadata": {},
   "outputs": [],
   "source": []
  }
 ],
 "metadata": {
  "kernelspec": {
   "display_name": "Python 3 (ipykernel)",
   "language": "python",
   "name": "python3"
  },
  "language_info": {
   "codemirror_mode": {
    "name": "ipython",
    "version": 3
   },
   "file_extension": ".py",
   "mimetype": "text/x-python",
   "name": "python",
   "nbconvert_exporter": "python",
   "pygments_lexer": "ipython3",
   "version": "3.10.9"
  }
 },
 "nbformat": 4,
 "nbformat_minor": 5
}
