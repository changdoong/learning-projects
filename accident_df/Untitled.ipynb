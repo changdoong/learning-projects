{
 "cells": [
  {
   "cell_type": "code",
   "execution_count": 1,
   "id": "9b2b9042-f4a1-40f6-9da9-c4912ee02cf1",
   "metadata": {},
   "outputs": [],
   "source": [
    "import pandas as pd"
   ]
  },
  {
   "cell_type": "code",
   "execution_count": 3,
   "id": "b7b76a3a-92ec-457a-a255-5dc4c701b796",
   "metadata": {
    "scrolled": true
   },
   "outputs": [
    {
     "data": {
      "text/html": [
       "<div>\n",
       "<style scoped>\n",
       "    .dataframe tbody tr th:only-of-type {\n",
       "        vertical-align: middle;\n",
       "    }\n",
       "\n",
       "    .dataframe tbody tr th {\n",
       "        vertical-align: top;\n",
       "    }\n",
       "\n",
       "    .dataframe thead th {\n",
       "        text-align: right;\n",
       "    }\n",
       "</style>\n",
       "<table border=\"1\" class=\"dataframe\">\n",
       "  <thead>\n",
       "    <tr style=\"text-align: right;\">\n",
       "      <th></th>\n",
       "      <th>id</th>\n",
       "      <th>road_type</th>\n",
       "      <th>num_lanes</th>\n",
       "      <th>curvature</th>\n",
       "      <th>speed_limit</th>\n",
       "      <th>lighting</th>\n",
       "      <th>weather</th>\n",
       "      <th>road_signs_present</th>\n",
       "      <th>public_road</th>\n",
       "      <th>time_of_day</th>\n",
       "      <th>holiday</th>\n",
       "      <th>school_season</th>\n",
       "      <th>num_reported_accidents</th>\n",
       "      <th>accident_risk</th>\n",
       "    </tr>\n",
       "  </thead>\n",
       "  <tbody>\n",
       "    <tr>\n",
       "      <th>0</th>\n",
       "      <td>0</td>\n",
       "      <td>urban</td>\n",
       "      <td>2</td>\n",
       "      <td>0.06</td>\n",
       "      <td>35</td>\n",
       "      <td>daylight</td>\n",
       "      <td>rainy</td>\n",
       "      <td>False</td>\n",
       "      <td>True</td>\n",
       "      <td>afternoon</td>\n",
       "      <td>False</td>\n",
       "      <td>True</td>\n",
       "      <td>1</td>\n",
       "      <td>0.13</td>\n",
       "    </tr>\n",
       "    <tr>\n",
       "      <th>1</th>\n",
       "      <td>1</td>\n",
       "      <td>urban</td>\n",
       "      <td>4</td>\n",
       "      <td>0.99</td>\n",
       "      <td>35</td>\n",
       "      <td>daylight</td>\n",
       "      <td>clear</td>\n",
       "      <td>True</td>\n",
       "      <td>False</td>\n",
       "      <td>evening</td>\n",
       "      <td>True</td>\n",
       "      <td>True</td>\n",
       "      <td>0</td>\n",
       "      <td>0.35</td>\n",
       "    </tr>\n",
       "    <tr>\n",
       "      <th>2</th>\n",
       "      <td>2</td>\n",
       "      <td>rural</td>\n",
       "      <td>4</td>\n",
       "      <td>0.63</td>\n",
       "      <td>70</td>\n",
       "      <td>dim</td>\n",
       "      <td>clear</td>\n",
       "      <td>False</td>\n",
       "      <td>True</td>\n",
       "      <td>morning</td>\n",
       "      <td>True</td>\n",
       "      <td>False</td>\n",
       "      <td>2</td>\n",
       "      <td>0.30</td>\n",
       "    </tr>\n",
       "    <tr>\n",
       "      <th>3</th>\n",
       "      <td>3</td>\n",
       "      <td>highway</td>\n",
       "      <td>4</td>\n",
       "      <td>0.07</td>\n",
       "      <td>35</td>\n",
       "      <td>dim</td>\n",
       "      <td>rainy</td>\n",
       "      <td>True</td>\n",
       "      <td>True</td>\n",
       "      <td>morning</td>\n",
       "      <td>False</td>\n",
       "      <td>False</td>\n",
       "      <td>1</td>\n",
       "      <td>0.21</td>\n",
       "    </tr>\n",
       "    <tr>\n",
       "      <th>4</th>\n",
       "      <td>4</td>\n",
       "      <td>rural</td>\n",
       "      <td>1</td>\n",
       "      <td>0.58</td>\n",
       "      <td>60</td>\n",
       "      <td>daylight</td>\n",
       "      <td>foggy</td>\n",
       "      <td>False</td>\n",
       "      <td>False</td>\n",
       "      <td>evening</td>\n",
       "      <td>True</td>\n",
       "      <td>False</td>\n",
       "      <td>1</td>\n",
       "      <td>0.56</td>\n",
       "    </tr>\n",
       "  </tbody>\n",
       "</table>\n",
       "</div>"
      ],
      "text/plain": [
       "   id road_type  num_lanes  curvature  speed_limit  lighting weather  \\\n",
       "0   0     urban          2       0.06           35  daylight   rainy   \n",
       "1   1     urban          4       0.99           35  daylight   clear   \n",
       "2   2     rural          4       0.63           70       dim   clear   \n",
       "3   3   highway          4       0.07           35       dim   rainy   \n",
       "4   4     rural          1       0.58           60  daylight   foggy   \n",
       "\n",
       "   road_signs_present  public_road time_of_day  holiday  school_season  \\\n",
       "0               False         True   afternoon    False           True   \n",
       "1                True        False     evening     True           True   \n",
       "2               False         True     morning     True          False   \n",
       "3                True         True     morning    False          False   \n",
       "4               False        False     evening     True          False   \n",
       "\n",
       "   num_reported_accidents  accident_risk  \n",
       "0                       1           0.13  \n",
       "1                       0           0.35  \n",
       "2                       2           0.30  \n",
       "3                       1           0.21  \n",
       "4                       1           0.56  "
      ]
     },
     "execution_count": 3,
     "metadata": {},
     "output_type": "execute_result"
    }
   ],
   "source": [
    "train_df = pd.read_csv('train.csv')\n",
    "test_df = pd.read_csv('test.csv')\n",
    "train_df.head()"
   ]
  },
  {
   "cell_type": "markdown",
   "id": "8e3d4a5a-6e5f-481a-937a-c61b775d1f6e",
   "metadata": {},
   "source": [
    "불필요 컬럼\n",
    "\n",
    "\n",
    "\n",
    "\n",
    "목표 피쳐 : accident_risk"
   ]
  },
  {
   "cell_type": "code",
   "execution_count": null,
   "id": "ba564335-16fa-4381-ade1-68519b7ca004",
   "metadata": {},
   "outputs": [],
   "source": [
    "train_df.shape"
   ]
  },
  {
   "cell_type": "code",
   "execution_count": null,
   "id": "3e417b3d-93a5-4ca0-bc60-9a62c5f9bc26",
   "metadata": {
    "scrolled": true
   },
   "outputs": [],
   "source": [
    "train_df.isna().sum()"
   ]
  },
  {
   "cell_type": "code",
   "execution_count": null,
   "id": "6e8c09ca-eb66-47f4-be66-5ed9621230a5",
   "metadata": {
    "scrolled": true
   },
   "outputs": [],
   "source": [
    "train_df.nunique()"
   ]
  },
  {
   "cell_type": "code",
   "execution_count": null,
   "id": "d18993cd-1569-4a14-95ed-d660900dc6a2",
   "metadata": {},
   "outputs": [],
   "source": [
    "train_df[['curvature','speed_limit','num_reported_accidents']].describe().style.background_gradient(cmap='Blues')"
   ]
  },
  {
   "cell_type": "code",
   "execution_count": null,
   "id": "a60d17cd-a3f6-4634-81a2-9dee80f428f1",
   "metadata": {},
   "outputs": [],
   "source": [
    "train_df['num_reported_accidents'].unique()"
   ]
  },
  {
   "cell_type": "code",
   "execution_count": null,
   "id": "01f0d062-8f83-4289-bb9a-11d468fa9963",
   "metadata": {},
   "outputs": [],
   "source": [
    "train_df['lighting'].unique()"
   ]
  },
  {
   "cell_type": "code",
   "execution_count": null,
   "id": "059c01f8-8be6-47f0-a092-44a840611c57",
   "metadata": {},
   "outputs": [],
   "source": [
    "train_df.drop(columns='id',inplace=True)\n",
    "test_df.drop(columns='id',inplace=True)"
   ]
  },
  {
   "cell_type": "code",
   "execution_count": null,
   "id": "2ca8c8bd-f9db-4c5c-ad40-275edb40e452",
   "metadata": {},
   "outputs": [],
   "source": [
    "train_df.head()"
   ]
  },
  {
   "cell_type": "code",
   "execution_count": null,
   "id": "1583acb6-67c0-440d-ae98-4e0fdd911cb9",
   "metadata": {},
   "outputs": [],
   "source": [
    "test_df.head()"
   ]
  },
  {
   "cell_type": "code",
   "execution_count": null,
   "id": "bd559456-7c05-4f62-81b6-fc8f482660cd",
   "metadata": {},
   "outputs": [],
   "source": [
    "train_df['road_type'].unique()"
   ]
  },
  {
   "cell_type": "code",
   "execution_count": null,
   "id": "b32d2471-70ed-46c9-89c9-66bc4c95dd47",
   "metadata": {},
   "outputs": [],
   "source": [
    "map_col = {'urban' : 0,\n",
    "           'rural' : 1,\n",
    "           'highway' : 2\n",
    "          }"
   ]
  },
  {
   "cell_type": "code",
   "execution_count": null,
   "id": "e9e34064-38b8-4f2b-9912-ee8d276c01ff",
   "metadata": {},
   "outputs": [],
   "source": [
    "train_df['road_type'] = train_df['road_type'].map(map_col)"
   ]
  },
  {
   "cell_type": "code",
   "execution_count": null,
   "id": "3f8e9a6f-9873-4cd4-8a1a-3e836effb3a5",
   "metadata": {},
   "outputs": [],
   "source": [
    "train_df['lighting'].unique()"
   ]
  },
  {
   "cell_type": "code",
   "execution_count": null,
   "id": "b24aaa0d-32e1-4fd2-9284-6e9fb7acedfa",
   "metadata": {},
   "outputs": [],
   "source": [
    "map_col2 = {'daylight' : 0,\n",
    "            'dim' : 1,\n",
    "            'night' : 2\n",
    "           }"
   ]
  },
  {
   "cell_type": "code",
   "execution_count": null,
   "id": "4547f5f5-8350-4140-a860-45e609b6b55b",
   "metadata": {},
   "outputs": [],
   "source": [
    "train_df['lighting'] = train_df['lighting'].map(map_col2)"
   ]
  },
  {
   "cell_type": "code",
   "execution_count": null,
   "id": "fa7ab69e-afc4-4ae9-b45a-9f961909ded0",
   "metadata": {},
   "outputs": [],
   "source": [
    "train_df.head()"
   ]
  },
  {
   "cell_type": "code",
   "execution_count": null,
   "id": "4fb2538b-cf16-47b2-b399-e65a2df4881a",
   "metadata": {},
   "outputs": [],
   "source": [
    "train_df['weather'].unique()"
   ]
  },
  {
   "cell_type": "code",
   "execution_count": null,
   "id": "3afa4337-ab56-4d83-9609-392b31893444",
   "metadata": {},
   "outputs": [],
   "source": [
    "map_col3 = {'rainy' : 0,\n",
    "            'clear' : 1,\n",
    "            'foggy' : 2                                                                                                                                                                                                                                                                                                                   \n",
    "           }\n",
    "train_df['weather'] = train_df['weather'].map(map_col3)"
   ]
  },
  {
   "cell_type": "code",
   "execution_count": null,
   "id": "a2dee4f2-f3d7-455c-bc7f-0345877799b1",
   "metadata": {},
   "outputs": [],
   "source": [
    "train_df['time_of_day'].unique()"
   ]
  },
  {
   "cell_type": "code",
   "execution_count": null,
   "id": "48c8d201-55fb-4549-a1de-f12355725791",
   "metadata": {},
   "outputs": [],
   "source": [
    "map_col4 = {'afternoon' :  0,\n",
    "            'evening' : 1,\n",
    "            'morning' : 2\n",
    "           }\n",
    "train_df['time_of_day'] = train_df['time_of_day'].map(map_col4)"
   ]
  },
  {
   "cell_type": "code",
   "execution_count": null,
   "id": "8067729e-cb7a-45be-8772-032af7747c8a",
   "metadata": {},
   "outputs": [],
   "source": [
    "X = train_df.drop(columns='accident_risk')\n",
    "y = train_df['accident_risk']"
   ]
  },
  {
   "cell_type": "code",
   "execution_count": null,
   "id": "36113377-87c1-4a21-b8f1-1a5378e507a7",
   "metadata": {},
   "outputs": [],
   "source": [
    "from sklearn.model_selection import train_test_split\n",
    "X_train, X_val, y_train, y_val = train_test_split(X, y, test_size=0.2)"
   ]
  },
  {
   "cell_type": "code",
   "execution_count": null,
   "id": "64682ee3-6bab-4370-a21d-38bd8bc66cb0",
   "metadata": {},
   "outputs": [],
   "source": [
    "X_train.head()"
   ]
  },
  {
   "cell_type": "code",
   "execution_count": null,
   "id": "fe056d2a-1415-4e4e-81ca-dc14d9238555",
   "metadata": {},
   "outputs": [],
   "source": [
    "from lazypredict.Supervised import LazyRegressor\n",
    "reg = LazyRegressor(verbose=0)\n",
    "models, predictions = reg.fit(X_train[:30000], X_val[:30000], y_train[:30000], y_val[:30000])\n",
    "\n",
    "print(models)"
   ]
  },
  {
   "cell_type": "code",
   "execution_count": null,
   "id": "10358f7a-8635-432f-96e4-30801e5a2659",
   "metadata": {},
   "outputs": [],
   "source": []
  }
 ],
 "metadata": {
  "kernelspec": {
   "display_name": "Python [conda env:base] *",
   "language": "python",
   "name": "conda-base-py"
  },
  "language_info": {
   "codemirror_mode": {
    "name": "ipython",
    "version": 3
   },
   "file_extension": ".py",
   "mimetype": "text/x-python",
   "name": "python",
   "nbconvert_exporter": "python",
   "pygments_lexer": "ipython3",
   "version": "3.13.5"
  }
 },
 "nbformat": 4,
 "nbformat_minor": 5
}
