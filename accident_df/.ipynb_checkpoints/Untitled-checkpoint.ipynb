{
 "cells": [
  {
   "cell_type": "code",
   "execution_count": 57,
   "id": "9b2b9042-f4a1-40f6-9da9-c4912ee02cf1",
   "metadata": {},
   "outputs": [],
   "source": [
    "import pandas as pd"
   ]
  },
  {
   "cell_type": "code",
   "execution_count": 58,
   "id": "b7b76a3a-92ec-457a-a255-5dc4c701b796",
   "metadata": {
    "scrolled": true
   },
   "outputs": [
    {
     "data": {
      "text/html": [
       "<div>\n",
       "<style scoped>\n",
       "    .dataframe tbody tr th:only-of-type {\n",
       "        vertical-align: middle;\n",
       "    }\n",
       "\n",
       "    .dataframe tbody tr th {\n",
       "        vertical-align: top;\n",
       "    }\n",
       "\n",
       "    .dataframe thead th {\n",
       "        text-align: right;\n",
       "    }\n",
       "</style>\n",
       "<table border=\"1\" class=\"dataframe\">\n",
       "  <thead>\n",
       "    <tr style=\"text-align: right;\">\n",
       "      <th></th>\n",
       "      <th>id</th>\n",
       "      <th>road_type</th>\n",
       "      <th>num_lanes</th>\n",
       "      <th>curvature</th>\n",
       "      <th>speed_limit</th>\n",
       "      <th>lighting</th>\n",
       "      <th>weather</th>\n",
       "      <th>road_signs_present</th>\n",
       "      <th>public_road</th>\n",
       "      <th>time_of_day</th>\n",
       "      <th>holiday</th>\n",
       "      <th>school_season</th>\n",
       "      <th>num_reported_accidents</th>\n",
       "      <th>accident_risk</th>\n",
       "    </tr>\n",
       "  </thead>\n",
       "  <tbody>\n",
       "    <tr>\n",
       "      <th>0</th>\n",
       "      <td>0</td>\n",
       "      <td>urban</td>\n",
       "      <td>2</td>\n",
       "      <td>0.06</td>\n",
       "      <td>35</td>\n",
       "      <td>daylight</td>\n",
       "      <td>rainy</td>\n",
       "      <td>False</td>\n",
       "      <td>True</td>\n",
       "      <td>afternoon</td>\n",
       "      <td>False</td>\n",
       "      <td>True</td>\n",
       "      <td>1</td>\n",
       "      <td>0.13</td>\n",
       "    </tr>\n",
       "    <tr>\n",
       "      <th>1</th>\n",
       "      <td>1</td>\n",
       "      <td>urban</td>\n",
       "      <td>4</td>\n",
       "      <td>0.99</td>\n",
       "      <td>35</td>\n",
       "      <td>daylight</td>\n",
       "      <td>clear</td>\n",
       "      <td>True</td>\n",
       "      <td>False</td>\n",
       "      <td>evening</td>\n",
       "      <td>True</td>\n",
       "      <td>True</td>\n",
       "      <td>0</td>\n",
       "      <td>0.35</td>\n",
       "    </tr>\n",
       "    <tr>\n",
       "      <th>2</th>\n",
       "      <td>2</td>\n",
       "      <td>rural</td>\n",
       "      <td>4</td>\n",
       "      <td>0.63</td>\n",
       "      <td>70</td>\n",
       "      <td>dim</td>\n",
       "      <td>clear</td>\n",
       "      <td>False</td>\n",
       "      <td>True</td>\n",
       "      <td>morning</td>\n",
       "      <td>True</td>\n",
       "      <td>False</td>\n",
       "      <td>2</td>\n",
       "      <td>0.30</td>\n",
       "    </tr>\n",
       "    <tr>\n",
       "      <th>3</th>\n",
       "      <td>3</td>\n",
       "      <td>highway</td>\n",
       "      <td>4</td>\n",
       "      <td>0.07</td>\n",
       "      <td>35</td>\n",
       "      <td>dim</td>\n",
       "      <td>rainy</td>\n",
       "      <td>True</td>\n",
       "      <td>True</td>\n",
       "      <td>morning</td>\n",
       "      <td>False</td>\n",
       "      <td>False</td>\n",
       "      <td>1</td>\n",
       "      <td>0.21</td>\n",
       "    </tr>\n",
       "    <tr>\n",
       "      <th>4</th>\n",
       "      <td>4</td>\n",
       "      <td>rural</td>\n",
       "      <td>1</td>\n",
       "      <td>0.58</td>\n",
       "      <td>60</td>\n",
       "      <td>daylight</td>\n",
       "      <td>foggy</td>\n",
       "      <td>False</td>\n",
       "      <td>False</td>\n",
       "      <td>evening</td>\n",
       "      <td>True</td>\n",
       "      <td>False</td>\n",
       "      <td>1</td>\n",
       "      <td>0.56</td>\n",
       "    </tr>\n",
       "  </tbody>\n",
       "</table>\n",
       "</div>"
      ],
      "text/plain": [
       "   id road_type  num_lanes  curvature  speed_limit  lighting weather  \\\n",
       "0   0     urban          2       0.06           35  daylight   rainy   \n",
       "1   1     urban          4       0.99           35  daylight   clear   \n",
       "2   2     rural          4       0.63           70       dim   clear   \n",
       "3   3   highway          4       0.07           35       dim   rainy   \n",
       "4   4     rural          1       0.58           60  daylight   foggy   \n",
       "\n",
       "   road_signs_present  public_road time_of_day  holiday  school_season  \\\n",
       "0               False         True   afternoon    False           True   \n",
       "1                True        False     evening     True           True   \n",
       "2               False         True     morning     True          False   \n",
       "3                True         True     morning    False          False   \n",
       "4               False        False     evening     True          False   \n",
       "\n",
       "   num_reported_accidents  accident_risk  \n",
       "0                       1           0.13  \n",
       "1                       0           0.35  \n",
       "2                       2           0.30  \n",
       "3                       1           0.21  \n",
       "4                       1           0.56  "
      ]
     },
     "execution_count": 58,
     "metadata": {},
     "output_type": "execute_result"
    }
   ],
   "source": [
    "train_df = pd.read_csv('train.csv')\n",
    "test_df = pd.read_csv('test.csv')\n",
    "df.head()"
   ]
  },
  {
   "cell_type": "markdown",
   "id": "8e3d4a5a-6e5f-481a-937a-c61b775d1f6e",
   "metadata": {},
   "source": [
    "불필요 컬럼\n",
    "\n",
    "\n",
    "\n",
    "\n",
    "목표 피쳐 : accident_risk"
   ]
  },
  {
   "cell_type": "code",
   "execution_count": 59,
   "id": "ba564335-16fa-4381-ade1-68519b7ca004",
   "metadata": {},
   "outputs": [
    {
     "data": {
      "text/plain": [
       "(517754, 14)"
      ]
     },
     "execution_count": 59,
     "metadata": {},
     "output_type": "execute_result"
    }
   ],
   "source": [
    "train_df.shape"
   ]
  },
  {
   "cell_type": "code",
   "execution_count": 60,
   "id": "3e417b3d-93a5-4ca0-bc60-9a62c5f9bc26",
   "metadata": {
    "scrolled": true
   },
   "outputs": [
    {
     "data": {
      "text/plain": [
       "id                        0\n",
       "road_type                 0\n",
       "num_lanes                 0\n",
       "curvature                 0\n",
       "speed_limit               0\n",
       "lighting                  0\n",
       "weather                   0\n",
       "road_signs_present        0\n",
       "public_road               0\n",
       "time_of_day               0\n",
       "holiday                   0\n",
       "school_season             0\n",
       "num_reported_accidents    0\n",
       "accident_risk             0\n",
       "dtype: int64"
      ]
     },
     "execution_count": 60,
     "metadata": {},
     "output_type": "execute_result"
    }
   ],
   "source": [
    "train_df.isna().sum()"
   ]
  },
  {
   "cell_type": "code",
   "execution_count": 61,
   "id": "6e8c09ca-eb66-47f4-be66-5ed9621230a5",
   "metadata": {
    "scrolled": true
   },
   "outputs": [
    {
     "data": {
      "text/plain": [
       "id                        517754\n",
       "road_type                      3\n",
       "num_lanes                      4\n",
       "curvature                    261\n",
       "speed_limit                    5\n",
       "lighting                       3\n",
       "weather                        3\n",
       "road_signs_present             2\n",
       "public_road                    2\n",
       "time_of_day                    3\n",
       "holiday                        2\n",
       "school_season                  2\n",
       "num_reported_accidents         8\n",
       "accident_risk                 98\n",
       "dtype: int64"
      ]
     },
     "execution_count": 61,
     "metadata": {},
     "output_type": "execute_result"
    }
   ],
   "source": [
    "train_df.nunique()"
   ]
  },
  {
   "cell_type": "code",
   "execution_count": 12,
   "id": "d18993cd-1569-4a14-95ed-d660900dc6a2",
   "metadata": {},
   "outputs": [
    {
     "data": {
      "text/html": [
       "<style type=\"text/css\">\n",
       "#T_9509f_row0_col0, #T_9509f_row0_col1, #T_9509f_row0_col2 {\n",
       "  background-color: #08306b;\n",
       "  color: #f1f1f1;\n",
       "}\n",
       "#T_9509f_row1_col0, #T_9509f_row1_col1, #T_9509f_row1_col2, #T_9509f_row2_col0, #T_9509f_row2_col1, #T_9509f_row2_col2, #T_9509f_row3_col0, #T_9509f_row3_col1, #T_9509f_row3_col2, #T_9509f_row4_col0, #T_9509f_row4_col1, #T_9509f_row4_col2, #T_9509f_row5_col0, #T_9509f_row5_col1, #T_9509f_row5_col2, #T_9509f_row6_col0, #T_9509f_row6_col1, #T_9509f_row6_col2, #T_9509f_row7_col0, #T_9509f_row7_col1, #T_9509f_row7_col2 {\n",
       "  background-color: #f7fbff;\n",
       "  color: #000000;\n",
       "}\n",
       "</style>\n",
       "<table id=\"T_9509f\">\n",
       "  <thead>\n",
       "    <tr>\n",
       "      <th class=\"blank level0\" >&nbsp;</th>\n",
       "      <th id=\"T_9509f_level0_col0\" class=\"col_heading level0 col0\" >curvature</th>\n",
       "      <th id=\"T_9509f_level0_col1\" class=\"col_heading level0 col1\" >speed_limit</th>\n",
       "      <th id=\"T_9509f_level0_col2\" class=\"col_heading level0 col2\" >num_reported_accidents</th>\n",
       "    </tr>\n",
       "  </thead>\n",
       "  <tbody>\n",
       "    <tr>\n",
       "      <th id=\"T_9509f_level0_row0\" class=\"row_heading level0 row0\" >count</th>\n",
       "      <td id=\"T_9509f_row0_col0\" class=\"data row0 col0\" >517754.000000</td>\n",
       "      <td id=\"T_9509f_row0_col1\" class=\"data row0 col1\" >517754.000000</td>\n",
       "      <td id=\"T_9509f_row0_col2\" class=\"data row0 col2\" >517754.000000</td>\n",
       "    </tr>\n",
       "    <tr>\n",
       "      <th id=\"T_9509f_level0_row1\" class=\"row_heading level0 row1\" >mean</th>\n",
       "      <td id=\"T_9509f_row1_col0\" class=\"data row1 col0\" >0.488719</td>\n",
       "      <td id=\"T_9509f_row1_col1\" class=\"data row1 col1\" >46.112575</td>\n",
       "      <td id=\"T_9509f_row1_col2\" class=\"data row1 col2\" >1.187970</td>\n",
       "    </tr>\n",
       "    <tr>\n",
       "      <th id=\"T_9509f_level0_row2\" class=\"row_heading level0 row2\" >std</th>\n",
       "      <td id=\"T_9509f_row2_col0\" class=\"data row2 col0\" >0.272563</td>\n",
       "      <td id=\"T_9509f_row2_col1\" class=\"data row2 col1\" >15.788521</td>\n",
       "      <td id=\"T_9509f_row2_col2\" class=\"data row2 col2\" >0.895961</td>\n",
       "    </tr>\n",
       "    <tr>\n",
       "      <th id=\"T_9509f_level0_row3\" class=\"row_heading level0 row3\" >min</th>\n",
       "      <td id=\"T_9509f_row3_col0\" class=\"data row3 col0\" >0.000000</td>\n",
       "      <td id=\"T_9509f_row3_col1\" class=\"data row3 col1\" >25.000000</td>\n",
       "      <td id=\"T_9509f_row3_col2\" class=\"data row3 col2\" >0.000000</td>\n",
       "    </tr>\n",
       "    <tr>\n",
       "      <th id=\"T_9509f_level0_row4\" class=\"row_heading level0 row4\" >25%</th>\n",
       "      <td id=\"T_9509f_row4_col0\" class=\"data row4 col0\" >0.260000</td>\n",
       "      <td id=\"T_9509f_row4_col1\" class=\"data row4 col1\" >35.000000</td>\n",
       "      <td id=\"T_9509f_row4_col2\" class=\"data row4 col2\" >1.000000</td>\n",
       "    </tr>\n",
       "    <tr>\n",
       "      <th id=\"T_9509f_level0_row5\" class=\"row_heading level0 row5\" >50%</th>\n",
       "      <td id=\"T_9509f_row5_col0\" class=\"data row5 col0\" >0.510000</td>\n",
       "      <td id=\"T_9509f_row5_col1\" class=\"data row5 col1\" >45.000000</td>\n",
       "      <td id=\"T_9509f_row5_col2\" class=\"data row5 col2\" >1.000000</td>\n",
       "    </tr>\n",
       "    <tr>\n",
       "      <th id=\"T_9509f_level0_row6\" class=\"row_heading level0 row6\" >75%</th>\n",
       "      <td id=\"T_9509f_row6_col0\" class=\"data row6 col0\" >0.710000</td>\n",
       "      <td id=\"T_9509f_row6_col1\" class=\"data row6 col1\" >60.000000</td>\n",
       "      <td id=\"T_9509f_row6_col2\" class=\"data row6 col2\" >2.000000</td>\n",
       "    </tr>\n",
       "    <tr>\n",
       "      <th id=\"T_9509f_level0_row7\" class=\"row_heading level0 row7\" >max</th>\n",
       "      <td id=\"T_9509f_row7_col0\" class=\"data row7 col0\" >1.000000</td>\n",
       "      <td id=\"T_9509f_row7_col1\" class=\"data row7 col1\" >70.000000</td>\n",
       "      <td id=\"T_9509f_row7_col2\" class=\"data row7 col2\" >7.000000</td>\n",
       "    </tr>\n",
       "  </tbody>\n",
       "</table>\n"
      ],
      "text/plain": [
       "<pandas.io.formats.style.Styler at 0x271cfb3b4d0>"
      ]
     },
     "execution_count": 12,
     "metadata": {},
     "output_type": "execute_result"
    }
   ],
   "source": [
    "train_df[['curvature','speed_limit','num_reported_accidents']].describe().style.background_gradient(cmap='Blues')"
   ]
  },
  {
   "cell_type": "code",
   "execution_count": 62,
   "id": "a60d17cd-a3f6-4634-81a2-9dee80f428f1",
   "metadata": {},
   "outputs": [
    {
     "data": {
      "text/plain": [
       "array([1, 0, 2, 3, 4, 5, 6, 7])"
      ]
     },
     "execution_count": 62,
     "metadata": {},
     "output_type": "execute_result"
    }
   ],
   "source": [
    "train_df['num_reported_accidents'].unique()"
   ]
  },
  {
   "cell_type": "code",
   "execution_count": 63,
   "id": "01f0d062-8f83-4289-bb9a-11d468fa9963",
   "metadata": {},
   "outputs": [
    {
     "data": {
      "text/plain": [
       "array(['daylight', 'dim', 'night'], dtype=object)"
      ]
     },
     "execution_count": 63,
     "metadata": {},
     "output_type": "execute_result"
    }
   ],
   "source": [
    "train_df['lighting'].unique()"
   ]
  },
  {
   "cell_type": "code",
   "execution_count": 64,
   "id": "059c01f8-8be6-47f0-a092-44a840611c57",
   "metadata": {},
   "outputs": [],
   "source": [
    "train_df.drop(columns='id',inplace=True)\n",
    "test_df.drop(columns='id',inplace=True)"
   ]
  },
  {
   "cell_type": "code",
   "execution_count": 65,
   "id": "2ca8c8bd-f9db-4c5c-ad40-275edb40e452",
   "metadata": {},
   "outputs": [
    {
     "data": {
      "text/html": [
       "<div>\n",
       "<style scoped>\n",
       "    .dataframe tbody tr th:only-of-type {\n",
       "        vertical-align: middle;\n",
       "    }\n",
       "\n",
       "    .dataframe tbody tr th {\n",
       "        vertical-align: top;\n",
       "    }\n",
       "\n",
       "    .dataframe thead th {\n",
       "        text-align: right;\n",
       "    }\n",
       "</style>\n",
       "<table border=\"1\" class=\"dataframe\">\n",
       "  <thead>\n",
       "    <tr style=\"text-align: right;\">\n",
       "      <th></th>\n",
       "      <th>road_type</th>\n",
       "      <th>num_lanes</th>\n",
       "      <th>curvature</th>\n",
       "      <th>speed_limit</th>\n",
       "      <th>lighting</th>\n",
       "      <th>weather</th>\n",
       "      <th>road_signs_present</th>\n",
       "      <th>public_road</th>\n",
       "      <th>time_of_day</th>\n",
       "      <th>holiday</th>\n",
       "      <th>school_season</th>\n",
       "      <th>num_reported_accidents</th>\n",
       "      <th>accident_risk</th>\n",
       "    </tr>\n",
       "  </thead>\n",
       "  <tbody>\n",
       "    <tr>\n",
       "      <th>0</th>\n",
       "      <td>urban</td>\n",
       "      <td>2</td>\n",
       "      <td>0.06</td>\n",
       "      <td>35</td>\n",
       "      <td>daylight</td>\n",
       "      <td>rainy</td>\n",
       "      <td>False</td>\n",
       "      <td>True</td>\n",
       "      <td>afternoon</td>\n",
       "      <td>False</td>\n",
       "      <td>True</td>\n",
       "      <td>1</td>\n",
       "      <td>0.13</td>\n",
       "    </tr>\n",
       "    <tr>\n",
       "      <th>1</th>\n",
       "      <td>urban</td>\n",
       "      <td>4</td>\n",
       "      <td>0.99</td>\n",
       "      <td>35</td>\n",
       "      <td>daylight</td>\n",
       "      <td>clear</td>\n",
       "      <td>True</td>\n",
       "      <td>False</td>\n",
       "      <td>evening</td>\n",
       "      <td>True</td>\n",
       "      <td>True</td>\n",
       "      <td>0</td>\n",
       "      <td>0.35</td>\n",
       "    </tr>\n",
       "    <tr>\n",
       "      <th>2</th>\n",
       "      <td>rural</td>\n",
       "      <td>4</td>\n",
       "      <td>0.63</td>\n",
       "      <td>70</td>\n",
       "      <td>dim</td>\n",
       "      <td>clear</td>\n",
       "      <td>False</td>\n",
       "      <td>True</td>\n",
       "      <td>morning</td>\n",
       "      <td>True</td>\n",
       "      <td>False</td>\n",
       "      <td>2</td>\n",
       "      <td>0.30</td>\n",
       "    </tr>\n",
       "    <tr>\n",
       "      <th>3</th>\n",
       "      <td>highway</td>\n",
       "      <td>4</td>\n",
       "      <td>0.07</td>\n",
       "      <td>35</td>\n",
       "      <td>dim</td>\n",
       "      <td>rainy</td>\n",
       "      <td>True</td>\n",
       "      <td>True</td>\n",
       "      <td>morning</td>\n",
       "      <td>False</td>\n",
       "      <td>False</td>\n",
       "      <td>1</td>\n",
       "      <td>0.21</td>\n",
       "    </tr>\n",
       "    <tr>\n",
       "      <th>4</th>\n",
       "      <td>rural</td>\n",
       "      <td>1</td>\n",
       "      <td>0.58</td>\n",
       "      <td>60</td>\n",
       "      <td>daylight</td>\n",
       "      <td>foggy</td>\n",
       "      <td>False</td>\n",
       "      <td>False</td>\n",
       "      <td>evening</td>\n",
       "      <td>True</td>\n",
       "      <td>False</td>\n",
       "      <td>1</td>\n",
       "      <td>0.56</td>\n",
       "    </tr>\n",
       "  </tbody>\n",
       "</table>\n",
       "</div>"
      ],
      "text/plain": [
       "  road_type  num_lanes  curvature  speed_limit  lighting weather  \\\n",
       "0     urban          2       0.06           35  daylight   rainy   \n",
       "1     urban          4       0.99           35  daylight   clear   \n",
       "2     rural          4       0.63           70       dim   clear   \n",
       "3   highway          4       0.07           35       dim   rainy   \n",
       "4     rural          1       0.58           60  daylight   foggy   \n",
       "\n",
       "   road_signs_present  public_road time_of_day  holiday  school_season  \\\n",
       "0               False         True   afternoon    False           True   \n",
       "1                True        False     evening     True           True   \n",
       "2               False         True     morning     True          False   \n",
       "3                True         True     morning    False          False   \n",
       "4               False        False     evening     True          False   \n",
       "\n",
       "   num_reported_accidents  accident_risk  \n",
       "0                       1           0.13  \n",
       "1                       0           0.35  \n",
       "2                       2           0.30  \n",
       "3                       1           0.21  \n",
       "4                       1           0.56  "
      ]
     },
     "execution_count": 65,
     "metadata": {},
     "output_type": "execute_result"
    }
   ],
   "source": [
    "train_df.head()"
   ]
  },
  {
   "cell_type": "code",
   "execution_count": 66,
   "id": "1583acb6-67c0-440d-ae98-4e0fdd911cb9",
   "metadata": {},
   "outputs": [
    {
     "data": {
      "text/html": [
       "<div>\n",
       "<style scoped>\n",
       "    .dataframe tbody tr th:only-of-type {\n",
       "        vertical-align: middle;\n",
       "    }\n",
       "\n",
       "    .dataframe tbody tr th {\n",
       "        vertical-align: top;\n",
       "    }\n",
       "\n",
       "    .dataframe thead th {\n",
       "        text-align: right;\n",
       "    }\n",
       "</style>\n",
       "<table border=\"1\" class=\"dataframe\">\n",
       "  <thead>\n",
       "    <tr style=\"text-align: right;\">\n",
       "      <th></th>\n",
       "      <th>road_type</th>\n",
       "      <th>num_lanes</th>\n",
       "      <th>curvature</th>\n",
       "      <th>speed_limit</th>\n",
       "      <th>lighting</th>\n",
       "      <th>weather</th>\n",
       "      <th>road_signs_present</th>\n",
       "      <th>public_road</th>\n",
       "      <th>time_of_day</th>\n",
       "      <th>holiday</th>\n",
       "      <th>school_season</th>\n",
       "      <th>num_reported_accidents</th>\n",
       "    </tr>\n",
       "  </thead>\n",
       "  <tbody>\n",
       "    <tr>\n",
       "      <th>0</th>\n",
       "      <td>highway</td>\n",
       "      <td>2</td>\n",
       "      <td>0.34</td>\n",
       "      <td>45</td>\n",
       "      <td>night</td>\n",
       "      <td>clear</td>\n",
       "      <td>True</td>\n",
       "      <td>True</td>\n",
       "      <td>afternoon</td>\n",
       "      <td>True</td>\n",
       "      <td>True</td>\n",
       "      <td>1</td>\n",
       "    </tr>\n",
       "    <tr>\n",
       "      <th>1</th>\n",
       "      <td>urban</td>\n",
       "      <td>3</td>\n",
       "      <td>0.04</td>\n",
       "      <td>45</td>\n",
       "      <td>dim</td>\n",
       "      <td>foggy</td>\n",
       "      <td>True</td>\n",
       "      <td>False</td>\n",
       "      <td>afternoon</td>\n",
       "      <td>True</td>\n",
       "      <td>False</td>\n",
       "      <td>0</td>\n",
       "    </tr>\n",
       "    <tr>\n",
       "      <th>2</th>\n",
       "      <td>urban</td>\n",
       "      <td>2</td>\n",
       "      <td>0.59</td>\n",
       "      <td>35</td>\n",
       "      <td>dim</td>\n",
       "      <td>clear</td>\n",
       "      <td>True</td>\n",
       "      <td>False</td>\n",
       "      <td>afternoon</td>\n",
       "      <td>True</td>\n",
       "      <td>True</td>\n",
       "      <td>1</td>\n",
       "    </tr>\n",
       "    <tr>\n",
       "      <th>3</th>\n",
       "      <td>rural</td>\n",
       "      <td>4</td>\n",
       "      <td>0.95</td>\n",
       "      <td>35</td>\n",
       "      <td>daylight</td>\n",
       "      <td>rainy</td>\n",
       "      <td>False</td>\n",
       "      <td>False</td>\n",
       "      <td>afternoon</td>\n",
       "      <td>False</td>\n",
       "      <td>False</td>\n",
       "      <td>2</td>\n",
       "    </tr>\n",
       "    <tr>\n",
       "      <th>4</th>\n",
       "      <td>highway</td>\n",
       "      <td>2</td>\n",
       "      <td>0.86</td>\n",
       "      <td>35</td>\n",
       "      <td>daylight</td>\n",
       "      <td>clear</td>\n",
       "      <td>True</td>\n",
       "      <td>False</td>\n",
       "      <td>evening</td>\n",
       "      <td>False</td>\n",
       "      <td>True</td>\n",
       "      <td>3</td>\n",
       "    </tr>\n",
       "  </tbody>\n",
       "</table>\n",
       "</div>"
      ],
      "text/plain": [
       "  road_type  num_lanes  curvature  speed_limit  lighting weather  \\\n",
       "0   highway          2       0.34           45     night   clear   \n",
       "1     urban          3       0.04           45       dim   foggy   \n",
       "2     urban          2       0.59           35       dim   clear   \n",
       "3     rural          4       0.95           35  daylight   rainy   \n",
       "4   highway          2       0.86           35  daylight   clear   \n",
       "\n",
       "   road_signs_present  public_road time_of_day  holiday  school_season  \\\n",
       "0                True         True   afternoon     True           True   \n",
       "1                True        False   afternoon     True          False   \n",
       "2                True        False   afternoon     True           True   \n",
       "3               False        False   afternoon    False          False   \n",
       "4                True        False     evening    False           True   \n",
       "\n",
       "   num_reported_accidents  \n",
       "0                       1  \n",
       "1                       0  \n",
       "2                       1  \n",
       "3                       2  \n",
       "4                       3  "
      ]
     },
     "execution_count": 66,
     "metadata": {},
     "output_type": "execute_result"
    }
   ],
   "source": [
    "test_df.head()"
   ]
  },
  {
   "cell_type": "code",
   "execution_count": 67,
   "id": "bd559456-7c05-4f62-81b6-fc8f482660cd",
   "metadata": {},
   "outputs": [
    {
     "data": {
      "text/plain": [
       "array(['urban', 'rural', 'highway'], dtype=object)"
      ]
     },
     "execution_count": 67,
     "metadata": {},
     "output_type": "execute_result"
    }
   ],
   "source": [
    "train_df['road_type'].unique()"
   ]
  },
  {
   "cell_type": "code",
   "execution_count": 68,
   "id": "b32d2471-70ed-46c9-89c9-66bc4c95dd47",
   "metadata": {},
   "outputs": [],
   "source": [
    "map_col = {'urban' : 0,\n",
    "           'rural' : 1,\n",
    "           'highway' : 2\n",
    "          }"
   ]
  },
  {
   "cell_type": "code",
   "execution_count": 69,
   "id": "e9e34064-38b8-4f2b-9912-ee8d276c01ff",
   "metadata": {},
   "outputs": [],
   "source": [
    "train_df['road_type'] = train_df['road_type'].map(map_col)"
   ]
  },
  {
   "cell_type": "code",
   "execution_count": 70,
   "id": "3f8e9a6f-9873-4cd4-8a1a-3e836effb3a5",
   "metadata": {},
   "outputs": [
    {
     "data": {
      "text/plain": [
       "array(['daylight', 'dim', 'night'], dtype=object)"
      ]
     },
     "execution_count": 70,
     "metadata": {},
     "output_type": "execute_result"
    }
   ],
   "source": [
    "train_df['lighting'].unique()"
   ]
  },
  {
   "cell_type": "code",
   "execution_count": 71,
   "id": "b24aaa0d-32e1-4fd2-9284-6e9fb7acedfa",
   "metadata": {},
   "outputs": [],
   "source": [
    "map_col2 = {'daylight' : 0,\n",
    "            'dim' : 1,\n",
    "            'night' : 2\n",
    "           }"
   ]
  },
  {
   "cell_type": "code",
   "execution_count": 72,
   "id": "4547f5f5-8350-4140-a860-45e609b6b55b",
   "metadata": {},
   "outputs": [],
   "source": [
    "train_df['lighting'] = train_df['lighting'].map(map_col2)"
   ]
  },
  {
   "cell_type": "code",
   "execution_count": 73,
   "id": "fa7ab69e-afc4-4ae9-b45a-9f961909ded0",
   "metadata": {},
   "outputs": [
    {
     "data": {
      "text/html": [
       "<div>\n",
       "<style scoped>\n",
       "    .dataframe tbody tr th:only-of-type {\n",
       "        vertical-align: middle;\n",
       "    }\n",
       "\n",
       "    .dataframe tbody tr th {\n",
       "        vertical-align: top;\n",
       "    }\n",
       "\n",
       "    .dataframe thead th {\n",
       "        text-align: right;\n",
       "    }\n",
       "</style>\n",
       "<table border=\"1\" class=\"dataframe\">\n",
       "  <thead>\n",
       "    <tr style=\"text-align: right;\">\n",
       "      <th></th>\n",
       "      <th>road_type</th>\n",
       "      <th>num_lanes</th>\n",
       "      <th>curvature</th>\n",
       "      <th>speed_limit</th>\n",
       "      <th>lighting</th>\n",
       "      <th>weather</th>\n",
       "      <th>road_signs_present</th>\n",
       "      <th>public_road</th>\n",
       "      <th>time_of_day</th>\n",
       "      <th>holiday</th>\n",
       "      <th>school_season</th>\n",
       "      <th>num_reported_accidents</th>\n",
       "      <th>accident_risk</th>\n",
       "    </tr>\n",
       "  </thead>\n",
       "  <tbody>\n",
       "    <tr>\n",
       "      <th>0</th>\n",
       "      <td>0</td>\n",
       "      <td>2</td>\n",
       "      <td>0.06</td>\n",
       "      <td>35</td>\n",
       "      <td>0</td>\n",
       "      <td>rainy</td>\n",
       "      <td>False</td>\n",
       "      <td>True</td>\n",
       "      <td>afternoon</td>\n",
       "      <td>False</td>\n",
       "      <td>True</td>\n",
       "      <td>1</td>\n",
       "      <td>0.13</td>\n",
       "    </tr>\n",
       "    <tr>\n",
       "      <th>1</th>\n",
       "      <td>0</td>\n",
       "      <td>4</td>\n",
       "      <td>0.99</td>\n",
       "      <td>35</td>\n",
       "      <td>0</td>\n",
       "      <td>clear</td>\n",
       "      <td>True</td>\n",
       "      <td>False</td>\n",
       "      <td>evening</td>\n",
       "      <td>True</td>\n",
       "      <td>True</td>\n",
       "      <td>0</td>\n",
       "      <td>0.35</td>\n",
       "    </tr>\n",
       "    <tr>\n",
       "      <th>2</th>\n",
       "      <td>1</td>\n",
       "      <td>4</td>\n",
       "      <td>0.63</td>\n",
       "      <td>70</td>\n",
       "      <td>1</td>\n",
       "      <td>clear</td>\n",
       "      <td>False</td>\n",
       "      <td>True</td>\n",
       "      <td>morning</td>\n",
       "      <td>True</td>\n",
       "      <td>False</td>\n",
       "      <td>2</td>\n",
       "      <td>0.30</td>\n",
       "    </tr>\n",
       "    <tr>\n",
       "      <th>3</th>\n",
       "      <td>2</td>\n",
       "      <td>4</td>\n",
       "      <td>0.07</td>\n",
       "      <td>35</td>\n",
       "      <td>1</td>\n",
       "      <td>rainy</td>\n",
       "      <td>True</td>\n",
       "      <td>True</td>\n",
       "      <td>morning</td>\n",
       "      <td>False</td>\n",
       "      <td>False</td>\n",
       "      <td>1</td>\n",
       "      <td>0.21</td>\n",
       "    </tr>\n",
       "    <tr>\n",
       "      <th>4</th>\n",
       "      <td>1</td>\n",
       "      <td>1</td>\n",
       "      <td>0.58</td>\n",
       "      <td>60</td>\n",
       "      <td>0</td>\n",
       "      <td>foggy</td>\n",
       "      <td>False</td>\n",
       "      <td>False</td>\n",
       "      <td>evening</td>\n",
       "      <td>True</td>\n",
       "      <td>False</td>\n",
       "      <td>1</td>\n",
       "      <td>0.56</td>\n",
       "    </tr>\n",
       "  </tbody>\n",
       "</table>\n",
       "</div>"
      ],
      "text/plain": [
       "   road_type  num_lanes  curvature  speed_limit  lighting weather  \\\n",
       "0          0          2       0.06           35         0   rainy   \n",
       "1          0          4       0.99           35         0   clear   \n",
       "2          1          4       0.63           70         1   clear   \n",
       "3          2          4       0.07           35         1   rainy   \n",
       "4          1          1       0.58           60         0   foggy   \n",
       "\n",
       "   road_signs_present  public_road time_of_day  holiday  school_season  \\\n",
       "0               False         True   afternoon    False           True   \n",
       "1                True        False     evening     True           True   \n",
       "2               False         True     morning     True          False   \n",
       "3                True         True     morning    False          False   \n",
       "4               False        False     evening     True          False   \n",
       "\n",
       "   num_reported_accidents  accident_risk  \n",
       "0                       1           0.13  \n",
       "1                       0           0.35  \n",
       "2                       2           0.30  \n",
       "3                       1           0.21  \n",
       "4                       1           0.56  "
      ]
     },
     "execution_count": 73,
     "metadata": {},
     "output_type": "execute_result"
    }
   ],
   "source": [
    "train_df.head()"
   ]
  },
  {
   "cell_type": "code",
   "execution_count": 74,
   "id": "4fb2538b-cf16-47b2-b399-e65a2df4881a",
   "metadata": {},
   "outputs": [
    {
     "data": {
      "text/plain": [
       "array(['rainy', 'clear', 'foggy'], dtype=object)"
      ]
     },
     "execution_count": 74,
     "metadata": {},
     "output_type": "execute_result"
    }
   ],
   "source": [
    "train_df['weather'].unique()"
   ]
  },
  {
   "cell_type": "code",
   "execution_count": 75,
   "id": "3afa4337-ab56-4d83-9609-392b31893444",
   "metadata": {},
   "outputs": [],
   "source": [
    "map_col3 = {'rainy' : 0,\n",
    "            'clear' : 1,\n",
    "            'foggy' : 2\n",
    "           }\n",
    "train_df['weather'] = train_df['weather'].map(map_col3)"
   ]
  },
  {
   "cell_type": "code",
   "execution_count": 76,
   "id": "a2dee4f2-f3d7-455c-bc7f-0345877799b1",
   "metadata": {},
   "outputs": [
    {
     "data": {
      "text/plain": [
       "array(['afternoon', 'evening', 'morning'], dtype=object)"
      ]
     },
     "execution_count": 76,
     "metadata": {},
     "output_type": "execute_result"
    }
   ],
   "source": [
    "train_df['time_of_day'].unique()"
   ]
  },
  {
   "cell_type": "code",
   "execution_count": 78,
   "id": "48c8d201-55fb-4549-a1de-f12355725791",
   "metadata": {},
   "outputs": [],
   "source": [
    "map_col4 = {'afternoon' :  0,\n",
    "            'evening' : 1,\n",
    "            'morning' : 2\n",
    "           }\n",
    "train_df['time_of_day'] = train_df['time_of_day'].map(map_col4)"
   ]
  },
  {
   "cell_type": "code",
   "execution_count": 79,
   "id": "8067729e-cb7a-45be-8772-032af7747c8a",
   "metadata": {},
   "outputs": [],
   "source": [
    "X = train_df.drop(columns='accident_risk')\n",
    "y = train_df['accident_risk']"
   ]
  },
  {
   "cell_type": "code",
   "execution_count": 85,
   "id": "36113377-87c1-4a21-b8f1-1a5378e507a7",
   "metadata": {},
   "outputs": [],
   "source": [
    "from sklearn.model_selection import train_test_split\n",
    "X_train, X_val, y_train, y_val = train_test_split(X, y, test_size=0.2)"
   ]
  },
  {
   "cell_type": "code",
   "execution_count": 86,
   "id": "64682ee3-6bab-4370-a21d-38bd8bc66cb0",
   "metadata": {},
   "outputs": [
    {
     "data": {
      "text/html": [
       "<div>\n",
       "<style scoped>\n",
       "    .dataframe tbody tr th:only-of-type {\n",
       "        vertical-align: middle;\n",
       "    }\n",
       "\n",
       "    .dataframe tbody tr th {\n",
       "        vertical-align: top;\n",
       "    }\n",
       "\n",
       "    .dataframe thead th {\n",
       "        text-align: right;\n",
       "    }\n",
       "</style>\n",
       "<table border=\"1\" class=\"dataframe\">\n",
       "  <thead>\n",
       "    <tr style=\"text-align: right;\">\n",
       "      <th></th>\n",
       "      <th>road_type</th>\n",
       "      <th>num_lanes</th>\n",
       "      <th>curvature</th>\n",
       "      <th>speed_limit</th>\n",
       "      <th>lighting</th>\n",
       "      <th>weather</th>\n",
       "      <th>road_signs_present</th>\n",
       "      <th>public_road</th>\n",
       "      <th>time_of_day</th>\n",
       "      <th>holiday</th>\n",
       "      <th>school_season</th>\n",
       "      <th>num_reported_accidents</th>\n",
       "    </tr>\n",
       "  </thead>\n",
       "  <tbody>\n",
       "    <tr>\n",
       "      <th>485703</th>\n",
       "      <td>1</td>\n",
       "      <td>2</td>\n",
       "      <td>0.46</td>\n",
       "      <td>25</td>\n",
       "      <td>1</td>\n",
       "      <td>1</td>\n",
       "      <td>True</td>\n",
       "      <td>True</td>\n",
       "      <td>0</td>\n",
       "      <td>False</td>\n",
       "      <td>False</td>\n",
       "      <td>1</td>\n",
       "    </tr>\n",
       "    <tr>\n",
       "      <th>264305</th>\n",
       "      <td>0</td>\n",
       "      <td>4</td>\n",
       "      <td>0.78</td>\n",
       "      <td>35</td>\n",
       "      <td>2</td>\n",
       "      <td>2</td>\n",
       "      <td>True</td>\n",
       "      <td>True</td>\n",
       "      <td>1</td>\n",
       "      <td>True</td>\n",
       "      <td>True</td>\n",
       "      <td>3</td>\n",
       "    </tr>\n",
       "    <tr>\n",
       "      <th>470487</th>\n",
       "      <td>2</td>\n",
       "      <td>4</td>\n",
       "      <td>0.16</td>\n",
       "      <td>45</td>\n",
       "      <td>1</td>\n",
       "      <td>2</td>\n",
       "      <td>True</td>\n",
       "      <td>True</td>\n",
       "      <td>0</td>\n",
       "      <td>False</td>\n",
       "      <td>False</td>\n",
       "      <td>2</td>\n",
       "    </tr>\n",
       "    <tr>\n",
       "      <th>338483</th>\n",
       "      <td>1</td>\n",
       "      <td>2</td>\n",
       "      <td>0.68</td>\n",
       "      <td>45</td>\n",
       "      <td>1</td>\n",
       "      <td>0</td>\n",
       "      <td>True</td>\n",
       "      <td>False</td>\n",
       "      <td>1</td>\n",
       "      <td>True</td>\n",
       "      <td>False</td>\n",
       "      <td>2</td>\n",
       "    </tr>\n",
       "    <tr>\n",
       "      <th>274359</th>\n",
       "      <td>1</td>\n",
       "      <td>1</td>\n",
       "      <td>0.01</td>\n",
       "      <td>25</td>\n",
       "      <td>1</td>\n",
       "      <td>1</td>\n",
       "      <td>True</td>\n",
       "      <td>False</td>\n",
       "      <td>2</td>\n",
       "      <td>True</td>\n",
       "      <td>False</td>\n",
       "      <td>1</td>\n",
       "    </tr>\n",
       "  </tbody>\n",
       "</table>\n",
       "</div>"
      ],
      "text/plain": [
       "        road_type  num_lanes  curvature  speed_limit  lighting  weather  \\\n",
       "485703          1          2       0.46           25         1        1   \n",
       "264305          0          4       0.78           35         2        2   \n",
       "470487          2          4       0.16           45         1        2   \n",
       "338483          1          2       0.68           45         1        0   \n",
       "274359          1          1       0.01           25         1        1   \n",
       "\n",
       "        road_signs_present  public_road  time_of_day  holiday  school_season  \\\n",
       "485703                True         True            0    False          False   \n",
       "264305                True         True            1     True           True   \n",
       "470487                True         True            0    False          False   \n",
       "338483                True        False            1     True          False   \n",
       "274359                True        False            2     True          False   \n",
       "\n",
       "        num_reported_accidents  \n",
       "485703                       1  \n",
       "264305                       3  \n",
       "470487                       2  \n",
       "338483                       2  \n",
       "274359                       1  "
      ]
     },
     "execution_count": 86,
     "metadata": {},
     "output_type": "execute_result"
    }
   ],
   "source": [
    "X_train.head()"
   ]
  },
  {
   "cell_type": "code",
   "execution_count": null,
   "id": "fe056d2a-1415-4e4e-81ca-dc14d9238555",
   "metadata": {},
   "outputs": [],
   "source": [
    "from lazypredict.Supervised import LazyRegressor\n",
    "reg = LazyRegressor(verbose=0)\n",
    "models, predictions = reg.fit(X_train[:30000], X_val[:30000], y_train[:30000], y_val[:30000])\n",
    "\n",
    "print(models)"
   ]
  },
  {
   "cell_type": "code",
   "execution_count": null,
   "id": "10358f7a-8635-432f-96e4-30801e5a2659",
   "metadata": {},
   "outputs": [],
   "source": []
  }
 ],
 "metadata": {
  "kernelspec": {
   "display_name": "Python [conda env:base] *",
   "language": "python",
   "name": "conda-base-py"
  },
  "language_info": {
   "codemirror_mode": {
    "name": "ipython",
    "version": 3
   },
   "file_extension": ".py",
   "mimetype": "text/x-python",
   "name": "python",
   "nbconvert_exporter": "python",
   "pygments_lexer": "ipython3",
   "version": "3.13.5"
  }
 },
 "nbformat": 4,
 "nbformat_minor": 5
}
