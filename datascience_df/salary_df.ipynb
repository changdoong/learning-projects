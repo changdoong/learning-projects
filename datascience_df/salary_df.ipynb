{
 "cells": [
  {
   "cell_type": "markdown",
   "id": "7454dbd7-37a8-4058-8a19-6b837f7cce65",
   "metadata": {},
   "source": [
    "# 문제 정의 : 직무 / 경력 / 고용 형태 / 회사 규모에 따른 연봉 비교\n",
    "#### 사용 분석 방법 : 드릴다운(Drill-down)"
   ]
  },
  {
   "cell_type": "code",
   "execution_count": 1,
   "id": "f308b7e3-3339-498f-a12b-7f86c69a0698",
   "metadata": {},
   "outputs": [
    {
     "data": {
      "text/html": [
       "<div>\n",
       "<style scoped>\n",
       "    .dataframe tbody tr th:only-of-type {\n",
       "        vertical-align: middle;\n",
       "    }\n",
       "\n",
       "    .dataframe tbody tr th {\n",
       "        vertical-align: top;\n",
       "    }\n",
       "\n",
       "    .dataframe thead th {\n",
       "        text-align: right;\n",
       "    }\n",
       "</style>\n",
       "<table border=\"1\" class=\"dataframe\">\n",
       "  <thead>\n",
       "    <tr style=\"text-align: right;\">\n",
       "      <th></th>\n",
       "      <th>work_year</th>\n",
       "      <th>experience_level</th>\n",
       "      <th>employment_type</th>\n",
       "      <th>job_title</th>\n",
       "      <th>salary</th>\n",
       "      <th>salary_currency</th>\n",
       "      <th>salary_in_usd</th>\n",
       "      <th>employee_residence</th>\n",
       "      <th>remote_ratio</th>\n",
       "      <th>company_location</th>\n",
       "      <th>company_size</th>\n",
       "    </tr>\n",
       "  </thead>\n",
       "  <tbody>\n",
       "    <tr>\n",
       "      <th>0</th>\n",
       "      <td>2025</td>\n",
       "      <td>MI</td>\n",
       "      <td>FT</td>\n",
       "      <td>Analyst</td>\n",
       "      <td>142000</td>\n",
       "      <td>USD</td>\n",
       "      <td>142000</td>\n",
       "      <td>US</td>\n",
       "      <td>0</td>\n",
       "      <td>US</td>\n",
       "      <td>M</td>\n",
       "    </tr>\n",
       "    <tr>\n",
       "      <th>1</th>\n",
       "      <td>2025</td>\n",
       "      <td>MI</td>\n",
       "      <td>FT</td>\n",
       "      <td>Analyst</td>\n",
       "      <td>87000</td>\n",
       "      <td>USD</td>\n",
       "      <td>87000</td>\n",
       "      <td>US</td>\n",
       "      <td>0</td>\n",
       "      <td>US</td>\n",
       "      <td>M</td>\n",
       "    </tr>\n",
       "    <tr>\n",
       "      <th>2</th>\n",
       "      <td>2025</td>\n",
       "      <td>SE</td>\n",
       "      <td>FT</td>\n",
       "      <td>Data Quality Lead</td>\n",
       "      <td>218700</td>\n",
       "      <td>USD</td>\n",
       "      <td>218700</td>\n",
       "      <td>US</td>\n",
       "      <td>0</td>\n",
       "      <td>US</td>\n",
       "      <td>M</td>\n",
       "    </tr>\n",
       "    <tr>\n",
       "      <th>3</th>\n",
       "      <td>2025</td>\n",
       "      <td>SE</td>\n",
       "      <td>FT</td>\n",
       "      <td>Data Quality Lead</td>\n",
       "      <td>163200</td>\n",
       "      <td>USD</td>\n",
       "      <td>163200</td>\n",
       "      <td>US</td>\n",
       "      <td>0</td>\n",
       "      <td>US</td>\n",
       "      <td>M</td>\n",
       "    </tr>\n",
       "    <tr>\n",
       "      <th>4</th>\n",
       "      <td>2025</td>\n",
       "      <td>MI</td>\n",
       "      <td>FT</td>\n",
       "      <td>Data Quality Specialist</td>\n",
       "      <td>121524</td>\n",
       "      <td>USD</td>\n",
       "      <td>121524</td>\n",
       "      <td>US</td>\n",
       "      <td>0</td>\n",
       "      <td>US</td>\n",
       "      <td>M</td>\n",
       "    </tr>\n",
       "    <tr>\n",
       "      <th>...</th>\n",
       "      <td>...</td>\n",
       "      <td>...</td>\n",
       "      <td>...</td>\n",
       "      <td>...</td>\n",
       "      <td>...</td>\n",
       "      <td>...</td>\n",
       "      <td>...</td>\n",
       "      <td>...</td>\n",
       "      <td>...</td>\n",
       "      <td>...</td>\n",
       "      <td>...</td>\n",
       "    </tr>\n",
       "    <tr>\n",
       "      <th>146343</th>\n",
       "      <td>2020</td>\n",
       "      <td>SE</td>\n",
       "      <td>FT</td>\n",
       "      <td>Data Scientist</td>\n",
       "      <td>412000</td>\n",
       "      <td>USD</td>\n",
       "      <td>412000</td>\n",
       "      <td>US</td>\n",
       "      <td>100</td>\n",
       "      <td>US</td>\n",
       "      <td>L</td>\n",
       "    </tr>\n",
       "    <tr>\n",
       "      <th>146344</th>\n",
       "      <td>2021</td>\n",
       "      <td>MI</td>\n",
       "      <td>FT</td>\n",
       "      <td>Principal Data Scientist</td>\n",
       "      <td>151000</td>\n",
       "      <td>USD</td>\n",
       "      <td>151000</td>\n",
       "      <td>US</td>\n",
       "      <td>100</td>\n",
       "      <td>US</td>\n",
       "      <td>L</td>\n",
       "    </tr>\n",
       "    <tr>\n",
       "      <th>146345</th>\n",
       "      <td>2020</td>\n",
       "      <td>EN</td>\n",
       "      <td>FT</td>\n",
       "      <td>Data Scientist</td>\n",
       "      <td>105000</td>\n",
       "      <td>USD</td>\n",
       "      <td>105000</td>\n",
       "      <td>US</td>\n",
       "      <td>100</td>\n",
       "      <td>US</td>\n",
       "      <td>S</td>\n",
       "    </tr>\n",
       "    <tr>\n",
       "      <th>146346</th>\n",
       "      <td>2020</td>\n",
       "      <td>EN</td>\n",
       "      <td>CT</td>\n",
       "      <td>Business Data Analyst</td>\n",
       "      <td>100000</td>\n",
       "      <td>USD</td>\n",
       "      <td>100000</td>\n",
       "      <td>US</td>\n",
       "      <td>100</td>\n",
       "      <td>US</td>\n",
       "      <td>L</td>\n",
       "    </tr>\n",
       "    <tr>\n",
       "      <th>146347</th>\n",
       "      <td>2021</td>\n",
       "      <td>SE</td>\n",
       "      <td>FT</td>\n",
       "      <td>Data Scientist</td>\n",
       "      <td>7000000</td>\n",
       "      <td>INR</td>\n",
       "      <td>94665</td>\n",
       "      <td>IN</td>\n",
       "      <td>50</td>\n",
       "      <td>IN</td>\n",
       "      <td>L</td>\n",
       "    </tr>\n",
       "  </tbody>\n",
       "</table>\n",
       "<p>146348 rows × 11 columns</p>\n",
       "</div>"
      ],
      "text/plain": [
       "        work_year experience_level employment_type                 job_title  \\\n",
       "0            2025               MI              FT                   Analyst   \n",
       "1            2025               MI              FT                   Analyst   \n",
       "2            2025               SE              FT         Data Quality Lead   \n",
       "3            2025               SE              FT         Data Quality Lead   \n",
       "4            2025               MI              FT   Data Quality Specialist   \n",
       "...           ...              ...             ...                       ...   \n",
       "146343       2020               SE              FT            Data Scientist   \n",
       "146344       2021               MI              FT  Principal Data Scientist   \n",
       "146345       2020               EN              FT            Data Scientist   \n",
       "146346       2020               EN              CT     Business Data Analyst   \n",
       "146347       2021               SE              FT            Data Scientist   \n",
       "\n",
       "         salary salary_currency  salary_in_usd employee_residence  \\\n",
       "0        142000             USD         142000                 US   \n",
       "1         87000             USD          87000                 US   \n",
       "2        218700             USD         218700                 US   \n",
       "3        163200             USD         163200                 US   \n",
       "4        121524             USD         121524                 US   \n",
       "...         ...             ...            ...                ...   \n",
       "146343   412000             USD         412000                 US   \n",
       "146344   151000             USD         151000                 US   \n",
       "146345   105000             USD         105000                 US   \n",
       "146346   100000             USD         100000                 US   \n",
       "146347  7000000             INR          94665                 IN   \n",
       "\n",
       "        remote_ratio company_location company_size  \n",
       "0                  0               US            M  \n",
       "1                  0               US            M  \n",
       "2                  0               US            M  \n",
       "3                  0               US            M  \n",
       "4                  0               US            M  \n",
       "...              ...              ...          ...  \n",
       "146343           100               US            L  \n",
       "146344           100               US            L  \n",
       "146345           100               US            S  \n",
       "146346           100               US            L  \n",
       "146347            50               IN            L  \n",
       "\n",
       "[146348 rows x 11 columns]"
      ]
     },
     "execution_count": 1,
     "metadata": {},
     "output_type": "execute_result"
    }
   ],
   "source": [
    "import pandas as pd\n",
    "import matplotlib.pyplot as plt\n",
    "import seaborn as sns\n",
    "\n",
    "salary_df = pd.read_csv('salaries.csv')\n",
    "salary_df"
   ]
  },
  {
   "cell_type": "markdown",
   "id": "3f1f54a2-7173-47a5-a853-29c89028f2c5",
   "metadata": {},
   "source": [
    "#### 컬럼 설명\n",
    "\n",
    "- work_year :          급여 보고 연도\n",
    "- experience_level :   경력 수준 (EN : 신입 MI : 중간 SE : 고급 EX: 관리자)\n",
    "- employment_type :    고용 계약 유형 (FT : 정규직 CT : 계약직 PT : 파트타임 FL : 프리랜서)\n",
    "- job_title :          직업 종류\n",
    "- salary :             연봉\n",
    "- salary_currency :    급여 지급 통화\n",
    "- salary_in_usd :      환율 usd로 통일\n",
    "- employee_residence : 환율 종류\n",
    "- remote_ratio :       원격 근무의 백분율\n",
    "- company_location :   회사 또는 고용주의 본사가 있는 국가\n",
    "- company_size :       회사 크기"
   ]
  },
  {
   "cell_type": "markdown",
   "id": "a3318121-cd00-414a-8fb8-1ffe5821ff20",
   "metadata": {},
   "source": [
    "## 데이터 이해 및 정리"
   ]
  },
  {
   "cell_type": "code",
   "execution_count": 2,
   "id": "32f8351b-ca90-4dda-b8d9-833d0dac3c1c",
   "metadata": {},
   "outputs": [
    {
     "data": {
      "text/plain": [
       "(146348, 11)"
      ]
     },
     "execution_count": 2,
     "metadata": {},
     "output_type": "execute_result"
    }
   ],
   "source": [
    "salary_df.shape"
   ]
  },
  {
   "cell_type": "code",
   "execution_count": 69,
   "id": "c4060e4e-8500-4580-b4ca-6bc591604c8b",
   "metadata": {},
   "outputs": [
    {
     "data": {
      "text/html": [
       "<div>\n",
       "<style scoped>\n",
       "    .dataframe tbody tr th:only-of-type {\n",
       "        vertical-align: middle;\n",
       "    }\n",
       "\n",
       "    .dataframe tbody tr th {\n",
       "        vertical-align: top;\n",
       "    }\n",
       "\n",
       "    .dataframe thead th {\n",
       "        text-align: right;\n",
       "    }\n",
       "</style>\n",
       "<table border=\"1\" class=\"dataframe\">\n",
       "  <thead>\n",
       "    <tr style=\"text-align: right;\">\n",
       "      <th></th>\n",
       "      <th>Missing Values</th>\n",
       "      <th>Missing Percents</th>\n",
       "    </tr>\n",
       "  </thead>\n",
       "  <tbody>\n",
       "  </tbody>\n",
       "</table>\n",
       "</div>"
      ],
      "text/plain": [
       "Empty DataFrame\n",
       "Columns: [Missing Values, Missing Percents]\n",
       "Index: []"
      ]
     },
     "execution_count": 69,
     "metadata": {},
     "output_type": "execute_result"
    }
   ],
   "source": [
    "salary_values = salary_df.isna().sum()\n",
    "salary_percents = (salary_values / len(salary_df)) * 100\n",
    "\n",
    "missing_df = pd.DataFrame({\n",
    "    'Missing Values' : salary_values,\n",
    "    'Missing Percents' : salary_percents\n",
    "})\n",
    "missing_df[missing_df['Missing Values'] > 0]"
   ]
  },
  {
   "cell_type": "code",
   "execution_count": 62,
   "id": "299515af-7e4f-4d0f-8b1d-05e3e696a461",
   "metadata": {},
   "outputs": [
    {
     "data": {
      "text/html": [
       "<style type=\"text/css\">\n",
       "#T_30366_row0_col0, #T_30366_row0_col2, #T_30366_row0_col7, #T_30366_row1_col0, #T_30366_row2_col0, #T_30366_row3_col0, #T_30366_row3_col1, #T_30366_row3_col2, #T_30366_row3_col3, #T_30366_row3_col4, #T_30366_row3_col5, #T_30366_row3_col6, #T_30366_row3_col7 {\n",
       "  background-color: #f7fbff;\n",
       "  color: #000000;\n",
       "}\n",
       "#T_30366_row0_col1, #T_30366_row0_col5 {\n",
       "  background-color: #f5f9fe;\n",
       "  color: #000000;\n",
       "}\n",
       "#T_30366_row0_col3 {\n",
       "  background-color: #dceaf6;\n",
       "  color: #000000;\n",
       "}\n",
       "#T_30366_row0_col4 {\n",
       "  background-color: #f4f9fe;\n",
       "  color: #000000;\n",
       "}\n",
       "#T_30366_row0_col6 {\n",
       "  background-color: #f5fafe;\n",
       "  color: #000000;\n",
       "}\n",
       "#T_30366_row1_col1, #T_30366_row1_col2, #T_30366_row1_col4, #T_30366_row1_col5, #T_30366_row1_col6, #T_30366_row1_col7, #T_30366_row2_col3, #T_30366_row2_col4 {\n",
       "  background-color: #08306b;\n",
       "  color: #f1f1f1;\n",
       "}\n",
       "#T_30366_row1_col3 {\n",
       "  background-color: #084285;\n",
       "  color: #f1f1f1;\n",
       "}\n",
       "#T_30366_row2_col1 {\n",
       "  background-color: #083877;\n",
       "  color: #f1f1f1;\n",
       "}\n",
       "#T_30366_row2_col2 {\n",
       "  background-color: #a5cde3;\n",
       "  color: #000000;\n",
       "}\n",
       "#T_30366_row2_col5, #T_30366_row2_col6 {\n",
       "  background-color: #08316d;\n",
       "  color: #f1f1f1;\n",
       "}\n",
       "#T_30366_row2_col7 {\n",
       "  background-color: #f2f8fd;\n",
       "  color: #000000;\n",
       "}\n",
       "</style>\n",
       "<table id=\"T_30366\">\n",
       "  <thead>\n",
       "    <tr>\n",
       "      <th class=\"blank level0\" >&nbsp;</th>\n",
       "      <th id=\"T_30366_level0_col0\" class=\"col_heading level0 col0\" >count</th>\n",
       "      <th id=\"T_30366_level0_col1\" class=\"col_heading level0 col1\" >mean</th>\n",
       "      <th id=\"T_30366_level0_col2\" class=\"col_heading level0 col2\" >std</th>\n",
       "      <th id=\"T_30366_level0_col3\" class=\"col_heading level0 col3\" >min</th>\n",
       "      <th id=\"T_30366_level0_col4\" class=\"col_heading level0 col4\" >25%</th>\n",
       "      <th id=\"T_30366_level0_col5\" class=\"col_heading level0 col5\" >50%</th>\n",
       "      <th id=\"T_30366_level0_col6\" class=\"col_heading level0 col6\" >75%</th>\n",
       "      <th id=\"T_30366_level0_col7\" class=\"col_heading level0 col7\" >max</th>\n",
       "    </tr>\n",
       "  </thead>\n",
       "  <tbody>\n",
       "    <tr>\n",
       "      <th id=\"T_30366_level0_row0\" class=\"row_heading level0 row0\" >work_year</th>\n",
       "      <td id=\"T_30366_row0_col0\" class=\"data row0 col0\" >146348.000000</td>\n",
       "      <td id=\"T_30366_row0_col1\" class=\"data row0 col1\" >2024.415646</td>\n",
       "      <td id=\"T_30366_row0_col2\" class=\"data row0 col2\" >0.674981</td>\n",
       "      <td id=\"T_30366_row0_col3\" class=\"data row0 col3\" >2020.000000</td>\n",
       "      <td id=\"T_30366_row0_col4\" class=\"data row0 col4\" >2024.000000</td>\n",
       "      <td id=\"T_30366_row0_col5\" class=\"data row0 col5\" >2025.000000</td>\n",
       "      <td id=\"T_30366_row0_col6\" class=\"data row0 col6\" >2025.000000</td>\n",
       "      <td id=\"T_30366_row0_col7\" class=\"data row0 col7\" >2025.000000</td>\n",
       "    </tr>\n",
       "    <tr>\n",
       "      <th id=\"T_30366_level0_row1\" class=\"row_heading level0 row1\" >salary</th>\n",
       "      <td id=\"T_30366_row1_col0\" class=\"data row1 col0\" >146348.000000</td>\n",
       "      <td id=\"T_30366_row1_col1\" class=\"data row1 col1\" >162926.671714</td>\n",
       "      <td id=\"T_30366_row1_col2\" class=\"data row1 col2\" >210609.096274</td>\n",
       "      <td id=\"T_30366_row1_col3\" class=\"data row1 col3\" >14000.000000</td>\n",
       "      <td id=\"T_30366_row1_col4\" class=\"data row1 col4\" >106000.000000</td>\n",
       "      <td id=\"T_30366_row1_col5\" class=\"data row1 col5\" >147000.000000</td>\n",
       "      <td id=\"T_30366_row1_col6\" class=\"data row1 col6\" >199000.000000</td>\n",
       "      <td id=\"T_30366_row1_col7\" class=\"data row1 col7\" >30400000.000000</td>\n",
       "    </tr>\n",
       "    <tr>\n",
       "      <th id=\"T_30366_level0_row2\" class=\"row_heading level0 row2\" >salary_in_usd</th>\n",
       "      <td id=\"T_30366_row2_col0\" class=\"data row2 col0\" >146348.000000</td>\n",
       "      <td id=\"T_30366_row2_col1\" class=\"data row2 col1\" >157485.290691</td>\n",
       "      <td id=\"T_30366_row2_col2\" class=\"data row2 col2\" >74134.134223</td>\n",
       "      <td id=\"T_30366_row2_col3\" class=\"data row2 col3\" >15000.000000</td>\n",
       "      <td id=\"T_30366_row2_col4\" class=\"data row2 col4\" >106000.000000</td>\n",
       "      <td id=\"T_30366_row2_col5\" class=\"data row2 col5\" >146100.000000</td>\n",
       "      <td id=\"T_30366_row2_col6\" class=\"data row2 col6\" >198000.000000</td>\n",
       "      <td id=\"T_30366_row2_col7\" class=\"data row2 col7\" >800000.000000</td>\n",
       "    </tr>\n",
       "    <tr>\n",
       "      <th id=\"T_30366_level0_row3\" class=\"row_heading level0 row3\" >remote_ratio</th>\n",
       "      <td id=\"T_30366_row3_col0\" class=\"data row3 col0\" >146348.000000</td>\n",
       "      <td id=\"T_30366_row3_col1\" class=\"data row3 col1\" >20.901550</td>\n",
       "      <td id=\"T_30366_row3_col2\" class=\"data row3 col2\" >40.591728</td>\n",
       "      <td id=\"T_30366_row3_col3\" class=\"data row3 col3\" >0.000000</td>\n",
       "      <td id=\"T_30366_row3_col4\" class=\"data row3 col4\" >0.000000</td>\n",
       "      <td id=\"T_30366_row3_col5\" class=\"data row3 col5\" >0.000000</td>\n",
       "      <td id=\"T_30366_row3_col6\" class=\"data row3 col6\" >0.000000</td>\n",
       "      <td id=\"T_30366_row3_col7\" class=\"data row3 col7\" >100.000000</td>\n",
       "    </tr>\n",
       "  </tbody>\n",
       "</table>\n"
      ],
      "text/plain": [
       "<pandas.io.formats.style.Styler at 0x16de90d8b00>"
      ]
     },
     "execution_count": 62,
     "metadata": {},
     "output_type": "execute_result"
    }
   ],
   "source": [
    "salary_df.describe().T.style.background_gradient(cmap='Blues')"
   ]
  },
  {
   "cell_type": "markdown",
   "id": "f48e387d-03a4-4af0-8be8-8d81dd505adb",
   "metadata": {},
   "source": [
    "#### 고유값 확인 "
   ]
  },
  {
   "cell_type": "code",
   "execution_count": 3,
   "id": "edae086a-9367-4822-b29f-beac440740ab",
   "metadata": {},
   "outputs": [
    {
     "name": "stdout",
     "output_type": "stream",
     "text": [
      "experience_level\n",
      "SE    84659\n",
      "MI    44410\n",
      "EN    13466\n",
      "EX     3813\n",
      "Name: count, dtype: int64\n"
     ]
    }
   ],
   "source": [
    "print(salary_df['experience_level'].value_counts())"
   ]
  },
  {
   "cell_type": "code",
   "execution_count": 4,
   "id": "e12df8b0-195b-45a7-8635-d00a550f539d",
   "metadata": {},
   "outputs": [
    {
     "name": "stdout",
     "output_type": "stream",
     "text": [
      "company_size\n",
      "M    142292\n",
      "L      3839\n",
      "S       217\n",
      "Name: count, dtype: int64\n"
     ]
    }
   ],
   "source": [
    "print(salary_df['company_size'].value_counts())"
   ]
  },
  {
   "cell_type": "code",
   "execution_count": 5,
   "id": "7528338b-d5bc-4602-b2ed-5b68d831ed90",
   "metadata": {},
   "outputs": [
    {
     "name": "stdout",
     "output_type": "stream",
     "text": [
      "remote_ratio\n",
      "0      115595\n",
      "100     30425\n",
      "50        328\n",
      "Name: count, dtype: int64\n"
     ]
    }
   ],
   "source": [
    "print(salary_df['remote_ratio'].value_counts())"
   ]
  },
  {
   "cell_type": "markdown",
   "id": "01d610a5-9823-4182-aa12-01026dae4a07",
   "metadata": {},
   "source": [
    "### EDA 분석"
   ]
  },
  {
   "cell_type": "code",
   "execution_count": 82,
   "id": "7cf3573b-d200-4194-8b5d-0e037ecd50a4",
   "metadata": {},
   "outputs": [
    {
     "data": {
      "text/plain": [
       "(0.0, 800000.0)"
      ]
     },
     "execution_count": 82,
     "metadata": {},
     "output_type": "execute_result"
    },
    {
     "data": {
      "image/png": "[encoded data removed]",
      "text/plain": [
       "<Figure size 640x480 with 1 Axes>"
      ]
     },
     "metadata": {},
     "output_type": "display_data"
    }
   ],
   "source": [
    "sns.histplot(salary_df['salary_in_usd'],bins=50)\n",
    "plt.axvline(salary_df['salary_in_usd'].median(), color = 'green', linestyle='--')\n",
    "plt.axvline(salary_df['salary_in_usd'].mean(),color = 'red', linestyle='--')\n",
    "plt.title('salary in USD')\n",
    "plt.xlim(0,800000)"
   ]
  },
  {
   "cell_type": "markdown",
   "id": "467d1c28-dddc-43e9-b046-ea6f2e5a56da",
   "metadata": {},
   "source": [
    "사용 목적 : 전체 데이터에서 연봉의 분포가 어떻게 형성되어 있는지를 확인하기 위해 히스토그램을 사용\n",
    "- 5만달러에서 30만달러의 연봉을 받는 사람이 대부분이고                  \n",
    "- 15만 달러정도가 중앙값, 16만 달러 정도의 연봉을 평균적으로 받고 있음"
   ]
  },
  {
   "cell_type": "code",
   "execution_count": 83,
   "id": "8d7b434f-781a-4c0c-9f47-60343b71ee66",
   "metadata": {},
   "outputs": [
    {
     "data": {
      "image/png": "[encoded data removed]",
      "text/plain": [
       "<Figure size 640x480 with 1 Axes>"
      ]
     },
     "metadata": {},
     "output_type": "display_data"
    }
   ],
   "source": [
    "sns.boxplot(data=salary_df, x = 'experience_level', y='salary_in_usd')\n",
    "plt.grid()"
   ]
  },
  {
   "cell_type": "markdown",
   "id": "73d7ac13-483c-4499-a2c6-934d7299fbbd",
   "metadata": {},
   "source": [
    "사용 목적 :각 직업 또는 경력 수준별 연봉의 범위와 이상치가 어떻게 분포하는지를 확인하기 위해 박스 플롯을 활용\n",
    "- EX(관리자)의 연봉은 평균이 매우 높지만 데이터 수가 적어 이상치의 영항도 큼                                 \n",
    "- 연봉은 경력과 깊은 관계가 있음                                               \n",
    "- 신입의 경우 초봉의 경우가 대부분이지만 높은 연봉을 받는 사람도 많음                                            "
   ]
  },
  {
   "cell_type": "code",
   "execution_count": 8,
   "id": "2a9da6d4-cb5e-4ba5-903d-ea758d7baaf7",
   "metadata": {},
   "outputs": [
    {
     "data": {
      "text/plain": [
       "<Axes: ylabel='job_title'>"
      ]
     },
     "execution_count": 8,
     "metadata": {},
     "output_type": "execute_result"
    },
    {
     "data": {
      "image/png": "[encoded data removed]",
      "text/plain": [
       "<Figure size 640x480 with 1 Axes>"
      ]
     },
     "metadata": {},
     "output_type": "display_data"
    }
   ],
   "source": [
    "# 경력별 연봉 차이\n",
    "salary_df.groupby(['job_title','experience_level'])['salary_in_usd'].mean().sort_values(ascending=False).head(30).unstack().plot(kind='barh')"
   ]
  },
  {
   "cell_type": "markdown",
   "id": "bd40c0ac-eefc-4f11-b799-32e578a8c005",
   "metadata": {},
   "source": [
    "1. EX, SE, MI, EN 순으로 연봉 차이가 큼 (경력 상승이 연봉상승에 직접적 연결됨)\n",
    "2. 고경력자가 상위 연봉을 차지하는 경우도 많이 볼 수 있고 신입도 연봉 상위에 있는 경우가 있음\n",
    "3. 연봉 상위 30개의 직업중 AI 중심 직무의 비율이 매우 높아 AI 관련 직무의 시장 가치가 매우 높다는 것을 알 수 있음."
   ]
  },
  {
   "cell_type": "code",
   "execution_count": 100,
   "id": "1ffcd8b1-321d-4e25-bccb-657dbe61988a",
   "metadata": {},
   "outputs": [
    {
     "name": "stdout",
     "output_type": "stream",
     "text": [
      "job_title\n",
      "Data Scientist               18311\n",
      "Software Engineer            16416\n",
      "Data Engineer                15965\n",
      "Data Analyst                 13423\n",
      "Engineer                     10566\n",
      "Machine Learning Engineer     8705\n",
      "Manager                       7473\n",
      "Analyst                       5088\n",
      "Research Scientist            3372\n",
      "Product Manager               2472\n",
      "Applied Scientist             2339\n",
      "Associate                     2291\n",
      "Data Architect                2158\n",
      "Analytics Engineer            2073\n",
      "AI Engineer                   1911\n",
      "Name: count, dtype: int64\n"
     ]
    },
    {
     "data": {
      "image/png": "[encoded data removed]",
      "text/plain": [
       "<Figure size 1500x800 with 1 Axes>"
      ]
     },
     "metadata": {},
     "output_type": "display_data"
    }
   ],
   "source": [
    "top_jobs = salary_df['job_title'].value_counts().head(15)\n",
    "print(top_jobs)\n",
    "\n",
    "sns.set_palette('Set2')\n",
    "plt.figure(figsize=(15,8))\n",
    "top5_jobs = top_jobs.index[:5]\n",
    "sns.violinplot(x='job_title', y = 'salary_in_usd', data=salary_df[salary_df['job_title'].isin(top5_jobs)])\n",
    "plt.title('Salary Distribution for Top 5 Job Titles',fontsize=16)\n",
    "plt.xlabel('job_title')\n",
    "plt.ylabel('salary_in_usd', ha='right')\n",
    "plt.xticks(rotation=30)\n",
    "plt.ylim(0,500000)\n",
    "plt.grid()\n",
    "plt.show()\n",
    "\n"
   ]
  },
  {
   "cell_type": "markdown",
   "id": "e0818b87-0ae4-453e-9cb2-fabe99cf71f6",
   "metadata": {},
   "source": [
    "사용 목적 : 특정 직업군에서 연봉의 분포가 어떻게 퍼져 있는지를 시각적으로 파악\n",
    "- 데이터 분석가의 박스 모양이 넓게 퍼져있어서 연봉 격차가 그렇게 크지 않은 것을 볼 수 있음                          \n",
    "- 데이터 분석가의 가운데 굵은 선을 보았을 때 중앙값도 상대적으로 낮음"
   ]
  },
  {
   "cell_type": "markdown",
   "id": "b08b4025-4212-4dc3-bd97-8ea25fb8444e",
   "metadata": {},
   "source": [
    "## Drill Down Analyst\n",
    "> 직무별 연봉 차이가 발생하는 요인을 더 깊이 파악하기 위해\n",
    "경력 수준, 고용형태 등                                    \n",
    " 다양한 하위 요소로드릴다운 분석을 수행한다"
   ]
  },
  {
   "cell_type": "code",
   "execution_count": 9,
   "id": "841799f6-5ccd-40a7-8a90-806ff62cc76d",
   "metadata": {},
   "outputs": [
    {
     "data": {
      "text/plain": [
       "work_year             0\n",
       "experience_level      0\n",
       "employment_type       0\n",
       "job_title             0\n",
       "salary                0\n",
       "salary_currency       0\n",
       "salary_in_usd         0\n",
       "employee_residence    0\n",
       "remote_ratio          0\n",
       "company_location      0\n",
       "company_size          0\n",
       "dtype: int64"
      ]
     },
     "execution_count": 9,
     "metadata": {},
     "output_type": "execute_result"
    }
   ],
   "source": [
    "salary_df.isna().sum()"
   ]
  },
  {
   "cell_type": "code",
   "execution_count": 10,
   "id": "1cdde2a8-0fbb-4d4b-abcc-a90ceef4b9e3",
   "metadata": {},
   "outputs": [],
   "source": [
    "group_SE = salary_df[salary_df['experience_level'] == 'SE']\n",
    "group_MI = salary_df[salary_df['experience_level'] == 'MI']\n",
    "group_EX = salary_df[salary_df['experience_level'] == 'EX']\n",
    "group_EN = salary_df[salary_df['experience_level'] == 'EN']"
   ]
  },
  {
   "cell_type": "code",
   "execution_count": 11,
   "id": "73ae5646-a716-4f31-af8d-6fe2895eb72d",
   "metadata": {},
   "outputs": [
    {
     "name": "stdout",
     "output_type": "stream",
     "text": [
      "(84659, 11)\n",
      "(44410, 11)\n",
      "(3813, 11)\n",
      "(13466, 11)\n"
     ]
    }
   ],
   "source": [
    "print(group_SE.shape)\n",
    "print(group_MI.shape)\n",
    "print(group_EX.shape)\n",
    "print(group_EN.shape)"
   ]
  },
  {
   "cell_type": "code",
   "execution_count": 12,
   "id": "09342576-a97f-498f-90d2-bce97be4fc19",
   "metadata": {},
   "outputs": [
    {
     "data": {
      "text/html": [
       "<div>\n",
       "<style scoped>\n",
       "    .dataframe tbody tr th:only-of-type {\n",
       "        vertical-align: middle;\n",
       "    }\n",
       "\n",
       "    .dataframe tbody tr th {\n",
       "        vertical-align: top;\n",
       "    }\n",
       "\n",
       "    .dataframe thead th {\n",
       "        text-align: right;\n",
       "    }\n",
       "</style>\n",
       "<table border=\"1\" class=\"dataframe\">\n",
       "  <thead>\n",
       "    <tr style=\"text-align: right;\">\n",
       "      <th></th>\n",
       "      <th>work_year</th>\n",
       "      <th>experience_level</th>\n",
       "      <th>employment_type</th>\n",
       "      <th>job_title</th>\n",
       "      <th>salary</th>\n",
       "      <th>salary_currency</th>\n",
       "      <th>salary_in_usd</th>\n",
       "      <th>employee_residence</th>\n",
       "      <th>remote_ratio</th>\n",
       "      <th>company_location</th>\n",
       "      <th>company_size</th>\n",
       "    </tr>\n",
       "  </thead>\n",
       "  <tbody>\n",
       "    <tr>\n",
       "      <th>2</th>\n",
       "      <td>2025</td>\n",
       "      <td>SE</td>\n",
       "      <td>FT</td>\n",
       "      <td>Data Quality Lead</td>\n",
       "      <td>218700</td>\n",
       "      <td>USD</td>\n",
       "      <td>218700</td>\n",
       "      <td>US</td>\n",
       "      <td>0</td>\n",
       "      <td>US</td>\n",
       "      <td>M</td>\n",
       "    </tr>\n",
       "    <tr>\n",
       "      <th>3</th>\n",
       "      <td>2025</td>\n",
       "      <td>SE</td>\n",
       "      <td>FT</td>\n",
       "      <td>Data Quality Lead</td>\n",
       "      <td>163200</td>\n",
       "      <td>USD</td>\n",
       "      <td>163200</td>\n",
       "      <td>US</td>\n",
       "      <td>0</td>\n",
       "      <td>US</td>\n",
       "      <td>M</td>\n",
       "    </tr>\n",
       "    <tr>\n",
       "      <th>10</th>\n",
       "      <td>2025</td>\n",
       "      <td>SE</td>\n",
       "      <td>FT</td>\n",
       "      <td>Machine Learning Engineer</td>\n",
       "      <td>166000</td>\n",
       "      <td>USD</td>\n",
       "      <td>166000</td>\n",
       "      <td>US</td>\n",
       "      <td>0</td>\n",
       "      <td>US</td>\n",
       "      <td>M</td>\n",
       "    </tr>\n",
       "    <tr>\n",
       "      <th>11</th>\n",
       "      <td>2025</td>\n",
       "      <td>SE</td>\n",
       "      <td>FT</td>\n",
       "      <td>Machine Learning Engineer</td>\n",
       "      <td>114000</td>\n",
       "      <td>USD</td>\n",
       "      <td>114000</td>\n",
       "      <td>US</td>\n",
       "      <td>0</td>\n",
       "      <td>US</td>\n",
       "      <td>M</td>\n",
       "    </tr>\n",
       "    <tr>\n",
       "      <th>14</th>\n",
       "      <td>2025</td>\n",
       "      <td>SE</td>\n",
       "      <td>FT</td>\n",
       "      <td>Machine Learning Engineer</td>\n",
       "      <td>256500</td>\n",
       "      <td>USD</td>\n",
       "      <td>256500</td>\n",
       "      <td>US</td>\n",
       "      <td>100</td>\n",
       "      <td>US</td>\n",
       "      <td>M</td>\n",
       "    </tr>\n",
       "  </tbody>\n",
       "</table>\n",
       "</div>"
      ],
      "text/plain": [
       "    work_year experience_level employment_type                  job_title  \\\n",
       "2        2025               SE              FT          Data Quality Lead   \n",
       "3        2025               SE              FT          Data Quality Lead   \n",
       "10       2025               SE              FT  Machine Learning Engineer   \n",
       "11       2025               SE              FT  Machine Learning Engineer   \n",
       "14       2025               SE              FT  Machine Learning Engineer   \n",
       "\n",
       "    salary salary_currency  salary_in_usd employee_residence  remote_ratio  \\\n",
       "2   218700             USD         218700                 US             0   \n",
       "3   163200             USD         163200                 US             0   \n",
       "10  166000             USD         166000                 US             0   \n",
       "11  114000             USD         114000                 US             0   \n",
       "14  256500             USD         256500                 US           100   \n",
       "\n",
       "   company_location company_size  \n",
       "2                US            M  \n",
       "3                US            M  \n",
       "10               US            M  \n",
       "11               US            M  \n",
       "14               US            M  "
      ]
     },
     "execution_count": 12,
     "metadata": {},
     "output_type": "execute_result"
    }
   ],
   "source": [
    "group_SE.head()"
   ]
  },
  {
   "cell_type": "markdown",
   "id": "afe07f22-6dd7-4377-82a5-77cd3c394011",
   "metadata": {},
   "source": [
    "## 단순 비교"
   ]
  },
  {
   "cell_type": "code",
   "execution_count": 13,
   "id": "abbd26ef-2a35-410f-a962-4e7e6eb34286",
   "metadata": {},
   "outputs": [
    {
     "data": {
      "text/html": [
       "<div>\n",
       "<style scoped>\n",
       "    .dataframe tbody tr th:only-of-type {\n",
       "        vertical-align: middle;\n",
       "    }\n",
       "\n",
       "    .dataframe tbody tr th {\n",
       "        vertical-align: top;\n",
       "    }\n",
       "\n",
       "    .dataframe thead th {\n",
       "        text-align: right;\n",
       "    }\n",
       "</style>\n",
       "<table border=\"1\" class=\"dataframe\">\n",
       "  <thead>\n",
       "    <tr style=\"text-align: right;\">\n",
       "      <th></th>\n",
       "      <th>salary_in_usd</th>\n",
       "    </tr>\n",
       "    <tr>\n",
       "      <th>job_title</th>\n",
       "      <th></th>\n",
       "    </tr>\n",
       "  </thead>\n",
       "  <tbody>\n",
       "    <tr>\n",
       "      <th>Engineering Manager</th>\n",
       "      <td>407560.000000</td>\n",
       "    </tr>\n",
       "    <tr>\n",
       "      <th>Head of Data</th>\n",
       "      <td>240500.000000</td>\n",
       "    </tr>\n",
       "    <tr>\n",
       "      <th>Director</th>\n",
       "      <td>204718.000000</td>\n",
       "    </tr>\n",
       "    <tr>\n",
       "      <th>AI Researcher</th>\n",
       "      <td>203643.636364</td>\n",
       "    </tr>\n",
       "    <tr>\n",
       "      <th>Quantitative Researcher</th>\n",
       "      <td>197000.000000</td>\n",
       "    </tr>\n",
       "    <tr>\n",
       "      <th>Research Scientist</th>\n",
       "      <td>192503.714286</td>\n",
       "    </tr>\n",
       "    <tr>\n",
       "      <th>Software Architect</th>\n",
       "      <td>190000.000000</td>\n",
       "    </tr>\n",
       "    <tr>\n",
       "      <th>Machine Learning Model Engineer</th>\n",
       "      <td>180000.000000</td>\n",
       "    </tr>\n",
       "    <tr>\n",
       "      <th>Architect</th>\n",
       "      <td>170837.500000</td>\n",
       "    </tr>\n",
       "    <tr>\n",
       "      <th>Data Analytics Lead</th>\n",
       "      <td>165350.000000</td>\n",
       "    </tr>\n",
       "    <tr>\n",
       "      <th>Machine Learning Researcher</th>\n",
       "      <td>158550.000000</td>\n",
       "    </tr>\n",
       "    <tr>\n",
       "      <th>Systems Administrator</th>\n",
       "      <td>155000.000000</td>\n",
       "    </tr>\n",
       "    <tr>\n",
       "      <th>Business Intelligence Lead</th>\n",
       "      <td>150747.500000</td>\n",
       "    </tr>\n",
       "    <tr>\n",
       "      <th>Data Visualization Engineer</th>\n",
       "      <td>150000.000000</td>\n",
       "    </tr>\n",
       "    <tr>\n",
       "      <th>Machine Learning Engineer</th>\n",
       "      <td>149825.640097</td>\n",
       "    </tr>\n",
       "    <tr>\n",
       "      <th>Applied Scientist</th>\n",
       "      <td>149471.638889</td>\n",
       "    </tr>\n",
       "    <tr>\n",
       "      <th>Data Strategist</th>\n",
       "      <td>147500.000000</td>\n",
       "    </tr>\n",
       "    <tr>\n",
       "      <th>Data Integration Engineer</th>\n",
       "      <td>142500.000000</td>\n",
       "    </tr>\n",
       "    <tr>\n",
       "      <th>Machine Learning Scientist</th>\n",
       "      <td>141909.052632</td>\n",
       "    </tr>\n",
       "    <tr>\n",
       "      <th>Research Engineer</th>\n",
       "      <td>141854.616822</td>\n",
       "    </tr>\n",
       "  </tbody>\n",
       "</table>\n",
       "</div>"
      ],
      "text/plain": [
       "                                 salary_in_usd\n",
       "job_title                                     \n",
       "Engineering Manager              407560.000000\n",
       "Head of Data                     240500.000000\n",
       "Director                         204718.000000\n",
       "AI Researcher                    203643.636364\n",
       "Quantitative Researcher          197000.000000\n",
       "Research Scientist               192503.714286\n",
       "Software Architect               190000.000000\n",
       "Machine Learning Model Engineer  180000.000000\n",
       "Architect                        170837.500000\n",
       "Data Analytics Lead              165350.000000\n",
       "Machine Learning Researcher      158550.000000\n",
       "Systems Administrator            155000.000000\n",
       "Business Intelligence Lead       150747.500000\n",
       "Data Visualization Engineer      150000.000000\n",
       "Machine Learning Engineer        149825.640097\n",
       "Applied Scientist                149471.638889\n",
       "Data Strategist                  147500.000000\n",
       "Data Integration Engineer        142500.000000\n",
       "Machine Learning Scientist       141909.052632\n",
       "Research Engineer                141854.616822"
      ]
     },
     "execution_count": 13,
     "metadata": {},
     "output_type": "execute_result"
    }
   ],
   "source": [
    "# 신입 연봉 비교\n",
    "pd.DataFrame(group_EN.groupby('job_title')['salary_in_usd'].mean().sort_values(ascending=False)).head(20)"
   ]
  },
  {
   "cell_type": "code",
   "execution_count": 14,
   "id": "c4e88703-b38e-4cc1-a736-9ffc6ca7a2b0",
   "metadata": {},
   "outputs": [
    {
     "data": {
      "text/html": [
       "<div>\n",
       "<style scoped>\n",
       "    .dataframe tbody tr th:only-of-type {\n",
       "        vertical-align: middle;\n",
       "    }\n",
       "\n",
       "    .dataframe tbody tr th {\n",
       "        vertical-align: top;\n",
       "    }\n",
       "\n",
       "    .dataframe thead th {\n",
       "        text-align: right;\n",
       "    }\n",
       "</style>\n",
       "<table border=\"1\" class=\"dataframe\">\n",
       "  <thead>\n",
       "    <tr style=\"text-align: right;\">\n",
       "      <th></th>\n",
       "      <th>salary_in_usd</th>\n",
       "    </tr>\n",
       "    <tr>\n",
       "      <th>job_title</th>\n",
       "      <th></th>\n",
       "    </tr>\n",
       "  </thead>\n",
       "  <tbody>\n",
       "    <tr>\n",
       "      <th>Research Team Lead</th>\n",
       "      <td>450000.000000</td>\n",
       "    </tr>\n",
       "    <tr>\n",
       "      <th>Analytics Engineering Manager</th>\n",
       "      <td>399880.000000</td>\n",
       "    </tr>\n",
       "    <tr>\n",
       "      <th>Data Science Tech Lead</th>\n",
       "      <td>375000.000000</td>\n",
       "    </tr>\n",
       "    <tr>\n",
       "      <th>Applied AI ML Lead</th>\n",
       "      <td>292500.000000</td>\n",
       "    </tr>\n",
       "    <tr>\n",
       "      <th>IT Enterprise Data Architect</th>\n",
       "      <td>284090.000000</td>\n",
       "    </tr>\n",
       "    <tr>\n",
       "      <th>Director of Machine Learning</th>\n",
       "      <td>281616.666667</td>\n",
       "    </tr>\n",
       "    <tr>\n",
       "      <th>Deep Learning Engineer</th>\n",
       "      <td>272374.000000</td>\n",
       "    </tr>\n",
       "  </tbody>\n",
       "</table>\n",
       "</div>"
      ],
      "text/plain": [
       "                               salary_in_usd\n",
       "job_title                                   \n",
       "Research Team Lead             450000.000000\n",
       "Analytics Engineering Manager  399880.000000\n",
       "Data Science Tech Lead         375000.000000\n",
       "Applied AI ML Lead             292500.000000\n",
       "IT Enterprise Data Architect   284090.000000\n",
       "Director of Machine Learning   281616.666667\n",
       "Deep Learning Engineer         272374.000000"
      ]
     },
     "execution_count": 14,
     "metadata": {},
     "output_type": "execute_result"
    }
   ],
   "source": [
    "#고급 인력 연봉 비교\n",
    "pd.DataFrame(group_SE.groupby('job_title')['salary_in_usd'].mean().sort_values(ascending=False)).head(7)"
   ]
  },
  {
   "cell_type": "code",
   "execution_count": 15,
   "id": "2ce40e2f-e8e6-4cb8-9518-671f6d368f5f",
   "metadata": {},
   "outputs": [
    {
     "data": {
      "text/html": [
       "<div>\n",
       "<style scoped>\n",
       "    .dataframe tbody tr th:only-of-type {\n",
       "        vertical-align: middle;\n",
       "    }\n",
       "\n",
       "    .dataframe tbody tr th {\n",
       "        vertical-align: top;\n",
       "    }\n",
       "\n",
       "    .dataframe thead th {\n",
       "        text-align: right;\n",
       "    }\n",
       "</style>\n",
       "<table border=\"1\" class=\"dataframe\">\n",
       "  <thead>\n",
       "    <tr style=\"text-align: right;\">\n",
       "      <th></th>\n",
       "      <th>salary_in_usd</th>\n",
       "    </tr>\n",
       "    <tr>\n",
       "      <th>job_title</th>\n",
       "      <th></th>\n",
       "    </tr>\n",
       "  </thead>\n",
       "  <tbody>\n",
       "    <tr>\n",
       "      <th>Principal Data Scientist</th>\n",
       "      <td>416000.0</td>\n",
       "    </tr>\n",
       "    <tr>\n",
       "      <th>Research Engineer</th>\n",
       "      <td>290000.0</td>\n",
       "    </tr>\n",
       "    <tr>\n",
       "      <th>Principal Engineer</th>\n",
       "      <td>280000.0</td>\n",
       "    </tr>\n",
       "    <tr>\n",
       "      <th>Technical Lead</th>\n",
       "      <td>280000.0</td>\n",
       "    </tr>\n",
       "    <tr>\n",
       "      <th>AI Developer</th>\n",
       "      <td>276000.0</td>\n",
       "    </tr>\n",
       "    <tr>\n",
       "      <th>Head of Applied AI</th>\n",
       "      <td>273875.0</td>\n",
       "    </tr>\n",
       "    <tr>\n",
       "      <th>Director of Data</th>\n",
       "      <td>270000.0</td>\n",
       "    </tr>\n",
       "  </tbody>\n",
       "</table>\n",
       "</div>"
      ],
      "text/plain": [
       "                          salary_in_usd\n",
       "job_title                              \n",
       "Principal Data Scientist       416000.0\n",
       "Research Engineer              290000.0\n",
       "Principal Engineer             280000.0\n",
       "Technical Lead                 280000.0\n",
       "AI Developer                   276000.0\n",
       "Head of Applied AI             273875.0\n",
       "Director of Data               270000.0"
      ]
     },
     "execution_count": 15,
     "metadata": {},
     "output_type": "execute_result"
    }
   ],
   "source": [
    "# 관리자 연봉 비교\n",
    "pd.DataFrame(group_EX.groupby('job_title')['salary_in_usd'].mean().sort_values(ascending=False)).head(7)"
   ]
  },
  {
   "cell_type": "markdown",
   "id": "f9bc2b83-6583-4bd6-8ccf-021c8e52211b",
   "metadata": {},
   "source": [
    "#### 해석\n",
    "\n",
    "1. 신입 테이블에 관리자, 책임자가 있는 것으로 보아 경력이 많지만 신입으로 분류된 데이터가 있을 가능성 多\n",
    "2. 신입 테이블에 책임자, 관리자를 제외한 순위를 보면 연구원, ai 관련 직업이 많음 (석,박사 학위가 많기 때문으로 해석됨)\n",
    "3. SE(고급) 테이블의 상위 연봉이 EX(관리자)의 상위 연봉보다 높은데 관리자의 데이터가 부족해 평균 왜곡 가능성이 있음      \n",
    "   혹은 실제로 관리자가 코딩/모델링에 참여하지 않기 때문에 기술력측면에서 고급 엔지니어보다 연봉이 낮게 책정될 가능성이 있음"
   ]
  },
  {
   "cell_type": "markdown",
   "id": "ccc77f93-0865-49a1-8ca2-1c089b5ea7e0",
   "metadata": {},
   "source": [
    "### 고급 인력 테이블 살펴보기"
   ]
  },
  {
   "cell_type": "code",
   "execution_count": 16,
   "id": "67e4d5a7-b57c-4fcb-b67e-154828e863f9",
   "metadata": {},
   "outputs": [],
   "source": [
    "# FT : 정규직 CT : 계약직 PT : 파트타임 FL : 프리랜서\n",
    "group_SE_FT = group_SE[group_SE['employment_type'] == 'FT']\n",
    "group_SE_CT = group_SE[group_SE['employment_type'] == 'CT']\n",
    "group_SE_PT = group_SE[group_SE['employment_type'] == 'PT']\n",
    "group_SE_FL = group_SE[group_SE['employment_type'] == 'FL']"
   ]
  },
  {
   "cell_type": "code",
   "execution_count": 17,
   "id": "52c54760-0579-4cc4-800a-7a6a44018ac9",
   "metadata": {},
   "outputs": [
    {
     "name": "stdout",
     "output_type": "stream",
     "text": [
      "(84452, 11)\n",
      "(145, 11)\n",
      "(56, 11)\n",
      "(6, 11)\n"
     ]
    }
   ],
   "source": [
    "print(group_SE_FT.shape)\n",
    "print(group_SE_CT.shape)\n",
    "print(group_SE_PT.shape)\n",
    "print(group_SE_FL.shape)"
   ]
  },
  {
   "cell_type": "code",
   "execution_count": 18,
   "id": "dd383210-1af3-4754-8e54-92f0ae259357",
   "metadata": {},
   "outputs": [
    {
     "data": {
      "text/plain": [
       "employee_residence\n",
       "US    77384\n",
       "CA     3260\n",
       "GB     1620\n",
       "DE      197\n",
       "AU      194\n",
       "      ...  \n",
       "CF        2\n",
       "RU        1\n",
       "OM        1\n",
       "SA        1\n",
       "MD        1\n",
       "Name: count, Length: 66, dtype: int64"
      ]
     },
     "execution_count": 18,
     "metadata": {},
     "output_type": "execute_result"
    }
   ],
   "source": [
    "group_SE_FT['employee_residence'].value_counts()"
   ]
  },
  {
   "cell_type": "code",
   "execution_count": 19,
   "id": "00bd367e-85a7-45b3-9894-52f1fca01372",
   "metadata": {},
   "outputs": [
    {
     "data": {
      "text/plain": [
       "employee_residence\n",
       "US    114\n",
       "IN      8\n",
       "CA      5\n",
       "FR      5\n",
       "BR      2\n",
       "LT      2\n",
       "AU      2\n",
       "MX      2\n",
       "GB      2\n",
       "EG      2\n",
       "PL      1\n",
       "Name: count, dtype: int64"
      ]
     },
     "execution_count": 19,
     "metadata": {},
     "output_type": "execute_result"
    }
   ],
   "source": [
    "group_SE_CT['employee_residence'].value_counts()"
   ]
  },
  {
   "cell_type": "code",
   "execution_count": 20,
   "id": "c1efcd9b-2b0b-4f43-9b37-e82c5687a02c",
   "metadata": {},
   "outputs": [
    {
     "data": {
      "text/plain": [
       "employee_residence\n",
       "US    46\n",
       "CA     6\n",
       "GB     2\n",
       "DE     1\n",
       "AE     1\n",
       "Name: count, dtype: int64"
      ]
     },
     "execution_count": 20,
     "metadata": {},
     "output_type": "execute_result"
    }
   ],
   "source": [
    "group_SE_PT['employee_residence'].value_counts()"
   ]
  },
  {
   "cell_type": "code",
   "execution_count": 21,
   "id": "5de66627-6cf0-440d-83f9-44fb519716d1",
   "metadata": {},
   "outputs": [
    {
     "data": {
      "text/plain": [
       "employee_residence\n",
       "NG    2\n",
       "CZ    1\n",
       "IN    1\n",
       "UA    1\n",
       "RU    1\n",
       "Name: count, dtype: int64"
      ]
     },
     "execution_count": 21,
     "metadata": {},
     "output_type": "execute_result"
    }
   ],
   "source": [
    "group_SE_FL['employee_residence'].value_counts()"
   ]
  },
  {
   "cell_type": "markdown",
   "id": "b229eb00-ed3e-46d4-8b58-0435dceaff94",
   "metadata": {},
   "source": [
    "#### 해석\n",
    "1. 미국의 경우 At-will 고용법이 있어 해고가 자유롭기 때문에 정규직의 비율이 많음 (그 외에는 데이터 수가 너무 적어 해석 x)\n",
    "2. 데이터는 적지만 상위권에 해당하는 나라를 보면 정규직 자체가 보호받는 국가들이 많음\n",
    "3. 데이터 수집을 미국 기준으로 한 것 같음"
   ]
  },
  {
   "cell_type": "code",
   "execution_count": 23,
   "id": "00bb9a76-3464-41d2-a2b3-c4b3262a12dc",
   "metadata": {},
   "outputs": [
    {
     "data": {
      "text/plain": [
       "job_title\n",
       "False        144\n",
       "True           1\n",
       "Name: count, dtype: int64"
      ]
     },
     "execution_count": 23,
     "metadata": {},
     "output_type": "execute_result"
    }
   ],
   "source": [
    "pd.DataFrame(group_SE_CT['job_title'] == 'Finance Data Analyst').value_counts()"
   ]
  },
  {
   "cell_type": "code",
   "execution_count": 25,
   "id": "d0921656-c62c-4ab0-98ff-66daff7b2232",
   "metadata": {},
   "outputs": [
    {
     "data": {
      "text/html": [
       "<div>\n",
       "<style scoped>\n",
       "    .dataframe tbody tr th:only-of-type {\n",
       "        vertical-align: middle;\n",
       "    }\n",
       "\n",
       "    .dataframe tbody tr th {\n",
       "        vertical-align: top;\n",
       "    }\n",
       "\n",
       "    .dataframe thead th {\n",
       "        text-align: right;\n",
       "    }\n",
       "</style>\n",
       "<table border=\"1\" class=\"dataframe\">\n",
       "  <thead>\n",
       "    <tr style=\"text-align: right;\">\n",
       "      <th></th>\n",
       "      <th>salary_in_usd</th>\n",
       "    </tr>\n",
       "    <tr>\n",
       "      <th>job_title</th>\n",
       "      <th></th>\n",
       "    </tr>\n",
       "  </thead>\n",
       "  <tbody>\n",
       "    <tr>\n",
       "      <th>Finance Data Analyst</th>\n",
       "      <td>323905.000000</td>\n",
       "    </tr>\n",
       "    <tr>\n",
       "      <th>Technical Writer</th>\n",
       "      <td>300000.000000</td>\n",
       "    </tr>\n",
       "    <tr>\n",
       "      <th>Manager</th>\n",
       "      <td>165000.000000</td>\n",
       "    </tr>\n",
       "    <tr>\n",
       "      <th>Data Architect</th>\n",
       "      <td>160000.000000</td>\n",
       "    </tr>\n",
       "    <tr>\n",
       "      <th>AI Engineer</th>\n",
       "      <td>153344.714286</td>\n",
       "    </tr>\n",
       "    <tr>\n",
       "      <th>Software Engineer</th>\n",
       "      <td>144071.428571</td>\n",
       "    </tr>\n",
       "    <tr>\n",
       "      <th>QA Engineer</th>\n",
       "      <td>140000.000000</td>\n",
       "    </tr>\n",
       "    <tr>\n",
       "      <th>Architect</th>\n",
       "      <td>131333.333333</td>\n",
       "    </tr>\n",
       "    <tr>\n",
       "      <th>Engineer</th>\n",
       "      <td>131214.285714</td>\n",
       "    </tr>\n",
       "    <tr>\n",
       "      <th>Data Scientist</th>\n",
       "      <td>129302.000000</td>\n",
       "    </tr>\n",
       "  </tbody>\n",
       "</table>\n",
       "</div>"
      ],
      "text/plain": [
       "                      salary_in_usd\n",
       "job_title                          \n",
       "Finance Data Analyst  323905.000000\n",
       "Technical Writer      300000.000000\n",
       "Manager               165000.000000\n",
       "Data Architect        160000.000000\n",
       "AI Engineer           153344.714286\n",
       "Software Engineer     144071.428571\n",
       "QA Engineer           140000.000000\n",
       "Architect             131333.333333\n",
       "Engineer              131214.285714\n",
       "Data Scientist        129302.000000"
      ]
     },
     "execution_count": 25,
     "metadata": {},
     "output_type": "execute_result"
    }
   ],
   "source": [
    "group_SE_CT_D = pd.DataFrame(group_SE_CT.groupby('job_title')['salary_in_usd'].mean().sort_values(ascending=False))\n",
    "group_SE_CT_D.head(10)"
   ]
  },
  {
   "cell_type": "code",
   "execution_count": 26,
   "id": "1c1bb257-dc71-44a4-8dd3-f6ebb72ad6eb",
   "metadata": {},
   "outputs": [
    {
     "data": {
      "text/html": [
       "<div>\n",
       "<style scoped>\n",
       "    .dataframe tbody tr th:only-of-type {\n",
       "        vertical-align: middle;\n",
       "    }\n",
       "\n",
       "    .dataframe tbody tr th {\n",
       "        vertical-align: top;\n",
       "    }\n",
       "\n",
       "    .dataframe thead th {\n",
       "        text-align: right;\n",
       "    }\n",
       "</style>\n",
       "<table border=\"1\" class=\"dataframe\">\n",
       "  <thead>\n",
       "    <tr style=\"text-align: right;\">\n",
       "      <th></th>\n",
       "      <th>salary_in_usd</th>\n",
       "    </tr>\n",
       "  </thead>\n",
       "  <tbody>\n",
       "    <tr>\n",
       "      <th>count</th>\n",
       "      <td>20.000000</td>\n",
       "    </tr>\n",
       "    <tr>\n",
       "      <th>mean</th>\n",
       "      <td>137333.713853</td>\n",
       "    </tr>\n",
       "    <tr>\n",
       "      <th>std</th>\n",
       "      <td>69007.619573</td>\n",
       "    </tr>\n",
       "    <tr>\n",
       "      <th>min</th>\n",
       "      <td>30000.000000</td>\n",
       "    </tr>\n",
       "    <tr>\n",
       "      <th>25%</th>\n",
       "      <td>113703.386364</td>\n",
       "    </tr>\n",
       "    <tr>\n",
       "      <th>50%</th>\n",
       "      <td>129026.000000</td>\n",
       "    </tr>\n",
       "    <tr>\n",
       "      <th>75%</th>\n",
       "      <td>146389.750000</td>\n",
       "    </tr>\n",
       "    <tr>\n",
       "      <th>max</th>\n",
       "      <td>323905.000000</td>\n",
       "    </tr>\n",
       "  </tbody>\n",
       "</table>\n",
       "</div>"
      ],
      "text/plain": [
       "       salary_in_usd\n",
       "count      20.000000\n",
       "mean   137333.713853\n",
       "std     69007.619573\n",
       "min     30000.000000\n",
       "25%    113703.386364\n",
       "50%    129026.000000\n",
       "75%    146389.750000\n",
       "max    323905.000000"
      ]
     },
     "execution_count": 26,
     "metadata": {},
     "output_type": "execute_result"
    }
   ],
   "source": [
    "group_SE_CT_D.describe()"
   ]
  },
  {
   "cell_type": "code",
   "execution_count": 162,
   "id": "265cd0e6-bb30-4379-9360-f189fb109655",
   "metadata": {},
   "outputs": [
    {
     "name": "stderr",
     "output_type": "stream",
     "text": [
      "C:\\Users\\user\\AppData\\Local\\Temp\\ipykernel_14780\\153446056.py:3: FutureWarning: \n",
      "\n",
      "Passing `palette` without assigning `hue` is deprecated and will be removed in v0.14.0. Assign the `y` variable to `hue` and set `legend=False` for the same effect.\n",
      "\n",
      "  sns.barplot(x=se_salary.values, y=se_salary.index, palette=\"viridis\")\n"
     ]
    },
    {
     "data": {
      "image/png": "[encoded data removed]",
      "text/plain": [
       "<Figure size 640x480 with 1 Axes>"
      ]
     },
     "metadata": {},
     "output_type": "display_data"
    }
   ],
   "source": [
    "# 고급 중에서 계약직의 직업별 연봉 평균\n",
    "se_salary = group_SE_CT.groupby('job_title')['salary_in_usd'].mean().sort_values(ascending=False).tail(10)\n",
    "sns.barplot(x=se_salary.values, y=se_salary.index, palette=\"viridis\")\n",
    "plt.title('Top 10 SE CT Job Salary')\n",
    "plt.show()"
   ]
  },
  {
   "cell_type": "code",
   "execution_count": 163,
   "id": "10530c64-879c-4150-a916-8182d4fb8842",
   "metadata": {},
   "outputs": [
    {
     "data": {
      "text/plain": [
       "job_title\n",
       "Admin & Data Analyst                 60000.0\n",
       "Product Data Analyst                 57000.0\n",
       "Data Reporting Specialist            55552.5\n",
       "Data Management Coordinator          54000.0\n",
       "Data DevOps Engineer                 53984.0\n",
       "Computer Vision Software Engineer    53984.0\n",
       "Consultant Data Engineer             50000.0\n",
       "Principal Data Architect             38154.0\n",
       "AI Software Development Engineer     25210.0\n",
       "AI Engineering Lead                  23649.0\n",
       "Name: salary_in_usd, dtype: float64"
      ]
     },
     "execution_count": 163,
     "metadata": {},
     "output_type": "execute_result"
    }
   ],
   "source": [
    "# 고급 중에서 정규직의 직업별 연봉 평균\n",
    "group_SE_FT_D = group_SE_FT.groupby('job_title')['salary_in_usd'].mean().sort_values(ascending=False).tail(10)\n",
    "group_SE_FT_D"
   ]
  },
  {
   "cell_type": "code",
   "execution_count": 28,
   "id": "66fd755a-d00d-40c8-a2b6-36a7c1787b42",
   "metadata": {},
   "outputs": [
    {
     "data": {
      "text/html": [
       "<div>\n",
       "<style scoped>\n",
       "    .dataframe tbody tr th:only-of-type {\n",
       "        vertical-align: middle;\n",
       "    }\n",
       "\n",
       "    .dataframe tbody tr th {\n",
       "        vertical-align: top;\n",
       "    }\n",
       "\n",
       "    .dataframe thead th {\n",
       "        text-align: right;\n",
       "    }\n",
       "</style>\n",
       "<table border=\"1\" class=\"dataframe\">\n",
       "  <thead>\n",
       "    <tr style=\"text-align: right;\">\n",
       "      <th></th>\n",
       "      <th>salary_in_usd</th>\n",
       "    </tr>\n",
       "  </thead>\n",
       "  <tbody>\n",
       "    <tr>\n",
       "      <th>count</th>\n",
       "      <td>330.000000</td>\n",
       "    </tr>\n",
       "    <tr>\n",
       "      <th>mean</th>\n",
       "      <td>149955.942239</td>\n",
       "    </tr>\n",
       "    <tr>\n",
       "      <th>std</th>\n",
       "      <td>52193.019736</td>\n",
       "    </tr>\n",
       "    <tr>\n",
       "      <th>min</th>\n",
       "      <td>23649.000000</td>\n",
       "    </tr>\n",
       "    <tr>\n",
       "      <th>25%</th>\n",
       "      <td>119842.968750</td>\n",
       "    </tr>\n",
       "    <tr>\n",
       "      <th>50%</th>\n",
       "      <td>149211.700658</td>\n",
       "    </tr>\n",
       "    <tr>\n",
       "      <th>75%</th>\n",
       "      <td>180867.955882</td>\n",
       "    </tr>\n",
       "    <tr>\n",
       "      <th>max</th>\n",
       "      <td>450000.000000</td>\n",
       "    </tr>\n",
       "  </tbody>\n",
       "</table>\n",
       "</div>"
      ],
      "text/plain": [
       "       salary_in_usd\n",
       "count     330.000000\n",
       "mean   149955.942239\n",
       "std     52193.019736\n",
       "min     23649.000000\n",
       "25%    119842.968750\n",
       "50%    149211.700658\n",
       "75%    180867.955882\n",
       "max    450000.000000"
      ]
     },
     "execution_count": 28,
     "metadata": {},
     "output_type": "execute_result"
    }
   ],
   "source": [
    "group_SE_FT_D.describe()"
   ]
  },
  {
   "cell_type": "code",
   "execution_count": 164,
   "id": "95ce94cb-4915-4a78-bf14-aba1d68cc746",
   "metadata": {},
   "outputs": [
    {
     "name": "stderr",
     "output_type": "stream",
     "text": [
      "C:\\Users\\user\\AppData\\Local\\Temp\\ipykernel_14780\\1160895468.py:2: FutureWarning: \n",
      "\n",
      "Passing `palette` without assigning `hue` is deprecated and will be removed in v0.14.0. Assign the `y` variable to `hue` and set `legend=False` for the same effect.\n",
      "\n",
      "  sns.barplot(x=group_SE_FT_D.values,y=group_SE_FT_D.index, palette='viridis')\n"
     ]
    },
    {
     "data": {
      "image/png": "[encoded data removed]",
      "text/plain": [
       "<Figure size 640x480 with 1 Axes>"
      ]
     },
     "metadata": {},
     "output_type": "display_data"
    }
   ],
   "source": [
    "# 고급 정규직 연봉 비교\n",
    "sns.barplot(x=group_SE_FT_D.values,y=group_SE_FT_D.index, palette='viridis')\n",
    "plt.title('Top 10 SE FT Job Salary')\n",
    "plt.show()"
   ]
  },
  {
   "cell_type": "markdown",
   "id": "f125f321-d9da-4820-82aa-e065e24a9272",
   "metadata": {},
   "source": [
    "고급 인력 중에서는 정규직이 계약직보다 평균 연봉이 훨씬 높지만,               \n",
    "계약직도 일부 경우에는 최하위 수준의 정규직보다 더 높은 연봉을 받기도 한다"
   ]
  },
  {
   "cell_type": "code",
   "execution_count": 29,
   "id": "2f1ecd32-de20-4164-ab87-8bbaf4d3cac3",
   "metadata": {},
   "outputs": [
    {
     "data": {
      "text/html": [
       "<div>\n",
       "<style scoped>\n",
       "    .dataframe tbody tr th:only-of-type {\n",
       "        vertical-align: middle;\n",
       "    }\n",
       "\n",
       "    .dataframe tbody tr th {\n",
       "        vertical-align: top;\n",
       "    }\n",
       "\n",
       "    .dataframe thead th {\n",
       "        text-align: right;\n",
       "    }\n",
       "</style>\n",
       "<table border=\"1\" class=\"dataframe\">\n",
       "  <thead>\n",
       "    <tr style=\"text-align: right;\">\n",
       "      <th></th>\n",
       "      <th>salary_in_usd</th>\n",
       "    </tr>\n",
       "    <tr>\n",
       "      <th>job_title</th>\n",
       "      <th></th>\n",
       "    </tr>\n",
       "  </thead>\n",
       "  <tbody>\n",
       "    <tr>\n",
       "      <th>Machine Learning Engineer</th>\n",
       "      <td>225000.000000</td>\n",
       "    </tr>\n",
       "    <tr>\n",
       "      <th>Architect</th>\n",
       "      <td>189100.000000</td>\n",
       "    </tr>\n",
       "    <tr>\n",
       "      <th>Software Engineer</th>\n",
       "      <td>185817.333333</td>\n",
       "    </tr>\n",
       "    <tr>\n",
       "      <th>Engineer</th>\n",
       "      <td>172500.000000</td>\n",
       "    </tr>\n",
       "    <tr>\n",
       "      <th>Statistician</th>\n",
       "      <td>142400.000000</td>\n",
       "    </tr>\n",
       "  </tbody>\n",
       "</table>\n",
       "</div>"
      ],
      "text/plain": [
       "                           salary_in_usd\n",
       "job_title                               \n",
       "Machine Learning Engineer  225000.000000\n",
       "Architect                  189100.000000\n",
       "Software Engineer          185817.333333\n",
       "Engineer                   172500.000000\n",
       "Statistician               142400.000000"
      ]
     },
     "execution_count": 29,
     "metadata": {},
     "output_type": "execute_result"
    }
   ],
   "source": [
    "# 고급 중에서 파트타임 직업의 직업별 연봉 평균\n",
    "group_SE_PT_D = pd.DataFrame(group_SE_PT.groupby('job_title')['salary_in_usd'].mean().sort_values(ascending=False))\n",
    "group_SE_PT_D.head()"
   ]
  },
  {
   "cell_type": "code",
   "execution_count": 30,
   "id": "93685622-2130-42e4-acd7-5c69d8e9faeb",
   "metadata": {},
   "outputs": [
    {
     "data": {
      "text/html": [
       "<div>\n",
       "<style scoped>\n",
       "    .dataframe tbody tr th:only-of-type {\n",
       "        vertical-align: middle;\n",
       "    }\n",
       "\n",
       "    .dataframe tbody tr th {\n",
       "        vertical-align: top;\n",
       "    }\n",
       "\n",
       "    .dataframe thead th {\n",
       "        text-align: right;\n",
       "    }\n",
       "</style>\n",
       "<table border=\"1\" class=\"dataframe\">\n",
       "  <thead>\n",
       "    <tr style=\"text-align: right;\">\n",
       "      <th></th>\n",
       "      <th>salary_in_usd</th>\n",
       "    </tr>\n",
       "  </thead>\n",
       "  <tbody>\n",
       "    <tr>\n",
       "      <th>count</th>\n",
       "      <td>16.000000</td>\n",
       "    </tr>\n",
       "    <tr>\n",
       "      <th>mean</th>\n",
       "      <td>113591.192708</td>\n",
       "    </tr>\n",
       "    <tr>\n",
       "      <th>std</th>\n",
       "      <td>55789.422426</td>\n",
       "    </tr>\n",
       "    <tr>\n",
       "      <th>min</th>\n",
       "      <td>40000.000000</td>\n",
       "    </tr>\n",
       "    <tr>\n",
       "      <th>25%</th>\n",
       "      <td>72132.250000</td>\n",
       "    </tr>\n",
       "    <tr>\n",
       "      <th>50%</th>\n",
       "      <td>97351.500000</td>\n",
       "    </tr>\n",
       "    <tr>\n",
       "      <th>75%</th>\n",
       "      <td>149925.000000</td>\n",
       "    </tr>\n",
       "    <tr>\n",
       "      <th>max</th>\n",
       "      <td>225000.000000</td>\n",
       "    </tr>\n",
       "  </tbody>\n",
       "</table>\n",
       "</div>"
      ],
      "text/plain": [
       "       salary_in_usd\n",
       "count      16.000000\n",
       "mean   113591.192708\n",
       "std     55789.422426\n",
       "min     40000.000000\n",
       "25%     72132.250000\n",
       "50%     97351.500000\n",
       "75%    149925.000000\n",
       "max    225000.000000"
      ]
     },
     "execution_count": 30,
     "metadata": {},
     "output_type": "execute_result"
    }
   ],
   "source": [
    "group_SE_PT_D.describe()"
   ]
  },
  {
   "cell_type": "code",
   "execution_count": 31,
   "id": "d5363cc4-5a78-44eb-a683-73385e3c1408",
   "metadata": {},
   "outputs": [
    {
     "data": {
      "text/html": [
       "<div>\n",
       "<style scoped>\n",
       "    .dataframe tbody tr th:only-of-type {\n",
       "        vertical-align: middle;\n",
       "    }\n",
       "\n",
       "    .dataframe tbody tr th {\n",
       "        vertical-align: top;\n",
       "    }\n",
       "\n",
       "    .dataframe thead th {\n",
       "        text-align: right;\n",
       "    }\n",
       "</style>\n",
       "<table border=\"1\" class=\"dataframe\">\n",
       "  <thead>\n",
       "    <tr style=\"text-align: right;\">\n",
       "      <th></th>\n",
       "      <th>salary_in_usd</th>\n",
       "    </tr>\n",
       "    <tr>\n",
       "      <th>job_title</th>\n",
       "      <th></th>\n",
       "    </tr>\n",
       "  </thead>\n",
       "  <tbody>\n",
       "    <tr>\n",
       "      <th>Backend Engineer</th>\n",
       "      <td>61333.0</td>\n",
       "    </tr>\n",
       "    <tr>\n",
       "      <th>Computer Vision Engineer</th>\n",
       "      <td>60000.0</td>\n",
       "    </tr>\n",
       "    <tr>\n",
       "      <th>Machine Learning Developer</th>\n",
       "      <td>60000.0</td>\n",
       "    </tr>\n",
       "    <tr>\n",
       "      <th>Machine Learning Researcher</th>\n",
       "      <td>50000.0</td>\n",
       "    </tr>\n",
       "    <tr>\n",
       "      <th>Software Data Engineer</th>\n",
       "      <td>50000.0</td>\n",
       "    </tr>\n",
       "  </tbody>\n",
       "</table>\n",
       "</div>"
      ],
      "text/plain": [
       "                             salary_in_usd\n",
       "job_title                                 \n",
       "Backend Engineer                   61333.0\n",
       "Computer Vision Engineer           60000.0\n",
       "Machine Learning Developer         60000.0\n",
       "Machine Learning Researcher        50000.0\n",
       "Software Data Engineer             50000.0"
      ]
     },
     "execution_count": 31,
     "metadata": {},
     "output_type": "execute_result"
    }
   ],
   "source": [
    "# 고급 중에서 프리랜서의 직업별 연봉 평균\n",
    "group_SE_FL_D = pd.DataFrame(group_SE_FL.groupby('job_title')['salary_in_usd'].mean().sort_values(ascending=False))\n",
    "group_SE_FL_D.head()"
   ]
  },
  {
   "cell_type": "code",
   "execution_count": 32,
   "id": "89a8a5df-a29a-4838-9597-15d338cdd9cb",
   "metadata": {},
   "outputs": [
    {
     "data": {
      "text/html": [
       "<div>\n",
       "<style scoped>\n",
       "    .dataframe tbody tr th:only-of-type {\n",
       "        vertical-align: middle;\n",
       "    }\n",
       "\n",
       "    .dataframe tbody tr th {\n",
       "        vertical-align: top;\n",
       "    }\n",
       "\n",
       "    .dataframe thead th {\n",
       "        text-align: right;\n",
       "    }\n",
       "</style>\n",
       "<table border=\"1\" class=\"dataframe\">\n",
       "  <thead>\n",
       "    <tr style=\"text-align: right;\">\n",
       "      <th></th>\n",
       "      <th>salary_in_usd</th>\n",
       "    </tr>\n",
       "  </thead>\n",
       "  <tbody>\n",
       "    <tr>\n",
       "      <th>count</th>\n",
       "      <td>6.000000</td>\n",
       "    </tr>\n",
       "    <tr>\n",
       "      <th>mean</th>\n",
       "      <td>52891.166667</td>\n",
       "    </tr>\n",
       "    <tr>\n",
       "      <th>std</th>\n",
       "      <td>9735.420041</td>\n",
       "    </tr>\n",
       "    <tr>\n",
       "      <th>min</th>\n",
       "      <td>36014.000000</td>\n",
       "    </tr>\n",
       "    <tr>\n",
       "      <th>25%</th>\n",
       "      <td>50000.000000</td>\n",
       "    </tr>\n",
       "    <tr>\n",
       "      <th>50%</th>\n",
       "      <td>55000.000000</td>\n",
       "    </tr>\n",
       "    <tr>\n",
       "      <th>75%</th>\n",
       "      <td>60000.000000</td>\n",
       "    </tr>\n",
       "    <tr>\n",
       "      <th>max</th>\n",
       "      <td>61333.000000</td>\n",
       "    </tr>\n",
       "  </tbody>\n",
       "</table>\n",
       "</div>"
      ],
      "text/plain": [
       "       salary_in_usd\n",
       "count       6.000000\n",
       "mean    52891.166667\n",
       "std      9735.420041\n",
       "min     36014.000000\n",
       "25%     50000.000000\n",
       "50%     55000.000000\n",
       "75%     60000.000000\n",
       "max     61333.000000"
      ]
     },
     "execution_count": 32,
     "metadata": {},
     "output_type": "execute_result"
    }
   ],
   "source": [
    "group_SE_FL_D.describe()"
   ]
  },
  {
   "cell_type": "markdown",
   "id": "3240e1d8-d827-42b4-8ff9-afcef0728250",
   "metadata": {},
   "source": [
    "#### 해석\n",
    "1. 고급 인력의 경우 정규직으로 근무하는 것이 대부분의 직업에서 가장 평균 연봉이 높음.\n",
    "2. 정규직 평균 연봉이 가장 높지만 연봉의 폭도 가장 큼."
   ]
  },
  {
   "cell_type": "markdown",
   "id": "973e9fa9-c7ee-4054-8b73-a641bdffba9a",
   "metadata": {},
   "source": [
    "### 신입 경력 테이블 살펴보기"
   ]
  },
  {
   "cell_type": "code",
   "execution_count": 33,
   "id": "c4a43717-fb91-4660-a4d9-c2957d43b7cf",
   "metadata": {},
   "outputs": [],
   "source": [
    "#FT : 정규직 CT : 계약직 PT : 파트타임 FL : 프리랜서\n",
    "group_EN_FT = group_EN[group_EN['employment_type'] == 'FT']\n",
    "group_EN_CT = group_EN[group_EN['employment_type'] == 'CT']\n",
    "group_EN_PT = group_EN[group_EN['employment_type'] == 'PT']\n",
    "group_EN_FL = group_EN[group_EN['employment_type'] == 'FL']"
   ]
  },
  {
   "cell_type": "code",
   "execution_count": 34,
   "id": "e7dc3b99-2eb3-4e9c-a145-de910ebbbaf0",
   "metadata": {},
   "outputs": [
    {
     "name": "stdout",
     "output_type": "stream",
     "text": [
      "(13104, 11)\n",
      "(128, 11)\n",
      "(230, 11)\n",
      "(4, 11)\n"
     ]
    }
   ],
   "source": [
    "print(group_EN_FT.shape)\n",
    "print(group_EN_CT.shape)\n",
    "print(group_EN_PT.shape)\n",
    "print(group_EN_FL.shape)"
   ]
  },
  {
   "cell_type": "code",
   "execution_count": 35,
   "id": "b14e2e3c-a924-4a43-8f85-a00861e02699",
   "metadata": {},
   "outputs": [
    {
     "data": {
      "text/html": [
       "<div>\n",
       "<style scoped>\n",
       "    .dataframe tbody tr th:only-of-type {\n",
       "        vertical-align: middle;\n",
       "    }\n",
       "\n",
       "    .dataframe tbody tr th {\n",
       "        vertical-align: top;\n",
       "    }\n",
       "\n",
       "    .dataframe thead th {\n",
       "        text-align: right;\n",
       "    }\n",
       "</style>\n",
       "<table border=\"1\" class=\"dataframe\">\n",
       "  <thead>\n",
       "    <tr style=\"text-align: right;\">\n",
       "      <th></th>\n",
       "      <th>salary_in_usd</th>\n",
       "    </tr>\n",
       "    <tr>\n",
       "      <th>job_title</th>\n",
       "      <th></th>\n",
       "    </tr>\n",
       "  </thead>\n",
       "  <tbody>\n",
       "    <tr>\n",
       "      <th>Engineering Manager</th>\n",
       "      <td>407560.0</td>\n",
       "    </tr>\n",
       "    <tr>\n",
       "      <th>Head of Data</th>\n",
       "      <td>240500.0</td>\n",
       "    </tr>\n",
       "    <tr>\n",
       "      <th>AI Researcher</th>\n",
       "      <td>218008.0</td>\n",
       "    </tr>\n",
       "    <tr>\n",
       "      <th>Director</th>\n",
       "      <td>204718.0</td>\n",
       "    </tr>\n",
       "    <tr>\n",
       "      <th>Quantitative Researcher</th>\n",
       "      <td>197000.0</td>\n",
       "    </tr>\n",
       "    <tr>\n",
       "      <th>...</th>\n",
       "      <td>...</td>\n",
       "    </tr>\n",
       "    <tr>\n",
       "      <th>Data Quality Engineer</th>\n",
       "      <td>23753.0</td>\n",
       "    </tr>\n",
       "    <tr>\n",
       "      <th>Web Developer</th>\n",
       "      <td>22584.0</td>\n",
       "    </tr>\n",
       "    <tr>\n",
       "      <th>Data Analytics Engineer</th>\n",
       "      <td>20000.0</td>\n",
       "    </tr>\n",
       "    <tr>\n",
       "      <th>Alternance</th>\n",
       "      <td>19825.0</td>\n",
       "    </tr>\n",
       "    <tr>\n",
       "      <th>Data Analyst Lead</th>\n",
       "      <td>18000.0</td>\n",
       "    </tr>\n",
       "  </tbody>\n",
       "</table>\n",
       "<p>183 rows × 1 columns</p>\n",
       "</div>"
      ],
      "text/plain": [
       "                         salary_in_usd\n",
       "job_title                             \n",
       "Engineering Manager           407560.0\n",
       "Head of Data                  240500.0\n",
       "AI Researcher                 218008.0\n",
       "Director                      204718.0\n",
       "Quantitative Researcher       197000.0\n",
       "...                                ...\n",
       "Data Quality Engineer          23753.0\n",
       "Web Developer                  22584.0\n",
       "Data Analytics Engineer        20000.0\n",
       "Alternance                     19825.0\n",
       "Data Analyst Lead              18000.0\n",
       "\n",
       "[183 rows x 1 columns]"
      ]
     },
     "execution_count": 35,
     "metadata": {},
     "output_type": "execute_result"
    }
   ],
   "source": [
    "group_EN_FT_D = pd.DataFrame(group_EN_FT.groupby('job_title')['salary_in_usd'].mean().sort_values(ascending=False))\n",
    "group_EN_FT_D"
   ]
  },
  {
   "cell_type": "code",
   "execution_count": 36,
   "id": "b7ff5000-736b-4eb2-83a9-0ca96d51fb83",
   "metadata": {},
   "outputs": [
    {
     "data": {
      "text/html": [
       "<div>\n",
       "<style scoped>\n",
       "    .dataframe tbody tr th:only-of-type {\n",
       "        vertical-align: middle;\n",
       "    }\n",
       "\n",
       "    .dataframe tbody tr th {\n",
       "        vertical-align: top;\n",
       "    }\n",
       "\n",
       "    .dataframe thead th {\n",
       "        text-align: right;\n",
       "    }\n",
       "</style>\n",
       "<table border=\"1\" class=\"dataframe\">\n",
       "  <thead>\n",
       "    <tr style=\"text-align: right;\">\n",
       "      <th></th>\n",
       "      <th>salary_in_usd</th>\n",
       "    </tr>\n",
       "  </thead>\n",
       "  <tbody>\n",
       "    <tr>\n",
       "      <th>count</th>\n",
       "      <td>183.000000</td>\n",
       "    </tr>\n",
       "    <tr>\n",
       "      <th>mean</th>\n",
       "      <td>91532.769563</td>\n",
       "    </tr>\n",
       "    <tr>\n",
       "      <th>std</th>\n",
       "      <td>46567.682629</td>\n",
       "    </tr>\n",
       "    <tr>\n",
       "      <th>min</th>\n",
       "      <td>18000.000000</td>\n",
       "    </tr>\n",
       "    <tr>\n",
       "      <th>25%</th>\n",
       "      <td>58559.833333</td>\n",
       "    </tr>\n",
       "    <tr>\n",
       "      <th>50%</th>\n",
       "      <td>85104.411765</td>\n",
       "    </tr>\n",
       "    <tr>\n",
       "      <th>75%</th>\n",
       "      <td>112851.428571</td>\n",
       "    </tr>\n",
       "    <tr>\n",
       "      <th>max</th>\n",
       "      <td>407560.000000</td>\n",
       "    </tr>\n",
       "  </tbody>\n",
       "</table>\n",
       "</div>"
      ],
      "text/plain": [
       "       salary_in_usd\n",
       "count     183.000000\n",
       "mean    91532.769563\n",
       "std     46567.682629\n",
       "min     18000.000000\n",
       "25%     58559.833333\n",
       "50%     85104.411765\n",
       "75%    112851.428571\n",
       "max    407560.000000"
      ]
     },
     "execution_count": 36,
     "metadata": {},
     "output_type": "execute_result"
    }
   ],
   "source": [
    "group_EN_FT_D.describe()"
   ]
  },
  {
   "cell_type": "code",
   "execution_count": 37,
   "id": "a9a9de11-646c-458e-9551-a2ffd57efb8d",
   "metadata": {},
   "outputs": [
    {
     "data": {
      "text/html": [
       "<div>\n",
       "<style scoped>\n",
       "    .dataframe tbody tr th:only-of-type {\n",
       "        vertical-align: middle;\n",
       "    }\n",
       "\n",
       "    .dataframe tbody tr th {\n",
       "        vertical-align: top;\n",
       "    }\n",
       "\n",
       "    .dataframe thead th {\n",
       "        text-align: right;\n",
       "    }\n",
       "</style>\n",
       "<table border=\"1\" class=\"dataframe\">\n",
       "  <thead>\n",
       "    <tr style=\"text-align: right;\">\n",
       "      <th></th>\n",
       "      <th>salary_in_usd</th>\n",
       "    </tr>\n",
       "    <tr>\n",
       "      <th>job_title</th>\n",
       "      <th></th>\n",
       "    </tr>\n",
       "  </thead>\n",
       "  <tbody>\n",
       "    <tr>\n",
       "      <th>BI Analyst</th>\n",
       "      <td>129000.000000</td>\n",
       "    </tr>\n",
       "    <tr>\n",
       "      <th>Business Data Analyst</th>\n",
       "      <td>100000.000000</td>\n",
       "    </tr>\n",
       "    <tr>\n",
       "      <th>Data Scientist</th>\n",
       "      <td>93692.750000</td>\n",
       "    </tr>\n",
       "    <tr>\n",
       "      <th>AI Research Scientist</th>\n",
       "      <td>88888.000000</td>\n",
       "    </tr>\n",
       "    <tr>\n",
       "      <th>Product Data Analyst</th>\n",
       "      <td>83200.000000</td>\n",
       "    </tr>\n",
       "    <tr>\n",
       "      <th>Software Engineer</th>\n",
       "      <td>81440.000000</td>\n",
       "    </tr>\n",
       "    <tr>\n",
       "      <th>Data Engineer</th>\n",
       "      <td>74019.200000</td>\n",
       "    </tr>\n",
       "    <tr>\n",
       "      <th>Data Analyst</th>\n",
       "      <td>72452.114754</td>\n",
       "    </tr>\n",
       "    <tr>\n",
       "      <th>Analyst</th>\n",
       "      <td>63808.000000</td>\n",
       "    </tr>\n",
       "    <tr>\n",
       "      <th>Technical Writer</th>\n",
       "      <td>50000.000000</td>\n",
       "    </tr>\n",
       "    <tr>\n",
       "      <th>Business Intelligence Analyst</th>\n",
       "      <td>48607.000000</td>\n",
       "    </tr>\n",
       "    <tr>\n",
       "      <th>AI Engineer</th>\n",
       "      <td>46666.666667</td>\n",
       "    </tr>\n",
       "    <tr>\n",
       "      <th>Staff Data Analyst</th>\n",
       "      <td>44753.000000</td>\n",
       "    </tr>\n",
       "    <tr>\n",
       "      <th>Power BI Developer</th>\n",
       "      <td>44303.000000</td>\n",
       "    </tr>\n",
       "    <tr>\n",
       "      <th>Applied Machine Learning Scientist</th>\n",
       "      <td>30469.000000</td>\n",
       "    </tr>\n",
       "    <tr>\n",
       "      <th>Research Assistant</th>\n",
       "      <td>30000.000000</td>\n",
       "    </tr>\n",
       "    <tr>\n",
       "      <th>Research Analyst</th>\n",
       "      <td>16000.000000</td>\n",
       "    </tr>\n",
       "  </tbody>\n",
       "</table>\n",
       "</div>"
      ],
      "text/plain": [
       "                                    salary_in_usd\n",
       "job_title                                        \n",
       "BI Analyst                          129000.000000\n",
       "Business Data Analyst               100000.000000\n",
       "Data Scientist                       93692.750000\n",
       "AI Research Scientist                88888.000000\n",
       "Product Data Analyst                 83200.000000\n",
       "Software Engineer                    81440.000000\n",
       "Data Engineer                        74019.200000\n",
       "Data Analyst                         72452.114754\n",
       "Analyst                              63808.000000\n",
       "Technical Writer                     50000.000000\n",
       "Business Intelligence Analyst        48607.000000\n",
       "AI Engineer                          46666.666667\n",
       "Staff Data Analyst                   44753.000000\n",
       "Power BI Developer                   44303.000000\n",
       "Applied Machine Learning Scientist   30469.000000\n",
       "Research Assistant                   30000.000000\n",
       "Research Analyst                     16000.000000"
      ]
     },
     "execution_count": 37,
     "metadata": {},
     "output_type": "execute_result"
    }
   ],
   "source": [
    "group_EN_CT_D = pd.DataFrame(group_EN_CT.groupby('job_title')['salary_in_usd'].mean().sort_values(ascending=False))\n",
    "group_EN_CT_D"
   ]
  },
  {
   "cell_type": "code",
   "execution_count": 38,
   "id": "2cc3dcb1-5d57-40be-ba84-f6fbc0b6cdcd",
   "metadata": {},
   "outputs": [
    {
     "data": {
      "text/html": [
       "<div>\n",
       "<style scoped>\n",
       "    .dataframe tbody tr th:only-of-type {\n",
       "        vertical-align: middle;\n",
       "    }\n",
       "\n",
       "    .dataframe tbody tr th {\n",
       "        vertical-align: top;\n",
       "    }\n",
       "\n",
       "    .dataframe thead th {\n",
       "        text-align: right;\n",
       "    }\n",
       "</style>\n",
       "<table border=\"1\" class=\"dataframe\">\n",
       "  <thead>\n",
       "    <tr style=\"text-align: right;\">\n",
       "      <th></th>\n",
       "      <th>salary_in_usd</th>\n",
       "    </tr>\n",
       "  </thead>\n",
       "  <tbody>\n",
       "    <tr>\n",
       "      <th>count</th>\n",
       "      <td>17.000000</td>\n",
       "    </tr>\n",
       "    <tr>\n",
       "      <th>mean</th>\n",
       "      <td>64546.984201</td>\n",
       "    </tr>\n",
       "    <tr>\n",
       "      <th>std</th>\n",
       "      <td>29514.587957</td>\n",
       "    </tr>\n",
       "    <tr>\n",
       "      <th>min</th>\n",
       "      <td>16000.000000</td>\n",
       "    </tr>\n",
       "    <tr>\n",
       "      <th>25%</th>\n",
       "      <td>44753.000000</td>\n",
       "    </tr>\n",
       "    <tr>\n",
       "      <th>50%</th>\n",
       "      <td>63808.000000</td>\n",
       "    </tr>\n",
       "    <tr>\n",
       "      <th>75%</th>\n",
       "      <td>83200.000000</td>\n",
       "    </tr>\n",
       "    <tr>\n",
       "      <th>max</th>\n",
       "      <td>129000.000000</td>\n",
       "    </tr>\n",
       "  </tbody>\n",
       "</table>\n",
       "</div>"
      ],
      "text/plain": [
       "       salary_in_usd\n",
       "count      17.000000\n",
       "mean    64546.984201\n",
       "std     29514.587957\n",
       "min     16000.000000\n",
       "25%     44753.000000\n",
       "50%     63808.000000\n",
       "75%     83200.000000\n",
       "max    129000.000000"
      ]
     },
     "execution_count": 38,
     "metadata": {},
     "output_type": "execute_result"
    }
   ],
   "source": [
    "group_EN_CT_D.describe()"
   ]
  },
  {
   "cell_type": "code",
   "execution_count": 39,
   "id": "a35f25b6-62fe-4b58-a804-1183bd4bb38a",
   "metadata": {},
   "outputs": [
    {
     "data": {
      "text/html": [
       "<div>\n",
       "<style scoped>\n",
       "    .dataframe tbody tr th:only-of-type {\n",
       "        vertical-align: middle;\n",
       "    }\n",
       "\n",
       "    .dataframe tbody tr th {\n",
       "        vertical-align: top;\n",
       "    }\n",
       "\n",
       "    .dataframe thead th {\n",
       "        text-align: right;\n",
       "    }\n",
       "</style>\n",
       "<table border=\"1\" class=\"dataframe\">\n",
       "  <thead>\n",
       "    <tr style=\"text-align: right;\">\n",
       "      <th></th>\n",
       "      <th>salary_in_usd</th>\n",
       "    </tr>\n",
       "    <tr>\n",
       "      <th>job_title</th>\n",
       "      <th></th>\n",
       "    </tr>\n",
       "  </thead>\n",
       "  <tbody>\n",
       "    <tr>\n",
       "      <th>Machine Learning Engineer</th>\n",
       "      <td>100000.0</td>\n",
       "    </tr>\n",
       "    <tr>\n",
       "      <th>AI Researcher</th>\n",
       "      <td>60000.0</td>\n",
       "    </tr>\n",
       "    <tr>\n",
       "      <th>Data Analytics Consultant</th>\n",
       "      <td>50000.0</td>\n",
       "    </tr>\n",
       "    <tr>\n",
       "      <th>Applied Data Scientist</th>\n",
       "      <td>30000.0</td>\n",
       "    </tr>\n",
       "  </tbody>\n",
       "</table>\n",
       "</div>"
      ],
      "text/plain": [
       "                           salary_in_usd\n",
       "job_title                               \n",
       "Machine Learning Engineer       100000.0\n",
       "AI Researcher                    60000.0\n",
       "Data Analytics Consultant        50000.0\n",
       "Applied Data Scientist           30000.0"
      ]
     },
     "execution_count": 39,
     "metadata": {},
     "output_type": "execute_result"
    }
   ],
   "source": [
    "group_EN_FL_D = pd.DataFrame(group_EN_FL.groupby('job_title')['salary_in_usd'].mean().sort_values(ascending=False))\n",
    "group_EN_FL_D"
   ]
  },
  {
   "cell_type": "code",
   "execution_count": 40,
   "id": "50b16252-745a-4900-ad8a-0cd1f774b85c",
   "metadata": {},
   "outputs": [
    {
     "data": {
      "text/html": [
       "<div>\n",
       "<style scoped>\n",
       "    .dataframe tbody tr th:only-of-type {\n",
       "        vertical-align: middle;\n",
       "    }\n",
       "\n",
       "    .dataframe tbody tr th {\n",
       "        vertical-align: top;\n",
       "    }\n",
       "\n",
       "    .dataframe thead th {\n",
       "        text-align: right;\n",
       "    }\n",
       "</style>\n",
       "<table border=\"1\" class=\"dataframe\">\n",
       "  <thead>\n",
       "    <tr style=\"text-align: right;\">\n",
       "      <th></th>\n",
       "      <th>salary_in_usd</th>\n",
       "    </tr>\n",
       "  </thead>\n",
       "  <tbody>\n",
       "    <tr>\n",
       "      <th>count</th>\n",
       "      <td>4.000000</td>\n",
       "    </tr>\n",
       "    <tr>\n",
       "      <th>mean</th>\n",
       "      <td>60000.000000</td>\n",
       "    </tr>\n",
       "    <tr>\n",
       "      <th>std</th>\n",
       "      <td>29439.202888</td>\n",
       "    </tr>\n",
       "    <tr>\n",
       "      <th>min</th>\n",
       "      <td>30000.000000</td>\n",
       "    </tr>\n",
       "    <tr>\n",
       "      <th>25%</th>\n",
       "      <td>45000.000000</td>\n",
       "    </tr>\n",
       "    <tr>\n",
       "      <th>50%</th>\n",
       "      <td>55000.000000</td>\n",
       "    </tr>\n",
       "    <tr>\n",
       "      <th>75%</th>\n",
       "      <td>70000.000000</td>\n",
       "    </tr>\n",
       "    <tr>\n",
       "      <th>max</th>\n",
       "      <td>100000.000000</td>\n",
       "    </tr>\n",
       "  </tbody>\n",
       "</table>\n",
       "</div>"
      ],
      "text/plain": [
       "       salary_in_usd\n",
       "count       4.000000\n",
       "mean    60000.000000\n",
       "std     29439.202888\n",
       "min     30000.000000\n",
       "25%     45000.000000\n",
       "50%     55000.000000\n",
       "75%     70000.000000\n",
       "max    100000.000000"
      ]
     },
     "execution_count": 40,
     "metadata": {},
     "output_type": "execute_result"
    }
   ],
   "source": [
    "group_EN_FL_D.describe()"
   ]
  },
  {
   "cell_type": "markdown",
   "id": "9e682bbd-163f-44c5-a5c9-998cb9698a14",
   "metadata": {},
   "source": [
    "### 해석\n",
    "1. 연봉비율은 고급인력이나 신입인력이나 비슷함.\n",
    "2. 프리랜서들은 정규직의 최저 연봉을 받는 사람들보다는 평균적으로 높지만\n",
    "   최고 연봉을 받는 사람들보다는 현저히 낮음. (최저 연봉을 받는 사람들에게는 프리랜서를 고민해보는게 나쁘지 않아보임)"
   ]
  },
  {
   "cell_type": "markdown",
   "id": "f9213234-cac3-476b-8952-403e81872222",
   "metadata": {},
   "source": [
    "### 회사 크기별 연봉 차이 알아보기"
   ]
  },
  {
   "cell_type": "code",
   "execution_count": 41,
   "id": "36c0b9e6-a84f-45e5-a837-909ca6f7f233",
   "metadata": {},
   "outputs": [
    {
     "data": {
      "text/html": [
       "<div>\n",
       "<style scoped>\n",
       "    .dataframe tbody tr th:only-of-type {\n",
       "        vertical-align: middle;\n",
       "    }\n",
       "\n",
       "    .dataframe tbody tr th {\n",
       "        vertical-align: top;\n",
       "    }\n",
       "\n",
       "    .dataframe thead th {\n",
       "        text-align: right;\n",
       "    }\n",
       "</style>\n",
       "<table border=\"1\" class=\"dataframe\">\n",
       "  <thead>\n",
       "    <tr style=\"text-align: right;\">\n",
       "      <th></th>\n",
       "      <th>work_year</th>\n",
       "      <th>experience_level</th>\n",
       "      <th>employment_type</th>\n",
       "      <th>job_title</th>\n",
       "      <th>salary</th>\n",
       "      <th>salary_currency</th>\n",
       "      <th>salary_in_usd</th>\n",
       "      <th>employee_residence</th>\n",
       "      <th>remote_ratio</th>\n",
       "      <th>company_location</th>\n",
       "      <th>company_size</th>\n",
       "    </tr>\n",
       "  </thead>\n",
       "  <tbody>\n",
       "    <tr>\n",
       "      <th>0</th>\n",
       "      <td>2025</td>\n",
       "      <td>MI</td>\n",
       "      <td>FT</td>\n",
       "      <td>Analyst</td>\n",
       "      <td>142000</td>\n",
       "      <td>USD</td>\n",
       "      <td>142000</td>\n",
       "      <td>US</td>\n",
       "      <td>0</td>\n",
       "      <td>US</td>\n",
       "      <td>M</td>\n",
       "    </tr>\n",
       "    <tr>\n",
       "      <th>1</th>\n",
       "      <td>2025</td>\n",
       "      <td>MI</td>\n",
       "      <td>FT</td>\n",
       "      <td>Analyst</td>\n",
       "      <td>87000</td>\n",
       "      <td>USD</td>\n",
       "      <td>87000</td>\n",
       "      <td>US</td>\n",
       "      <td>0</td>\n",
       "      <td>US</td>\n",
       "      <td>M</td>\n",
       "    </tr>\n",
       "    <tr>\n",
       "      <th>2</th>\n",
       "      <td>2025</td>\n",
       "      <td>SE</td>\n",
       "      <td>FT</td>\n",
       "      <td>Data Quality Lead</td>\n",
       "      <td>218700</td>\n",
       "      <td>USD</td>\n",
       "      <td>218700</td>\n",
       "      <td>US</td>\n",
       "      <td>0</td>\n",
       "      <td>US</td>\n",
       "      <td>M</td>\n",
       "    </tr>\n",
       "    <tr>\n",
       "      <th>3</th>\n",
       "      <td>2025</td>\n",
       "      <td>SE</td>\n",
       "      <td>FT</td>\n",
       "      <td>Data Quality Lead</td>\n",
       "      <td>163200</td>\n",
       "      <td>USD</td>\n",
       "      <td>163200</td>\n",
       "      <td>US</td>\n",
       "      <td>0</td>\n",
       "      <td>US</td>\n",
       "      <td>M</td>\n",
       "    </tr>\n",
       "    <tr>\n",
       "      <th>4</th>\n",
       "      <td>2025</td>\n",
       "      <td>MI</td>\n",
       "      <td>FT</td>\n",
       "      <td>Data Quality Specialist</td>\n",
       "      <td>121524</td>\n",
       "      <td>USD</td>\n",
       "      <td>121524</td>\n",
       "      <td>US</td>\n",
       "      <td>0</td>\n",
       "      <td>US</td>\n",
       "      <td>M</td>\n",
       "    </tr>\n",
       "  </tbody>\n",
       "</table>\n",
       "</div>"
      ],
      "text/plain": [
       "   work_year experience_level employment_type                job_title  \\\n",
       "0       2025               MI              FT                  Analyst   \n",
       "1       2025               MI              FT                  Analyst   \n",
       "2       2025               SE              FT        Data Quality Lead   \n",
       "3       2025               SE              FT        Data Quality Lead   \n",
       "4       2025               MI              FT  Data Quality Specialist   \n",
       "\n",
       "   salary salary_currency  salary_in_usd employee_residence  remote_ratio  \\\n",
       "0  142000             USD         142000                 US             0   \n",
       "1   87000             USD          87000                 US             0   \n",
       "2  218700             USD         218700                 US             0   \n",
       "3  163200             USD         163200                 US             0   \n",
       "4  121524             USD         121524                 US             0   \n",
       "\n",
       "  company_location company_size  \n",
       "0               US            M  \n",
       "1               US            M  \n",
       "2               US            M  \n",
       "3               US            M  \n",
       "4               US            M  "
      ]
     },
     "execution_count": 41,
     "metadata": {},
     "output_type": "execute_result"
    }
   ],
   "source": [
    "salary_df.head()"
   ]
  },
  {
   "cell_type": "code",
   "execution_count": 42,
   "id": "154513ea-6d67-465d-84dc-681a1ebabdd0",
   "metadata": {},
   "outputs": [
    {
     "data": {
      "text/plain": [
       "array(['M', 'L', 'S'], dtype=object)"
      ]
     },
     "execution_count": 42,
     "metadata": {},
     "output_type": "execute_result"
    }
   ],
   "source": [
    "salary_df['company_size'].unique()"
   ]
  },
  {
   "cell_type": "code",
   "execution_count": 43,
   "id": "846d041d-c63a-47cb-b642-c32c32b70f5d",
   "metadata": {},
   "outputs": [],
   "source": [
    "salary_CS_M = salary_df[salary_df['company_size']== 'M']\n",
    "salary_CS_L = salary_df[salary_df['company_size']== 'L']\n",
    "salary_CS_S = salary_df[salary_df['company_size']== 'S']"
   ]
  },
  {
   "cell_type": "code",
   "execution_count": 44,
   "id": "b115ca57-3cb9-4414-bb51-4cad7e64ca09",
   "metadata": {},
   "outputs": [
    {
     "name": "stdout",
     "output_type": "stream",
     "text": [
      "(142292, 11)\n",
      "(3839, 11)\n",
      "(217, 11)\n"
     ]
    }
   ],
   "source": [
    "print(salary_CS_M.shape)\n",
    "print(salary_CS_L.shape)\n",
    "print(salary_CS_S.shape)"
   ]
  },
  {
   "cell_type": "code",
   "execution_count": 45,
   "id": "69d4d1e7-872f-45f5-8473-a25ad370abdb",
   "metadata": {},
   "outputs": [
    {
     "data": {
      "text/html": [
       "<div>\n",
       "<style scoped>\n",
       "    .dataframe tbody tr th:only-of-type {\n",
       "        vertical-align: middle;\n",
       "    }\n",
       "\n",
       "    .dataframe tbody tr th {\n",
       "        vertical-align: top;\n",
       "    }\n",
       "\n",
       "    .dataframe thead th {\n",
       "        text-align: right;\n",
       "    }\n",
       "</style>\n",
       "<table border=\"1\" class=\"dataframe\">\n",
       "  <thead>\n",
       "    <tr style=\"text-align: right;\">\n",
       "      <th></th>\n",
       "      <th>salary_in_usd</th>\n",
       "    </tr>\n",
       "    <tr>\n",
       "      <th>job_title</th>\n",
       "      <th></th>\n",
       "    </tr>\n",
       "  </thead>\n",
       "  <tbody>\n",
       "    <tr>\n",
       "      <th>Research Team Lead</th>\n",
       "      <td>450000.000000</td>\n",
       "    </tr>\n",
       "    <tr>\n",
       "      <th>Finance Data Analyst</th>\n",
       "      <td>323905.000000</td>\n",
       "    </tr>\n",
       "    <tr>\n",
       "      <th>Applied AI ML Lead</th>\n",
       "      <td>292500.000000</td>\n",
       "    </tr>\n",
       "    <tr>\n",
       "      <th>Head of Machine Learning</th>\n",
       "      <td>278312.500000</td>\n",
       "    </tr>\n",
       "    <tr>\n",
       "      <th>Head of Applied AI</th>\n",
       "      <td>273875.000000</td>\n",
       "    </tr>\n",
       "    <tr>\n",
       "      <th>Director of Data</th>\n",
       "      <td>270000.000000</td>\n",
       "    </tr>\n",
       "    <tr>\n",
       "      <th>AIRS Solutions Specialist</th>\n",
       "      <td>263250.000000</td>\n",
       "    </tr>\n",
       "    <tr>\n",
       "      <th>Machine Learning Performance Engineer</th>\n",
       "      <td>262500.000000</td>\n",
       "    </tr>\n",
       "    <tr>\n",
       "      <th>Director of Product Management</th>\n",
       "      <td>259155.535714</td>\n",
       "    </tr>\n",
       "    <tr>\n",
       "      <th>Engineering Manager</th>\n",
       "      <td>258417.416667</td>\n",
       "    </tr>\n",
       "  </tbody>\n",
       "</table>\n",
       "</div>"
      ],
      "text/plain": [
       "                                       salary_in_usd\n",
       "job_title                                           \n",
       "Research Team Lead                     450000.000000\n",
       "Finance Data Analyst                   323905.000000\n",
       "Applied AI ML Lead                     292500.000000\n",
       "Head of Machine Learning               278312.500000\n",
       "Head of Applied AI                     273875.000000\n",
       "Director of Data                       270000.000000\n",
       "AIRS Solutions Specialist              263250.000000\n",
       "Machine Learning Performance Engineer  262500.000000\n",
       "Director of Product Management         259155.535714\n",
       "Engineering Manager                    258417.416667"
      ]
     },
     "execution_count": 45,
     "metadata": {},
     "output_type": "execute_result"
    }
   ],
   "source": [
    "salary_CS_M_D = pd.DataFrame(salary_CS_M.groupby('job_title')['salary_in_usd'].mean().sort_values(ascending=False))\n",
    "salary_CS_M_D.head(10)"
   ]
  },
  {
   "cell_type": "code",
   "execution_count": 46,
   "id": "b7df61ea-c170-49ae-94cb-1e34a6769d23",
   "metadata": {},
   "outputs": [
    {
     "data": {
      "text/html": [
       "<div>\n",
       "<style scoped>\n",
       "    .dataframe tbody tr th:only-of-type {\n",
       "        vertical-align: middle;\n",
       "    }\n",
       "\n",
       "    .dataframe tbody tr th {\n",
       "        vertical-align: top;\n",
       "    }\n",
       "\n",
       "    .dataframe thead th {\n",
       "        text-align: right;\n",
       "    }\n",
       "</style>\n",
       "<table border=\"1\" class=\"dataframe\">\n",
       "  <thead>\n",
       "    <tr style=\"text-align: right;\">\n",
       "      <th></th>\n",
       "      <th>salary_in_usd</th>\n",
       "    </tr>\n",
       "  </thead>\n",
       "  <tbody>\n",
       "    <tr>\n",
       "      <th>count</th>\n",
       "      <td>367.000000</td>\n",
       "    </tr>\n",
       "    <tr>\n",
       "      <th>mean</th>\n",
       "      <td>136999.061000</td>\n",
       "    </tr>\n",
       "    <tr>\n",
       "      <th>std</th>\n",
       "      <td>54232.505630</td>\n",
       "    </tr>\n",
       "    <tr>\n",
       "      <th>min</th>\n",
       "      <td>15000.000000</td>\n",
       "    </tr>\n",
       "    <tr>\n",
       "      <th>25%</th>\n",
       "      <td>99851.500000</td>\n",
       "    </tr>\n",
       "    <tr>\n",
       "      <th>50%</th>\n",
       "      <td>135170.000000</td>\n",
       "    </tr>\n",
       "    <tr>\n",
       "      <th>75%</th>\n",
       "      <td>170362.276394</td>\n",
       "    </tr>\n",
       "    <tr>\n",
       "      <th>max</th>\n",
       "      <td>450000.000000</td>\n",
       "    </tr>\n",
       "  </tbody>\n",
       "</table>\n",
       "</div>"
      ],
      "text/plain": [
       "       salary_in_usd\n",
       "count     367.000000\n",
       "mean   136999.061000\n",
       "std     54232.505630\n",
       "min     15000.000000\n",
       "25%     99851.500000\n",
       "50%    135170.000000\n",
       "75%    170362.276394\n",
       "max    450000.000000"
      ]
     },
     "execution_count": 46,
     "metadata": {},
     "output_type": "execute_result"
    }
   ],
   "source": [
    "salary_CS_M_D.describe()"
   ]
  },
  {
   "cell_type": "code",
   "execution_count": 47,
   "id": "7dd7ca8f-877c-4096-a3b2-ef8aaa29f3ce",
   "metadata": {},
   "outputs": [
    {
     "data": {
      "text/html": [
       "<div>\n",
       "<style scoped>\n",
       "    .dataframe tbody tr th:only-of-type {\n",
       "        vertical-align: middle;\n",
       "    }\n",
       "\n",
       "    .dataframe tbody tr th {\n",
       "        vertical-align: top;\n",
       "    }\n",
       "\n",
       "    .dataframe thead th {\n",
       "        text-align: right;\n",
       "    }\n",
       "</style>\n",
       "<table border=\"1\" class=\"dataframe\">\n",
       "  <thead>\n",
       "    <tr style=\"text-align: right;\">\n",
       "      <th></th>\n",
       "      <th>salary_in_usd</th>\n",
       "    </tr>\n",
       "    <tr>\n",
       "      <th>job_title</th>\n",
       "      <th></th>\n",
       "    </tr>\n",
       "  </thead>\n",
       "  <tbody>\n",
       "    <tr>\n",
       "      <th>Analytics Engineering Manager</th>\n",
       "      <td>399880.000000</td>\n",
       "    </tr>\n",
       "    <tr>\n",
       "      <th>Data Science Tech Lead</th>\n",
       "      <td>375000.000000</td>\n",
       "    </tr>\n",
       "    <tr>\n",
       "      <th>IT Enterprise Data Architect</th>\n",
       "      <td>284090.000000</td>\n",
       "    </tr>\n",
       "    <tr>\n",
       "      <th>AWS Data Architect</th>\n",
       "      <td>258000.000000</td>\n",
       "    </tr>\n",
       "    <tr>\n",
       "      <th>Cloud Data Architect</th>\n",
       "      <td>250000.000000</td>\n",
       "    </tr>\n",
       "    <tr>\n",
       "      <th>Software Architect</th>\n",
       "      <td>249000.000000</td>\n",
       "    </tr>\n",
       "    <tr>\n",
       "      <th>Product Designer</th>\n",
       "      <td>244750.000000</td>\n",
       "    </tr>\n",
       "    <tr>\n",
       "      <th>Data Analytics Lead</th>\n",
       "      <td>241700.000000</td>\n",
       "    </tr>\n",
       "    <tr>\n",
       "      <th>Member of Technical Staff</th>\n",
       "      <td>224466.666667</td>\n",
       "    </tr>\n",
       "    <tr>\n",
       "      <th>AI Architect</th>\n",
       "      <td>218705.142857</td>\n",
       "    </tr>\n",
       "  </tbody>\n",
       "</table>\n",
       "</div>"
      ],
      "text/plain": [
       "                               salary_in_usd\n",
       "job_title                                   \n",
       "Analytics Engineering Manager  399880.000000\n",
       "Data Science Tech Lead         375000.000000\n",
       "IT Enterprise Data Architect   284090.000000\n",
       "AWS Data Architect             258000.000000\n",
       "Cloud Data Architect           250000.000000\n",
       "Software Architect             249000.000000\n",
       "Product Designer               244750.000000\n",
       "Data Analytics Lead            241700.000000\n",
       "Member of Technical Staff      224466.666667\n",
       "AI Architect                   218705.142857"
      ]
     },
     "execution_count": 47,
     "metadata": {},
     "output_type": "execute_result"
    }
   ],
   "source": [
    "salary_CS_L_D = pd.DataFrame(salary_CS_L.groupby('job_title')['salary_in_usd'].mean().sort_values(ascending=False))\n",
    "salary_CS_L_D.head(10)"
   ]
  },
  {
   "cell_type": "code",
   "execution_count": 48,
   "id": "614ba1dc-74b6-43b3-84a3-4ba49298a2ce",
   "metadata": {},
   "outputs": [
    {
     "data": {
      "text/html": [
       "<div>\n",
       "<style scoped>\n",
       "    .dataframe tbody tr th:only-of-type {\n",
       "        vertical-align: middle;\n",
       "    }\n",
       "\n",
       "    .dataframe tbody tr th {\n",
       "        vertical-align: top;\n",
       "    }\n",
       "\n",
       "    .dataframe thead th {\n",
       "        text-align: right;\n",
       "    }\n",
       "</style>\n",
       "<table border=\"1\" class=\"dataframe\">\n",
       "  <thead>\n",
       "    <tr style=\"text-align: right;\">\n",
       "      <th></th>\n",
       "      <th>salary_in_usd</th>\n",
       "    </tr>\n",
       "  </thead>\n",
       "  <tbody>\n",
       "    <tr>\n",
       "      <th>count</th>\n",
       "      <td>169.000000</td>\n",
       "    </tr>\n",
       "    <tr>\n",
       "      <th>mean</th>\n",
       "      <td>116819.705110</td>\n",
       "    </tr>\n",
       "    <tr>\n",
       "      <th>std</th>\n",
       "      <td>63780.651681</td>\n",
       "    </tr>\n",
       "    <tr>\n",
       "      <th>min</th>\n",
       "      <td>17888.000000</td>\n",
       "    </tr>\n",
       "    <tr>\n",
       "      <th>25%</th>\n",
       "      <td>73029.000000</td>\n",
       "    </tr>\n",
       "    <tr>\n",
       "      <th>50%</th>\n",
       "      <td>110833.333333</td>\n",
       "    </tr>\n",
       "    <tr>\n",
       "      <th>75%</th>\n",
       "      <td>159817.861635</td>\n",
       "    </tr>\n",
       "    <tr>\n",
       "      <th>max</th>\n",
       "      <td>399880.000000</td>\n",
       "    </tr>\n",
       "  </tbody>\n",
       "</table>\n",
       "</div>"
      ],
      "text/plain": [
       "       salary_in_usd\n",
       "count     169.000000\n",
       "mean   116819.705110\n",
       "std     63780.651681\n",
       "min     17888.000000\n",
       "25%     73029.000000\n",
       "50%    110833.333333\n",
       "75%    159817.861635\n",
       "max    399880.000000"
      ]
     },
     "execution_count": 48,
     "metadata": {},
     "output_type": "execute_result"
    }
   ],
   "source": [
    "salary_CS_L_D.describe()"
   ]
  },
  {
   "cell_type": "code",
   "execution_count": 49,
   "id": "eae7313d-617b-4b0b-b359-8d1283603bcd",
   "metadata": {},
   "outputs": [
    {
     "data": {
      "text/html": [
       "<div>\n",
       "<style scoped>\n",
       "    .dataframe tbody tr th:only-of-type {\n",
       "        vertical-align: middle;\n",
       "    }\n",
       "\n",
       "    .dataframe tbody tr th {\n",
       "        vertical-align: top;\n",
       "    }\n",
       "\n",
       "    .dataframe thead th {\n",
       "        text-align: right;\n",
       "    }\n",
       "</style>\n",
       "<table border=\"1\" class=\"dataframe\">\n",
       "  <thead>\n",
       "    <tr style=\"text-align: right;\">\n",
       "      <th></th>\n",
       "      <th>salary_in_usd</th>\n",
       "    </tr>\n",
       "    <tr>\n",
       "      <th>job_title</th>\n",
       "      <th></th>\n",
       "    </tr>\n",
       "  </thead>\n",
       "  <tbody>\n",
       "    <tr>\n",
       "      <th>Principal Data Scientist</th>\n",
       "      <td>416000.0</td>\n",
       "    </tr>\n",
       "    <tr>\n",
       "      <th>AI Data Scientist</th>\n",
       "      <td>200000.0</td>\n",
       "    </tr>\n",
       "    <tr>\n",
       "      <th>Associate</th>\n",
       "      <td>200000.0</td>\n",
       "    </tr>\n",
       "    <tr>\n",
       "      <th>BI Analyst</th>\n",
       "      <td>200000.0</td>\n",
       "    </tr>\n",
       "    <tr>\n",
       "      <th>Marketing Data Analyst</th>\n",
       "      <td>200000.0</td>\n",
       "    </tr>\n",
       "    <tr>\n",
       "      <th>Staff Data Analyst</th>\n",
       "      <td>179998.0</td>\n",
       "    </tr>\n",
       "    <tr>\n",
       "      <th>Cloud Data Engineer</th>\n",
       "      <td>160000.0</td>\n",
       "    </tr>\n",
       "    <tr>\n",
       "      <th>Machine Learning Scientist</th>\n",
       "      <td>149959.0</td>\n",
       "    </tr>\n",
       "    <tr>\n",
       "      <th>AI Developer</th>\n",
       "      <td>147246.0</td>\n",
       "    </tr>\n",
       "    <tr>\n",
       "      <th>Machine Learning Researcher</th>\n",
       "      <td>130000.0</td>\n",
       "    </tr>\n",
       "  </tbody>\n",
       "</table>\n",
       "</div>"
      ],
      "text/plain": [
       "                             salary_in_usd\n",
       "job_title                                 \n",
       "Principal Data Scientist          416000.0\n",
       "AI Data Scientist                 200000.0\n",
       "Associate                         200000.0\n",
       "BI Analyst                        200000.0\n",
       "Marketing Data Analyst            200000.0\n",
       "Staff Data Analyst                179998.0\n",
       "Cloud Data Engineer               160000.0\n",
       "Machine Learning Scientist        149959.0\n",
       "AI Developer                      147246.0\n",
       "Machine Learning Researcher       130000.0"
      ]
     },
     "execution_count": 49,
     "metadata": {},
     "output_type": "execute_result"
    }
   ],
   "source": [
    "salary_CS_S_D = pd.DataFrame(salary_CS_S.groupby('job_title')['salary_in_usd'].mean().sort_values(ascending=False))\n",
    "salary_CS_S_D.head(10)"
   ]
  },
  {
   "cell_type": "code",
   "execution_count": 50,
   "id": "811c1eff-fde1-450e-bfa0-f3a06f378902",
   "metadata": {},
   "outputs": [
    {
     "data": {
      "text/html": [
       "<div>\n",
       "<style scoped>\n",
       "    .dataframe tbody tr th:only-of-type {\n",
       "        vertical-align: middle;\n",
       "    }\n",
       "\n",
       "    .dataframe tbody tr th {\n",
       "        vertical-align: top;\n",
       "    }\n",
       "\n",
       "    .dataframe thead th {\n",
       "        text-align: right;\n",
       "    }\n",
       "</style>\n",
       "<table border=\"1\" class=\"dataframe\">\n",
       "  <thead>\n",
       "    <tr style=\"text-align: right;\">\n",
       "      <th></th>\n",
       "      <th>salary_in_usd</th>\n",
       "    </tr>\n",
       "  </thead>\n",
       "  <tbody>\n",
       "    <tr>\n",
       "      <th>count</th>\n",
       "      <td>60.000000</td>\n",
       "    </tr>\n",
       "    <tr>\n",
       "      <th>mean</th>\n",
       "      <td>93400.539306</td>\n",
       "    </tr>\n",
       "    <tr>\n",
       "      <th>std</th>\n",
       "      <td>62115.831795</td>\n",
       "    </tr>\n",
       "    <tr>\n",
       "      <th>min</th>\n",
       "      <td>27777.000000</td>\n",
       "    </tr>\n",
       "    <tr>\n",
       "      <th>25%</th>\n",
       "      <td>53880.750000</td>\n",
       "    </tr>\n",
       "    <tr>\n",
       "      <th>50%</th>\n",
       "      <td>73500.000000</td>\n",
       "    </tr>\n",
       "    <tr>\n",
       "      <th>75%</th>\n",
       "      <td>118235.250000</td>\n",
       "    </tr>\n",
       "    <tr>\n",
       "      <th>max</th>\n",
       "      <td>416000.000000</td>\n",
       "    </tr>\n",
       "  </tbody>\n",
       "</table>\n",
       "</div>"
      ],
      "text/plain": [
       "       salary_in_usd\n",
       "count      60.000000\n",
       "mean    93400.539306\n",
       "std     62115.831795\n",
       "min     27777.000000\n",
       "25%     53880.750000\n",
       "50%     73500.000000\n",
       "75%    118235.250000\n",
       "max    416000.000000"
      ]
     },
     "execution_count": 50,
     "metadata": {},
     "output_type": "execute_result"
    }
   ],
   "source": [
    "salary_CS_S_D.describe()"
   ]
  },
  {
   "cell_type": "code",
   "execution_count": null,
   "id": "dfdca5d0-4b7e-46cd-a351-28efc8710e69",
   "metadata": {},
   "outputs": [],
   "source": []
  }
 ],
 "metadata": {
  "kernelspec": {
   "display_name": "Python 3 (ipykernel)",
   "language": "python",
   "name": "python3"
  },
  "language_info": {
   "codemirror_mode": {
    "name": "ipython",
    "version": 3
   },
   "file_extension": ".py",
   "mimetype": "text/x-python",
   "name": "python",
   "nbconvert_exporter": "python",
   "pygments_lexer": "ipython3",
   "version": "3.13.5"
  }
 },
 "nbformat": 4,
 "nbformat_minor": 5
}
