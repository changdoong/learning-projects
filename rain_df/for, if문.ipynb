{
 "cells": [
  {
   "cell_type": "code",
   "execution_count": 1,
   "id": "2e646262-f230-4171-bf06-1e031f7e5836",
   "metadata": {},
   "outputs": [
    {
     "name": "stdout",
     "output_type": "stream",
     "text": [
      "one!\n",
      "two!\n",
      "three!\n",
      "four!\n"
     ]
    }
   ],
   "source": [
    "test_list = ['one','two','three','four']\n",
    "\n",
    "for i in test_list:\n",
    "    x = i + '!'\n",
    "    print(x)"
   ]
  },
  {
   "cell_type": "code",
   "execution_count": 3,
   "id": "df464c93-79a2-4d6f-a926-35821ba42c5e",
   "metadata": {},
   "outputs": [
    {
     "name": "stdout",
     "output_type": "stream",
     "text": [
      "1번 학생은 합격입니다\n",
      "2번 학생 탈락\n",
      "3번 학생은 합격입니다\n",
      "4번 학생 탈락\n",
      "5번 학생은 합격입니다\n"
     ]
    }
   ],
   "source": [
    "number = 0\n",
    "for score in [90,25,67,45,93]:\n",
    "    number += 1\n",
    "    if score >= 60:\n",
    "        print(f'{number}번 학생은 합격입니다')\n",
    "    else:\n",
    "        print(f'{number}번 학생 탈락')"
   ]
  },
  {
   "cell_type": "code",
   "execution_count": null,
   "id": "98e12220-f285-4cbc-b9e1-50855c4ed8af",
   "metadata": {},
   "outputs": [],
   "source": [
    "i = 0 \n",
    "while i < 5:\n",
    "    i += 1\n",
    "    print(i)"
   ]
  }
 ],
 "metadata": {
  "kernelspec": {
   "display_name": "Python 3 (ipykernel)",
   "language": "python",
   "name": "python3"
  },
  "language_info": {
   "codemirror_mode": {
    "name": "ipython",
    "version": 3
   },
   "file_extension": ".py",
   "mimetype": "text/x-python",
   "name": "python",
   "nbconvert_exporter": "python",
   "pygments_lexer": "ipython3",
   "version": "3.13.5"
  }
 },
 "nbformat": 4,
 "nbformat_minor": 5
}
