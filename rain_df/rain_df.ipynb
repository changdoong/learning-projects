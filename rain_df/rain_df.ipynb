{
 "cells": [
  {
   "cell_type": "code",
   "execution_count": 57,
   "id": "863e0603-bcf3-46aa-b4c2-9092b4e8b0b3",
   "metadata": {},
   "outputs": [],
   "source": [
    "import pandas as pd\n",
    "import matplotlib.pyplot as plt\n",
    "import seaborn as sns\n",
    "from sklearn.model_selection import train_test_split\n",
    "from lazypredict.Supervised import LazyClassifier\n",
    "from sklearn.linear_model import SGDClassifier\n",
    "from sklearn.preprocessing import StandardScaler\n",
    "from sklearn.naive_bayes import BernoulliNB\n",
    "from sklearn.metrics import accuracy_score\n",
    "import optuna"
   ]
  },
  {
   "cell_type": "code",
   "execution_count": 5,
   "id": "8769a675-9b14-482f-838d-937a61e5d140",
   "metadata": {},
   "outputs": [],
   "source": [
    "train_df = pd.read_csv('train.csv')\n",
    "test_df = pd.read_csv('test.csv')\n",
    "sas_df = pd.read_csv('sample_submission.csv')"
   ]
  },
  {
   "cell_type": "code",
   "execution_count": 6,
   "id": "3cbbfafe-f620-44da-8c04-edc270d8e9cb",
   "metadata": {},
   "outputs": [
    {
     "data": {
      "text/html": [
       "<div>\n",
       "<style scoped>\n",
       "    .dataframe tbody tr th:only-of-type {\n",
       "        vertical-align: middle;\n",
       "    }\n",
       "\n",
       "    .dataframe tbody tr th {\n",
       "        vertical-align: top;\n",
       "    }\n",
       "\n",
       "    .dataframe thead th {\n",
       "        text-align: right;\n",
       "    }\n",
       "</style>\n",
       "<table border=\"1\" class=\"dataframe\">\n",
       "  <thead>\n",
       "    <tr style=\"text-align: right;\">\n",
       "      <th></th>\n",
       "      <th>id</th>\n",
       "      <th>day</th>\n",
       "      <th>pressure</th>\n",
       "      <th>maxtemp</th>\n",
       "      <th>temparature</th>\n",
       "      <th>mintemp</th>\n",
       "      <th>dewpoint</th>\n",
       "      <th>humidity</th>\n",
       "      <th>cloud</th>\n",
       "      <th>sunshine</th>\n",
       "      <th>winddirection</th>\n",
       "      <th>windspeed</th>\n",
       "      <th>rainfall</th>\n",
       "    </tr>\n",
       "  </thead>\n",
       "  <tbody>\n",
       "    <tr>\n",
       "      <th>0</th>\n",
       "      <td>0</td>\n",
       "      <td>1</td>\n",
       "      <td>1017.4</td>\n",
       "      <td>21.2</td>\n",
       "      <td>20.6</td>\n",
       "      <td>19.9</td>\n",
       "      <td>19.4</td>\n",
       "      <td>87.0</td>\n",
       "      <td>88.0</td>\n",
       "      <td>1.1</td>\n",
       "      <td>60.0</td>\n",
       "      <td>17.2</td>\n",
       "      <td>1</td>\n",
       "    </tr>\n",
       "    <tr>\n",
       "      <th>1</th>\n",
       "      <td>1</td>\n",
       "      <td>2</td>\n",
       "      <td>1019.5</td>\n",
       "      <td>16.2</td>\n",
       "      <td>16.9</td>\n",
       "      <td>15.8</td>\n",
       "      <td>15.4</td>\n",
       "      <td>95.0</td>\n",
       "      <td>91.0</td>\n",
       "      <td>0.0</td>\n",
       "      <td>50.0</td>\n",
       "      <td>21.9</td>\n",
       "      <td>1</td>\n",
       "    </tr>\n",
       "    <tr>\n",
       "      <th>2</th>\n",
       "      <td>2</td>\n",
       "      <td>3</td>\n",
       "      <td>1024.1</td>\n",
       "      <td>19.4</td>\n",
       "      <td>16.1</td>\n",
       "      <td>14.6</td>\n",
       "      <td>9.3</td>\n",
       "      <td>75.0</td>\n",
       "      <td>47.0</td>\n",
       "      <td>8.3</td>\n",
       "      <td>70.0</td>\n",
       "      <td>18.1</td>\n",
       "      <td>1</td>\n",
       "    </tr>\n",
       "    <tr>\n",
       "      <th>3</th>\n",
       "      <td>3</td>\n",
       "      <td>4</td>\n",
       "      <td>1013.4</td>\n",
       "      <td>18.1</td>\n",
       "      <td>17.8</td>\n",
       "      <td>16.9</td>\n",
       "      <td>16.8</td>\n",
       "      <td>95.0</td>\n",
       "      <td>95.0</td>\n",
       "      <td>0.0</td>\n",
       "      <td>60.0</td>\n",
       "      <td>35.6</td>\n",
       "      <td>1</td>\n",
       "    </tr>\n",
       "    <tr>\n",
       "      <th>4</th>\n",
       "      <td>4</td>\n",
       "      <td>5</td>\n",
       "      <td>1021.8</td>\n",
       "      <td>21.3</td>\n",
       "      <td>18.4</td>\n",
       "      <td>15.2</td>\n",
       "      <td>9.6</td>\n",
       "      <td>52.0</td>\n",
       "      <td>45.0</td>\n",
       "      <td>3.6</td>\n",
       "      <td>40.0</td>\n",
       "      <td>24.8</td>\n",
       "      <td>0</td>\n",
       "    </tr>\n",
       "  </tbody>\n",
       "</table>\n",
       "</div>"
      ],
      "text/plain": [
       "   id  day  pressure  maxtemp  temparature  mintemp  dewpoint  humidity  \\\n",
       "0   0    1    1017.4     21.2         20.6     19.9      19.4      87.0   \n",
       "1   1    2    1019.5     16.2         16.9     15.8      15.4      95.0   \n",
       "2   2    3    1024.1     19.4         16.1     14.6       9.3      75.0   \n",
       "3   3    4    1013.4     18.1         17.8     16.9      16.8      95.0   \n",
       "4   4    5    1021.8     21.3         18.4     15.2       9.6      52.0   \n",
       "\n",
       "   cloud  sunshine  winddirection  windspeed  rainfall  \n",
       "0   88.0       1.1           60.0       17.2         1  \n",
       "1   91.0       0.0           50.0       21.9         1  \n",
       "2   47.0       8.3           70.0       18.1         1  \n",
       "3   95.0       0.0           60.0       35.6         1  \n",
       "4   45.0       3.6           40.0       24.8         0  "
      ]
     },
     "execution_count": 6,
     "metadata": {},
     "output_type": "execute_result"
    }
   ],
   "source": [
    "train_df.head()"
   ]
  },
  {
   "cell_type": "markdown",
   "id": "713f2d98-be60-4f23-9946-fdd1d6dd12b8",
   "metadata": {},
   "source": [
    "#### 컬럼 설명\n",
    "- id            : 아이디\n",
    "- day           : 날짜\n",
    "- pressure      : 기압\n",
    "- maxtemp       : 최대 온도\n",
    "- temparature   : 온도\n",
    "- mintemp       : 최소온도\n",
    "- dewpoint      : 이슬점\n",
    "- humidity      : 습도\n",
    "- cloud         : 구름\n",
    "- sunshine      : 햇빛\n",
    "- winddirection : 바람 방향\n",
    "- windspeed     : 바람 속도\n",
    "- rainfall      : 비 여부"
   ]
  },
  {
   "cell_type": "code",
   "execution_count": 7,
   "id": "812d2337-04aa-4c00-9dec-3f7be46551eb",
   "metadata": {},
   "outputs": [
    {
     "name": "stdout",
     "output_type": "stream",
     "text": [
      "(2190, 13)\n",
      "(730, 12)\n"
     ]
    }
   ],
   "source": [
    "print(f'{train_df.shape}')\n",
    "print(f'{test_df.shape}')"
   ]
  },
  {
   "cell_type": "code",
   "execution_count": 8,
   "id": "0dfa7ab6-85b5-4bc0-8fbb-ac3acb2329f2",
   "metadata": {},
   "outputs": [
    {
     "data": {
      "text/plain": [
       "id               0\n",
       "day              0\n",
       "pressure         0\n",
       "maxtemp          0\n",
       "temparature      0\n",
       "mintemp          0\n",
       "dewpoint         0\n",
       "humidity         0\n",
       "cloud            0\n",
       "sunshine         0\n",
       "winddirection    0\n",
       "windspeed        0\n",
       "rainfall         0\n",
       "dtype: int64"
      ]
     },
     "execution_count": 8,
     "metadata": {},
     "output_type": "execute_result"
    }
   ],
   "source": [
    "train_df.isna().sum()"
   ]
  },
  {
   "cell_type": "code",
   "execution_count": 9,
   "id": "a1390dd3-8a18-4a31-a49b-62280a66f55a",
   "metadata": {},
   "outputs": [
    {
     "data": {
      "text/plain": [
       "id               0\n",
       "day              0\n",
       "pressure         0\n",
       "maxtemp          0\n",
       "temparature      0\n",
       "mintemp          0\n",
       "dewpoint         0\n",
       "humidity         0\n",
       "cloud            0\n",
       "sunshine         0\n",
       "winddirection    1\n",
       "windspeed        0\n",
       "dtype: int64"
      ]
     },
     "execution_count": 9,
     "metadata": {},
     "output_type": "execute_result"
    }
   ],
   "source": [
    "test_df.isna().sum()"
   ]
  },
  {
   "cell_type": "code",
   "execution_count": 10,
   "id": "5c64745f-46b5-4fab-b497-8d424b845221",
   "metadata": {},
   "outputs": [
    {
     "data": {
      "text/plain": [
       "array([  1,   2,   3,   4,   5,   6,   7,   8,   9,  10,  11,  12,  13,\n",
       "        14,  15,  16,  17,  18,  19,  20,  21,  22,  23,  24,  25,  26,\n",
       "        27,  28,  29,  30,  31,  32,  33,  34,  35,  36,  37,  38,  39,\n",
       "        40,  41,  42,  43,  44,  45,  46,  47,  48,  49,  50,  51,  52,\n",
       "        53,  54,  55,  56,  57,  58,  59,  60,  61,  62,  63,  64,  65,\n",
       "        66,  67,  68,  69,  70,  71,  72,  73,  74,  75,  76,  77,  78,\n",
       "        79,  80,  81,  82,  83,  84,  85,  86,  87,  88,  89,  90,  91,\n",
       "        92,  93,  94,  95,  96,  97,  98,  99, 100, 101, 102, 103, 104,\n",
       "       105, 106, 107, 108, 109, 110, 111, 112, 113, 114, 115, 116, 117,\n",
       "       118, 119, 120, 121, 122, 123, 124, 125, 126, 127, 128, 129, 130,\n",
       "       131, 132, 133, 134, 135, 136, 137, 138, 139, 140, 141, 142, 143,\n",
       "       144, 145, 146, 147, 148, 149, 150, 151, 152, 153, 154, 155, 156,\n",
       "       157, 158, 159, 160, 161, 162, 163, 164, 165, 166, 167, 168, 169,\n",
       "       170, 171, 172, 173, 174, 175, 176, 177, 178, 179, 180, 181, 182,\n",
       "       183, 184, 185, 186, 187, 188, 189, 190, 191, 192, 193, 194, 195,\n",
       "       196, 197, 198, 199, 200, 201, 202, 203, 204, 205, 206, 207, 208,\n",
       "       209, 210, 211, 212, 213, 214, 215, 216, 217, 218, 219, 220, 221,\n",
       "       222, 223, 224, 225, 226, 227, 228, 229, 230, 231, 232, 233, 234,\n",
       "       235, 236, 237, 238, 239, 240, 241, 242, 243, 244, 245, 246, 247,\n",
       "       248, 249, 250, 251, 252, 253, 254, 255, 256, 257, 258, 259, 260,\n",
       "       261, 262, 263, 264, 265, 266, 267, 268, 269, 270, 271, 272, 273,\n",
       "       274, 275, 276, 277, 278, 279, 280, 281, 282, 283, 284, 285, 286,\n",
       "       287, 288, 289, 290, 291, 292, 293, 294, 295, 296, 297, 298, 299,\n",
       "       300, 301, 302, 303, 304, 305, 306, 307, 308, 309, 310, 311, 312,\n",
       "       313, 314, 315, 316, 317, 318, 319, 320, 321, 322, 323, 324, 325,\n",
       "       326, 327, 328, 329, 330, 331, 332, 333, 334, 335, 336, 337, 338,\n",
       "       339, 340, 341, 342, 343, 344, 345, 346, 347, 348, 349, 350, 351,\n",
       "       352, 353, 354, 355, 356, 357, 358, 359, 360, 361, 362, 363, 364,\n",
       "       365])"
      ]
     },
     "execution_count": 10,
     "metadata": {},
     "output_type": "execute_result"
    }
   ],
   "source": [
    "train_df['day'].unique()"
   ]
  },
  {
   "cell_type": "code",
   "execution_count": 11,
   "id": "d241d591-db0e-494c-a235-34ca2d64cfc9",
   "metadata": {},
   "outputs": [
    {
     "data": {
      "text/html": [
       "<div>\n",
       "<style scoped>\n",
       "    .dataframe tbody tr th:only-of-type {\n",
       "        vertical-align: middle;\n",
       "    }\n",
       "\n",
       "    .dataframe tbody tr th {\n",
       "        vertical-align: top;\n",
       "    }\n",
       "\n",
       "    .dataframe thead th {\n",
       "        text-align: right;\n",
       "    }\n",
       "</style>\n",
       "<table border=\"1\" class=\"dataframe\">\n",
       "  <thead>\n",
       "    <tr style=\"text-align: right;\">\n",
       "      <th></th>\n",
       "      <th>id</th>\n",
       "      <th>day</th>\n",
       "      <th>pressure</th>\n",
       "      <th>maxtemp</th>\n",
       "      <th>temparature</th>\n",
       "      <th>mintemp</th>\n",
       "      <th>dewpoint</th>\n",
       "      <th>humidity</th>\n",
       "      <th>cloud</th>\n",
       "      <th>sunshine</th>\n",
       "      <th>winddirection</th>\n",
       "      <th>windspeed</th>\n",
       "      <th>rainfall</th>\n",
       "    </tr>\n",
       "  </thead>\n",
       "  <tbody>\n",
       "    <tr>\n",
       "      <th>count</th>\n",
       "      <td>2190.000000</td>\n",
       "      <td>2190.000000</td>\n",
       "      <td>2190.000000</td>\n",
       "      <td>2190.000000</td>\n",
       "      <td>2190.000000</td>\n",
       "      <td>2190.000000</td>\n",
       "      <td>2190.000000</td>\n",
       "      <td>2190.000000</td>\n",
       "      <td>2190.000000</td>\n",
       "      <td>2190.000000</td>\n",
       "      <td>2190.000000</td>\n",
       "      <td>2190.000000</td>\n",
       "      <td>2190.000000</td>\n",
       "    </tr>\n",
       "    <tr>\n",
       "      <th>mean</th>\n",
       "      <td>1094.500000</td>\n",
       "      <td>179.948402</td>\n",
       "      <td>1013.602146</td>\n",
       "      <td>26.365799</td>\n",
       "      <td>23.953059</td>\n",
       "      <td>22.170091</td>\n",
       "      <td>20.454566</td>\n",
       "      <td>82.036530</td>\n",
       "      <td>75.721918</td>\n",
       "      <td>3.744429</td>\n",
       "      <td>104.863151</td>\n",
       "      <td>21.804703</td>\n",
       "      <td>0.753425</td>\n",
       "    </tr>\n",
       "    <tr>\n",
       "      <th>std</th>\n",
       "      <td>632.342866</td>\n",
       "      <td>105.203592</td>\n",
       "      <td>5.655366</td>\n",
       "      <td>5.654330</td>\n",
       "      <td>5.222410</td>\n",
       "      <td>5.059120</td>\n",
       "      <td>5.288406</td>\n",
       "      <td>7.800654</td>\n",
       "      <td>18.026498</td>\n",
       "      <td>3.626327</td>\n",
       "      <td>80.002416</td>\n",
       "      <td>9.898659</td>\n",
       "      <td>0.431116</td>\n",
       "    </tr>\n",
       "    <tr>\n",
       "      <th>min</th>\n",
       "      <td>0.000000</td>\n",
       "      <td>1.000000</td>\n",
       "      <td>999.000000</td>\n",
       "      <td>10.400000</td>\n",
       "      <td>7.400000</td>\n",
       "      <td>4.000000</td>\n",
       "      <td>-0.300000</td>\n",
       "      <td>39.000000</td>\n",
       "      <td>2.000000</td>\n",
       "      <td>0.000000</td>\n",
       "      <td>10.000000</td>\n",
       "      <td>4.400000</td>\n",
       "      <td>0.000000</td>\n",
       "    </tr>\n",
       "    <tr>\n",
       "      <th>25%</th>\n",
       "      <td>547.250000</td>\n",
       "      <td>89.000000</td>\n",
       "      <td>1008.600000</td>\n",
       "      <td>21.300000</td>\n",
       "      <td>19.300000</td>\n",
       "      <td>17.700000</td>\n",
       "      <td>16.800000</td>\n",
       "      <td>77.000000</td>\n",
       "      <td>69.000000</td>\n",
       "      <td>0.400000</td>\n",
       "      <td>40.000000</td>\n",
       "      <td>14.125000</td>\n",
       "      <td>1.000000</td>\n",
       "    </tr>\n",
       "    <tr>\n",
       "      <th>50%</th>\n",
       "      <td>1094.500000</td>\n",
       "      <td>178.500000</td>\n",
       "      <td>1013.000000</td>\n",
       "      <td>27.800000</td>\n",
       "      <td>25.500000</td>\n",
       "      <td>23.850000</td>\n",
       "      <td>22.150000</td>\n",
       "      <td>82.000000</td>\n",
       "      <td>83.000000</td>\n",
       "      <td>2.400000</td>\n",
       "      <td>70.000000</td>\n",
       "      <td>20.500000</td>\n",
       "      <td>1.000000</td>\n",
       "    </tr>\n",
       "    <tr>\n",
       "      <th>75%</th>\n",
       "      <td>1641.750000</td>\n",
       "      <td>270.000000</td>\n",
       "      <td>1017.775000</td>\n",
       "      <td>31.200000</td>\n",
       "      <td>28.400000</td>\n",
       "      <td>26.400000</td>\n",
       "      <td>25.000000</td>\n",
       "      <td>88.000000</td>\n",
       "      <td>88.000000</td>\n",
       "      <td>6.800000</td>\n",
       "      <td>200.000000</td>\n",
       "      <td>27.900000</td>\n",
       "      <td>1.000000</td>\n",
       "    </tr>\n",
       "    <tr>\n",
       "      <th>max</th>\n",
       "      <td>2189.000000</td>\n",
       "      <td>365.000000</td>\n",
       "      <td>1034.600000</td>\n",
       "      <td>36.000000</td>\n",
       "      <td>31.500000</td>\n",
       "      <td>29.800000</td>\n",
       "      <td>26.700000</td>\n",
       "      <td>98.000000</td>\n",
       "      <td>100.000000</td>\n",
       "      <td>12.100000</td>\n",
       "      <td>300.000000</td>\n",
       "      <td>59.500000</td>\n",
       "      <td>1.000000</td>\n",
       "    </tr>\n",
       "  </tbody>\n",
       "</table>\n",
       "</div>"
      ],
      "text/plain": [
       "                id          day     pressure      maxtemp  temparature  \\\n",
       "count  2190.000000  2190.000000  2190.000000  2190.000000  2190.000000   \n",
       "mean   1094.500000   179.948402  1013.602146    26.365799    23.953059   \n",
       "std     632.342866   105.203592     5.655366     5.654330     5.222410   \n",
       "min       0.000000     1.000000   999.000000    10.400000     7.400000   \n",
       "25%     547.250000    89.000000  1008.600000    21.300000    19.300000   \n",
       "50%    1094.500000   178.500000  1013.000000    27.800000    25.500000   \n",
       "75%    1641.750000   270.000000  1017.775000    31.200000    28.400000   \n",
       "max    2189.000000   365.000000  1034.600000    36.000000    31.500000   \n",
       "\n",
       "           mintemp     dewpoint     humidity        cloud     sunshine  \\\n",
       "count  2190.000000  2190.000000  2190.000000  2190.000000  2190.000000   \n",
       "mean     22.170091    20.454566    82.036530    75.721918     3.744429   \n",
       "std       5.059120     5.288406     7.800654    18.026498     3.626327   \n",
       "min       4.000000    -0.300000    39.000000     2.000000     0.000000   \n",
       "25%      17.700000    16.800000    77.000000    69.000000     0.400000   \n",
       "50%      23.850000    22.150000    82.000000    83.000000     2.400000   \n",
       "75%      26.400000    25.000000    88.000000    88.000000     6.800000   \n",
       "max      29.800000    26.700000    98.000000   100.000000    12.100000   \n",
       "\n",
       "       winddirection    windspeed     rainfall  \n",
       "count    2190.000000  2190.000000  2190.000000  \n",
       "mean      104.863151    21.804703     0.753425  \n",
       "std        80.002416     9.898659     0.431116  \n",
       "min        10.000000     4.400000     0.000000  \n",
       "25%        40.000000    14.125000     1.000000  \n",
       "50%        70.000000    20.500000     1.000000  \n",
       "75%       200.000000    27.900000     1.000000  \n",
       "max       300.000000    59.500000     1.000000  "
      ]
     },
     "execution_count": 11,
     "metadata": {},
     "output_type": "execute_result"
    }
   ],
   "source": [
    "train_df.describe()"
   ]
  },
  {
   "cell_type": "code",
   "execution_count": 64,
   "id": "b59046bf-d4a1-477b-b9b5-a5b1698d06b1",
   "metadata": {},
   "outputs": [
    {
     "data": {
      "text/plain": [
       "id               0\n",
       "day              0\n",
       "pressure         0\n",
       "maxtemp          0\n",
       "temparature      0\n",
       "mintemp          0\n",
       "dewpoint         0\n",
       "humidity         0\n",
       "cloud            0\n",
       "sunshine         0\n",
       "winddirection    0\n",
       "windspeed        0\n",
       "dtype: int64"
      ]
     },
     "execution_count": 64,
     "metadata": {},
     "output_type": "execute_result"
    }
   ],
   "source": [
    "test_df.isna().sum()"
   ]
  },
  {
   "cell_type": "code",
   "execution_count": 63,
   "id": "e51103ff-dafd-4671-bc1b-926dcb1b5325",
   "metadata": {},
   "outputs": [],
   "source": [
    "test_df['winddirection'] = test_df['winddirection'].fillna(test_df['winddirection'].mean())"
   ]
  },
  {
   "cell_type": "code",
   "execution_count": 30,
   "id": "bb0e86ea-84b4-4e66-bfca-5b15a30e0c64",
   "metadata": {},
   "outputs": [],
   "source": [
    "train_df['temp_range'] = train_df['maxtemp'] - train_df['mintemp']\n",
    "train_df['dew_diff'] = train_df['temparature'] - train_df['dewpoint']"
   ]
  },
  {
   "cell_type": "code",
   "execution_count": 66,
   "id": "930c208f-38a7-4317-88a3-bdee29686ba0",
   "metadata": {},
   "outputs": [],
   "source": [
    "test_df['temp_range'] = test_df['maxtemp'] - test_df['mintemp']\n",
    "test_df['dew_diff'] = test_df['temparature'] - test_df['dewpoint']"
   ]
  },
  {
   "cell_type": "code",
   "execution_count": 31,
   "id": "fa1b3b72-143c-4baa-bbe6-8954697e5ac9",
   "metadata": {},
   "outputs": [],
   "source": [
    "cols = train_df.drop(columns=['id','day','rainfall','pressure']).columns"
   ]
  },
  {
   "cell_type": "code",
   "execution_count": 32,
   "id": "286b3ede-db97-451e-8dd5-c91a252141ca",
   "metadata": {},
   "outputs": [
    {
     "data": {
      "image/png": "[encoded data removed]",
      "text/plain": [
       "<Figure size 1000x600 with 1 Axes>"
      ]
     },
     "metadata": {},
     "output_type": "display_data"
    }
   ],
   "source": [
    "plt.figure(figsize=(10,6))\n",
    "sns.boxplot(train_df[cols])\n",
    "plt.tight_layout()\n",
    "plt.ylim(-20,250)\n",
    "plt.show()"
   ]
  },
  {
   "cell_type": "code",
   "execution_count": 33,
   "id": "820420cf-8db4-4cb4-b7a8-8306f0d4aa13",
   "metadata": {},
   "outputs": [],
   "source": [
    "X = train_df.drop(columns=['id','day','rainfall'])\n",
    "y = train_df['rainfall']"
   ]
  },
  {
   "cell_type": "code",
   "execution_count": 37,
   "id": "95afdeaa-7be3-48b6-a10a-9bdad8d349cd",
   "metadata": {},
   "outputs": [],
   "source": [
    "X_train, X_val, y_train, y_val = train_test_split(X,y,test_size=0.2, random_state = 2020158011, shuffle=False)"
   ]
  },
  {
   "cell_type": "code",
   "execution_count": 48,
   "id": "d262f9c7-1893-46f4-b178-f3ad2972980b",
   "metadata": {},
   "outputs": [],
   "source": [
    "scaler = StandardScaler()\n",
    "X_train_scaled = scaler.fit_transform(X_train)\n",
    "X_val_scaled = scaler.transform(X_val)"
   ]
  },
  {
   "cell_type": "code",
   "execution_count": 76,
   "id": "b7ca0354-7eca-4198-8910-7b8182ece79b",
   "metadata": {},
   "outputs": [],
   "source": [
    "test_pred = test_df.drop(columns=['id','day'])\n",
    "test_pred_scaled = scaler.fit_transform(test_pred)"
   ]
  },
  {
   "cell_type": "code",
   "execution_count": 49,
   "id": "af0583b5-d867-49c7-9831-54338db2aba9",
   "metadata": {},
   "outputs": [
    {
     "data": {
      "application/vnd.jupyter.widget-view+json": {
       "model_id": "b364e4d475af40d3a5cfe35c0f53259f",
       "version_major": 2,
       "version_minor": 0
      },
      "text/plain": [
       "  0%|          | 0/32 [00:00<?, ?it/s]"
      ]
     },
     "metadata": {},
     "output_type": "display_data"
    },
    {
     "name": "stdout",
     "output_type": "stream",
     "text": [
      "[LightGBM] [Info] Number of positive: 1304, number of negative: 448\n",
      "[LightGBM] [Info] Auto-choosing col-wise multi-threading, the overhead of testing was 0.000191 seconds.\n",
      "You can set `force_col_wise=true` to remove the overhead.\n",
      "[LightGBM] [Info] Total Bins 1628\n",
      "[LightGBM] [Info] Number of data points in the train set: 1752, number of used features: 12\n",
      "[LightGBM] [Info] [binary:BoostFromScore]: pavg=0.744292 -> initscore=1.068399\n",
      "[LightGBM] [Info] Start training from score 1.068399\n",
      "                               Accuracy  Balanced Accuracy  ROC AUC  F1 Score  \\\n",
      "Model                                                                           \n",
      "BernoulliNB                        0.86               0.83     0.83      0.86   \n",
      "NearestCentroid                    0.85               0.82     0.82      0.86   \n",
      "SGDClassifier                      0.87               0.80     0.80      0.87   \n",
      "LinearDiscriminantAnalysis         0.88               0.79     0.79      0.87   \n",
      "AdaBoostClassifier                 0.87               0.79     0.79      0.87   \n",
      "GaussianNB                         0.84               0.79     0.79      0.85   \n",
      "LGBMClassifier                     0.86               0.78     0.78      0.86   \n",
      "LinearSVC                          0.87               0.78     0.78      0.87   \n",
      "RidgeClassifierCV                  0.87               0.77     0.77      0.87   \n",
      "CalibratedClassifierCV             0.87               0.77     0.77      0.87   \n",
      "RidgeClassifier                    0.87               0.77     0.77      0.87   \n",
      "XGBClassifier                      0.85               0.77     0.77      0.85   \n",
      "LogisticRegression                 0.87               0.77     0.77      0.86   \n",
      "ExtraTreesClassifier               0.86               0.77     0.77      0.86   \n",
      "BaggingClassifier                  0.85               0.77     0.77      0.85   \n",
      "RandomForestClassifier             0.86               0.76     0.76      0.86   \n",
      "KNeighborsClassifier               0.85               0.76     0.76      0.85   \n",
      "Perceptron                         0.85               0.75     0.75      0.84   \n",
      "SVC                                0.86               0.75     0.75      0.86   \n",
      "NuSVC                              0.86               0.73     0.73      0.85   \n",
      "LabelSpreading                     0.81               0.72     0.72      0.81   \n",
      "LabelPropagation                   0.81               0.72     0.72      0.81   \n",
      "DecisionTreeClassifier             0.79               0.71     0.71      0.80   \n",
      "QuadraticDiscriminantAnalysis      0.83               0.70     0.70      0.82   \n",
      "ExtraTreeClassifier                0.77               0.69     0.69      0.78   \n",
      "PassiveAggressiveClassifier        0.62               0.62     0.62      0.66   \n",
      "DummyClassifier                    0.79               0.50     0.50      0.70   \n",
      "\n",
      "                               Time Taken  \n",
      "Model                                      \n",
      "BernoulliNB                          0.02  \n",
      "NearestCentroid                      0.01  \n",
      "SGDClassifier                        0.02  \n",
      "LinearDiscriminantAnalysis           0.01  \n",
      "AdaBoostClassifier                   0.14  \n",
      "GaussianNB                           0.02  \n",
      "LGBMClassifier                       0.24  \n",
      "LinearSVC                            0.01  \n",
      "RidgeClassifierCV                    0.02  \n",
      "CalibratedClassifierCV               0.06  \n",
      "RidgeClassifier                      0.02  \n",
      "XGBClassifier                        0.16  \n",
      "LogisticRegression                   0.03  \n",
      "ExtraTreesClassifier                 0.22  \n",
      "BaggingClassifier                    0.09  \n",
      "RandomForestClassifier               0.39  \n",
      "KNeighborsClassifier                 0.03  \n",
      "Perceptron                           0.01  \n",
      "SVC                                  0.09  \n",
      "NuSVC                                0.16  \n",
      "LabelSpreading                       0.17  \n",
      "LabelPropagation                     0.13  \n",
      "DecisionTreeClassifier               0.03  \n",
      "QuadraticDiscriminantAnalysis        0.01  \n",
      "ExtraTreeClassifier                  0.01  \n",
      "PassiveAggressiveClassifier          0.01  \n",
      "DummyClassifier                      0.01  \n"
     ]
    }
   ],
   "source": [
    "clf = LazyClassifier(verbose=0)\n",
    "models, predictions = clf.fit(X_train_scaled, X_val_scaled, y_train, y_val)\n",
    "print(f'{models}')"
   ]
  },
  {
   "cell_type": "code",
   "execution_count": 60,
   "id": "2edcb860-b583-4c23-984d-8af180f4236b",
   "metadata": {},
   "outputs": [
    {
     "name": "stderr",
     "output_type": "stream",
     "text": [
      "[I 2025-07-23 10:49:37,787] A new study created in memory with name: no-name-f28c5433-9a59-47c9-be4f-e32c21105542\n",
      "[I 2025-07-23 10:49:37,790] Trial 0 finished with value: 0.8584474885844748 and parameters: {'alpha': 0.1773405701334136}. Best is trial 0 with value: 0.8584474885844748.\n",
      "[I 2025-07-23 10:49:37,793] Trial 1 finished with value: 0.8584474885844748 and parameters: {'alpha': 0.12412430500311632}. Best is trial 0 with value: 0.8584474885844748.\n",
      "[I 2025-07-23 10:49:37,795] Trial 2 finished with value: 0.8584474885844748 and parameters: {'alpha': 1.5222898452098599}. Best is trial 0 with value: 0.8584474885844748.\n",
      "[I 2025-07-23 10:49:37,799] Trial 3 finished with value: 0.8584474885844748 and parameters: {'alpha': 0.0026558708947758466}. Best is trial 0 with value: 0.8584474885844748.\n",
      "[I 2025-07-23 10:49:37,801] Trial 4 finished with value: 0.8584474885844748 and parameters: {'alpha': 0.0034760151219507323}. Best is trial 0 with value: 0.8584474885844748.\n",
      "[I 2025-07-23 10:49:37,803] Trial 5 finished with value: 0.8584474885844748 and parameters: {'alpha': 1.679211045842051}. Best is trial 0 with value: 0.8584474885844748.\n",
      "[I 2025-07-23 10:49:37,806] Trial 6 finished with value: 0.8584474885844748 and parameters: {'alpha': 2.477001637676227}. Best is trial 0 with value: 0.8584474885844748.\n",
      "[I 2025-07-23 10:49:37,808] Trial 7 finished with value: 0.8584474885844748 and parameters: {'alpha': 0.002734780077028454}. Best is trial 0 with value: 0.8584474885844748.\n",
      "[I 2025-07-23 10:49:37,810] Trial 8 finished with value: 0.8584474885844748 and parameters: {'alpha': 2.6595091331301455}. Best is trial 0 with value: 0.8584474885844748.\n",
      "[I 2025-07-23 10:49:37,812] Trial 9 finished with value: 0.8584474885844748 and parameters: {'alpha': 0.4385954746488242}. Best is trial 0 with value: 0.8584474885844748.\n",
      "[I 2025-07-23 10:49:37,817] Trial 10 finished with value: 0.8584474885844748 and parameters: {'alpha': 0.029221984597819505}. Best is trial 0 with value: 0.8584474885844748.\n",
      "[I 2025-07-23 10:49:37,826] Trial 11 finished with value: 0.8584474885844748 and parameters: {'alpha': 0.05842165281136555}. Best is trial 0 with value: 0.8584474885844748.\n",
      "[I 2025-07-23 10:49:37,842] Trial 12 finished with value: 0.8584474885844748 and parameters: {'alpha': 0.13607042231179217}. Best is trial 0 with value: 0.8584474885844748.\n",
      "[I 2025-07-23 10:49:37,850] Trial 13 finished with value: 0.8584474885844748 and parameters: {'alpha': 0.012977512209355505}. Best is trial 0 with value: 0.8584474885844748.\n",
      "[I 2025-07-23 10:49:37,858] Trial 14 finished with value: 0.8584474885844748 and parameters: {'alpha': 0.2751891066594313}. Best is trial 0 with value: 0.8584474885844748.\n",
      "[I 2025-07-23 10:49:37,865] Trial 15 finished with value: 0.8584474885844748 and parameters: {'alpha': 0.39408830266796435}. Best is trial 0 with value: 0.8584474885844748.\n",
      "[I 2025-07-23 10:49:37,872] Trial 16 finished with value: 0.8584474885844748 and parameters: {'alpha': 7.095274038152891}. Best is trial 0 with value: 0.8584474885844748.\n",
      "[I 2025-07-23 10:49:37,880] Trial 17 finished with value: 0.8584474885844748 and parameters: {'alpha': 0.013885710128667125}. Best is trial 0 with value: 0.8584474885844748.\n",
      "[I 2025-07-23 10:49:37,888] Trial 18 finished with value: 0.8584474885844748 and parameters: {'alpha': 0.10355689133847641}. Best is trial 0 with value: 0.8584474885844748.\n",
      "[I 2025-07-23 10:49:37,895] Trial 19 finished with value: 0.8584474885844748 and parameters: {'alpha': 0.03217339348228851}. Best is trial 0 with value: 0.8584474885844748.\n",
      "[I 2025-07-23 10:49:37,900] Trial 20 finished with value: 0.8584474885844748 and parameters: {'alpha': 0.894277488193757}. Best is trial 0 with value: 0.8584474885844748.\n",
      "[I 2025-07-23 10:49:37,904] Trial 21 finished with value: 0.8584474885844748 and parameters: {'alpha': 7.268874605574864}. Best is trial 0 with value: 0.8584474885844748.\n",
      "[I 2025-07-23 10:49:37,908] Trial 22 finished with value: 0.8584474885844748 and parameters: {'alpha': 0.17276862403642818}. Best is trial 0 with value: 0.8584474885844748.\n",
      "[I 2025-07-23 10:49:37,919] Trial 23 finished with value: 0.8584474885844748 and parameters: {'alpha': 0.6537989444327517}. Best is trial 0 with value: 0.8584474885844748.\n",
      "[I 2025-07-23 10:49:37,923] Trial 24 finished with value: 0.8584474885844748 and parameters: {'alpha': 1.3914507968987253}. Best is trial 0 with value: 0.8584474885844748.\n",
      "[I 2025-07-23 10:49:37,932] Trial 25 finished with value: 0.8584474885844748 and parameters: {'alpha': 0.06754564109805758}. Best is trial 0 with value: 0.8584474885844748.\n",
      "[I 2025-07-23 10:49:37,937] Trial 26 finished with value: 0.8584474885844748 and parameters: {'alpha': 0.24930030392301666}. Best is trial 0 with value: 0.8584474885844748.\n",
      "[I 2025-07-23 10:49:37,942] Trial 27 finished with value: 0.8584474885844748 and parameters: {'alpha': 3.9614474356971856}. Best is trial 0 with value: 0.8584474885844748.\n",
      "[I 2025-07-23 10:49:37,947] Trial 28 finished with value: 0.8584474885844748 and parameters: {'alpha': 0.7675327556886261}. Best is trial 0 with value: 0.8584474885844748.\n",
      "[I 2025-07-23 10:49:37,951] Trial 29 finished with value: 0.8584474885844748 and parameters: {'alpha': 0.00697066145934228}. Best is trial 0 with value: 0.8584474885844748.\n",
      "[I 2025-07-23 10:49:37,955] Trial 30 finished with value: 0.8584474885844748 and parameters: {'alpha': 0.03423621141259487}. Best is trial 0 with value: 0.8584474885844748.\n",
      "[I 2025-07-23 10:49:37,964] Trial 31 finished with value: 0.8584474885844748 and parameters: {'alpha': 0.004685952161104281}. Best is trial 0 with value: 0.8584474885844748.\n",
      "[I 2025-07-23 10:49:37,968] Trial 32 finished with value: 0.8584474885844748 and parameters: {'alpha': 0.0015375341384471215}. Best is trial 0 with value: 0.8584474885844748.\n",
      "[I 2025-07-23 10:49:37,972] Trial 33 finished with value: 0.8584474885844748 and parameters: {'alpha': 0.00104179878607306}. Best is trial 0 with value: 0.8584474885844748.\n",
      "[I 2025-07-23 10:49:37,982] Trial 34 finished with value: 0.8584474885844748 and parameters: {'alpha': 0.06874960103450109}. Best is trial 0 with value: 0.8584474885844748.\n",
      "[I 2025-07-23 10:49:37,986] Trial 35 finished with value: 0.8584474885844748 and parameters: {'alpha': 0.01429078394415579}. Best is trial 0 with value: 0.8584474885844748.\n",
      "[I 2025-07-23 10:49:37,990] Trial 36 finished with value: 0.8584474885844748 and parameters: {'alpha': 1.4502020599901293}. Best is trial 0 with value: 0.8584474885844748.\n",
      "[I 2025-07-23 10:49:37,995] Trial 37 finished with value: 0.8584474885844748 and parameters: {'alpha': 0.1858732769978017}. Best is trial 0 with value: 0.8584474885844748.\n",
      "[I 2025-07-23 10:49:37,999] Trial 38 finished with value: 0.8584474885844748 and parameters: {'alpha': 2.5130939528017016}. Best is trial 0 with value: 0.8584474885844748.\n",
      "[I 2025-07-23 10:49:38,003] Trial 39 finished with value: 0.8584474885844748 and parameters: {'alpha': 0.3914281602034533}. Best is trial 0 with value: 0.8584474885844748.\n",
      "[I 2025-07-23 10:49:38,009] Trial 40 finished with value: 0.8584474885844748 and parameters: {'alpha': 0.0028611038059579187}. Best is trial 0 with value: 0.8584474885844748.\n",
      "[I 2025-07-23 10:49:38,015] Trial 41 finished with value: 0.8584474885844748 and parameters: {'alpha': 0.0023671121674262645}. Best is trial 0 with value: 0.8584474885844748.\n",
      "[I 2025-07-23 10:49:38,021] Trial 42 finished with value: 0.8584474885844748 and parameters: {'alpha': 0.005516123322484083}. Best is trial 0 with value: 0.8584474885844748.\n",
      "[I 2025-07-23 10:49:38,026] Trial 43 finished with value: 0.8584474885844748 and parameters: {'alpha': 0.009619296806450366}. Best is trial 0 with value: 0.8584474885844748.\n",
      "[I 2025-07-23 10:49:38,031] Trial 44 finished with value: 0.8584474885844748 and parameters: {'alpha': 0.021610885820951112}. Best is trial 0 with value: 0.8584474885844748.\n",
      "[I 2025-07-23 10:49:38,036] Trial 45 finished with value: 0.8584474885844748 and parameters: {'alpha': 0.12791931255884118}. Best is trial 0 with value: 0.8584474885844748.\n",
      "[I 2025-07-23 10:49:38,042] Trial 46 finished with value: 0.8584474885844748 and parameters: {'alpha': 0.047621640308819484}. Best is trial 0 with value: 0.8584474885844748.\n",
      "[I 2025-07-23 10:49:38,046] Trial 47 finished with value: 0.8584474885844748 and parameters: {'alpha': 4.61193664739975}. Best is trial 0 with value: 0.8584474885844748.\n",
      "[I 2025-07-23 10:49:38,050] Trial 48 finished with value: 0.8584474885844748 and parameters: {'alpha': 0.0025238605808793756}. Best is trial 0 with value: 0.8584474885844748.\n",
      "[I 2025-07-23 10:49:38,057] Trial 49 finished with value: 0.8584474885844748 and parameters: {'alpha': 0.020708382154833938}. Best is trial 0 with value: 0.8584474885844748.\n"
     ]
    },
    {
     "name": "stdout",
     "output_type": "stream",
     "text": [
      "best trial: FrozenTrial(number=0, state=1, values=[0.8584474885844748], datetime_start=datetime.datetime(2025, 7, 23, 10, 49, 37, 787680), datetime_complete=datetime.datetime(2025, 7, 23, 10, 49, 37, 790504), params={'alpha': 0.1773405701334136}, user_attrs={}, system_attrs={}, intermediate_values={}, distributions={'alpha': FloatDistribution(high=10.0, log=True, low=0.001, step=None)}, trial_id=0, value=None)\n"
     ]
    }
   ],
   "source": [
    "def objective(trial):\n",
    "    alpha = trial.suggest_float('alpha', 1e-3, 10.0 ,log=True)\n",
    "\n",
    "    ber = BernoulliNB(alpha=alpha)\n",
    "    ber.fit(X_train_scaled, y_train)\n",
    "    y_pred = ber.predict(X_val_scaled)\n",
    "    acc = accuracy_score(y_val,y_pred)\n",
    "    return acc\n",
    "\n",
    "study = optuna.create_study(direction='maximize')\n",
    "study.optimize(objective, n_trials=50)\n",
    "\n",
    "best_params = study.best_trial.params\n",
    "print(\"best trial:\", study.best_trial)"
   ]
  },
  {
   "cell_type": "code",
   "execution_count": 77,
   "id": "680dca16-b6a3-4b9a-b637-703f70de735f",
   "metadata": {},
   "outputs": [],
   "source": [
    "best_ber = BernoulliNB(**best_params)\n",
    "best_ber.fit(X_train_scaled, y_train)\n",
    "\n",
    "y_pred2 = best_ber.predict(test_pred_scaled)"
   ]
  },
  {
   "cell_type": "code",
   "execution_count": 78,
   "id": "50930b40-f806-493d-a3f6-92fa354510bf",
   "metadata": {},
   "outputs": [
    {
     "name": "stdout",
     "output_type": "stream",
     "text": [
      "[1 1 1 0 0 1 1 1 1 1 1 0 1 1 0 0 1 1 0 0 0 0 1 1 1 0 0 1 1 0 1 1 1 1 1 1 0\n",
      " 1 1 1 1 1 0 1 1 0 0 1 0 1 1 1 1 1 1 1 1 1 1 1 1 1 1 1 0 0 0 1 1 0 1 1 1 1\n",
      " 1 1 1 1 0 1 1 1 0 1 1 1 1 1 1 1 1 1 1 1 1 1 1 1 1 1 1 1 1 1 1 1 1 1 1 1 1\n",
      " 0 1 1 1 1 1 1 1 1 0 1 1 0 1 0 1 1 1 1 1 1 0 1 1 1 1 1 1 1 1 1 0 1 1 1 1 0\n",
      " 1 0 1 1 1 0 1 0 1 0 1 1 1 1 0 0 0 0 1 1 1 0 1 0 1 1 1 1 1 1 1 0 1 0 0 1 0\n",
      " 0 0 1 1 1 0 0 0 0 0 0 0 0 1 0 0 0 0 1 1 0 1 1 0 0 0 0 1 1 1 1 1 1 0 1 0 1\n",
      " 1 1 1 0 1 1 1 0 0 0 1 1 1 0 0 1 1 0 1 1 1 0 1 1 1 0 1 1 0 1 0 0 1 1 1 1 1\n",
      " 0 1 1 1 1 1 0 0 1 1 0 0 1 0 1 1 1 1 0 0 0 0 0 1 0 0 0 1 1 1 0 1 1 1 1 1 1\n",
      " 1 1 1 1 1 0 1 0 1 1 1 0 1 0 0 1 0 1 1 0 1 1 1 0 1 1 1 1 1 1 1 1 1 1 1 1 1\n",
      " 1 0 1 0 1 1 1 1 1 1 1 1 0 1 1 1 1 0 1 0 1 1 1 1 1 1 1 1 1 1 1 1 1 1 0 1 1\n",
      " 1 1 1 1 1 1 1 1 1 1 0 0 1 0 0 1 1 1 0 1 1 0 1 1 1 1 1 0 1 0 1 1 1 1 1 1 1\n",
      " 0 1 0 1 1 1 0 1 1 1 1 1 1 1 1 1 0 1 1 1 1 1 1 1 1 1 1 1 1 0 0 1 0 1 1 1 1\n",
      " 0 1 1 1 1 0 1 1 1 1 1 1 1 1 1 1 1 1 1 1 1 1 1 1 1 1 1 1 1 1 1 1 1 1 1 1 1\n",
      " 1 1 1 1 0 1 1 1 0 0 1 1 1 1 1 1 1 1 1 1 0 1 1 0 1 1 1 0 0 0 1 0 1 0 0 1 0\n",
      " 1 0 0 0 0 0 0 1 0 1 0 0 0 1 0 1 0 1 0 0 1 0 0 1 1 1 1 1 1 0 1 0 0 1 0 1 1\n",
      " 0 0 0 0 0 0 0 0 0 0 0 0 0 0 0 0 0 1 0 0 1 1 0 0 1 1 1 1 0 0 1 0 1 0 1 1 0\n",
      " 1 0 1 1 1 1 1 1 1 0 1 1 0 1 1 1 1 1 1 0 1 1 1 1 1 0 1 1 0 1 1 1 1 0 0 0 0\n",
      " 1 0 1 0 1 1 0 0 1 0 1 0 1 1 0 0 1 0 1 1 1 0 0 0 1 0 1 1 1 1 1 1 1 1 1 1 1\n",
      " 1 1 1 1 0 1 1 1 1 1 1 1 1 0 0 1 1 1 1 1 0 1 1 1 1 1 1 1 0 1 1 1 1 0 1 1 1\n",
      " 0 0 1 1 0 0 1 0 1 0 0 1 1 0 1 1 1 1 1 1 1 1 1 1 1 1 1]\n"
     ]
    }
   ],
   "source": [
    "print(y_pred2)"
   ]
  },
  {
   "cell_type": "code",
   "execution_count": 84,
   "id": "26bba839-41d6-417c-99c3-5b06a0e06c31",
   "metadata": {},
   "outputs": [],
   "source": [
    "y_pred_proba = best_ber.predict_proba(test_pred_scaled)[:,1]"
   ]
  },
  {
   "cell_type": "code",
   "execution_count": 88,
   "id": "87cc0872-7d1b-4ae0-b237-7447f29c02ea",
   "metadata": {},
   "outputs": [],
   "source": [
    "submission2 = pd.DataFrame({\n",
    "    'id' : test_df['id'],\n",
    "    'rainfall' : y_pred_proba\n",
    "})"
   ]
  },
  {
   "cell_type": "code",
   "execution_count": 89,
   "id": "f5013b62-3cda-4eff-a1e2-842986cabdb1",
   "metadata": {},
   "outputs": [
    {
     "data": {
      "text/html": [
       "<div>\n",
       "<style scoped>\n",
       "    .dataframe tbody tr th:only-of-type {\n",
       "        vertical-align: middle;\n",
       "    }\n",
       "\n",
       "    .dataframe tbody tr th {\n",
       "        vertical-align: top;\n",
       "    }\n",
       "\n",
       "    .dataframe thead th {\n",
       "        text-align: right;\n",
       "    }\n",
       "</style>\n",
       "<table border=\"1\" class=\"dataframe\">\n",
       "  <thead>\n",
       "    <tr style=\"text-align: right;\">\n",
       "      <th></th>\n",
       "      <th>id</th>\n",
       "      <th>rainfall</th>\n",
       "    </tr>\n",
       "  </thead>\n",
       "  <tbody>\n",
       "    <tr>\n",
       "      <th>0</th>\n",
       "      <td>2190</td>\n",
       "      <td>1.00</td>\n",
       "    </tr>\n",
       "    <tr>\n",
       "      <th>1</th>\n",
       "      <td>2191</td>\n",
       "      <td>1.00</td>\n",
       "    </tr>\n",
       "    <tr>\n",
       "      <th>2</th>\n",
       "      <td>2192</td>\n",
       "      <td>1.00</td>\n",
       "    </tr>\n",
       "    <tr>\n",
       "      <th>3</th>\n",
       "      <td>2193</td>\n",
       "      <td>0.04</td>\n",
       "    </tr>\n",
       "    <tr>\n",
       "      <th>4</th>\n",
       "      <td>2194</td>\n",
       "      <td>0.02</td>\n",
       "    </tr>\n",
       "  </tbody>\n",
       "</table>\n",
       "</div>"
      ],
      "text/plain": [
       "     id  rainfall\n",
       "0  2190      1.00\n",
       "1  2191      1.00\n",
       "2  2192      1.00\n",
       "3  2193      0.04\n",
       "4  2194      0.02"
      ]
     },
     "execution_count": 89,
     "metadata": {},
     "output_type": "execute_result"
    }
   ],
   "source": [
    "submission2.to_csv('submission2.csv',index=False)\n",
    "submission2.head()"
   ]
  },
  {
   "cell_type": "code",
   "execution_count": 83,
   "id": "bfcaabd8-b267-46ff-9140-609e0a1df1d7",
   "metadata": {},
   "outputs": [
    {
     "data": {
      "text/plain": [
       "(730, 2)"
      ]
     },
     "execution_count": 83,
     "metadata": {},
     "output_type": "execute_result"
    }
   ],
   "source": [
    "submission_csv.shape"
   ]
  },
  {
   "cell_type": "code",
   "execution_count": null,
   "id": "a1ce2f83-78ec-44ef-8064-bbbc8b188e38",
   "metadata": {},
   "outputs": [],
   "source": []
  }
 ],
 "metadata": {
  "kernelspec": {
   "display_name": "Python 3 (ipykernel)",
   "language": "python",
   "name": "python3"
  },
  "language_info": {
   "codemirror_mode": {
    "name": "ipython",
    "version": 3
   },
   "file_extension": ".py",
   "mimetype": "text/x-python",
   "name": "python",
   "nbconvert_exporter": "python",
   "pygments_lexer": "ipython3",
   "version": "3.13.5"
  }
 },
 "nbformat": 4,
 "nbformat_minor": 5
}
