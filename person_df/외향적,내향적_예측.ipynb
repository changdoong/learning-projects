{
  "nbformat": 4,
  "nbformat_minor": 0,
  "metadata": {
    "colab": {
      "private_outputs": true,
      "provenance": []
    },
    "kernelspec": {
      "name": "python3",
      "display_name": "Python 3"
    },
    "language_info": {
      "name": "python"
    }
  },
  "cells": [
    {
      "cell_type": "markdown",
      "source": [
        "# 외향적인 사람과 내향적인 사람 예측"
      ],
      "metadata": {
        "id": "nJV9LMxTKZa2"
      }
    },
    {
      "cell_type": "code",
      "execution_count": null,
      "metadata": {
        "id": "yrcN2diBieup"
      },
      "outputs": [],
      "source": [
        "import pandas as pd"
      ]
    },
    {
      "cell_type": "code",
      "source": [
        "person_test_df = pd.read_csv('test (1).csv')\n",
        "person_train_df = pd.read_csv('train (1).csv')"
      ],
      "metadata": {
        "id": "LfKcmmraiq1C"
      },
      "execution_count": null,
      "outputs": []
    },
    {
      "cell_type": "code",
      "source": [
        "person_train_df.head()"
      ],
      "metadata": {
        "id": "DI3FzJQci_ey"
      },
      "execution_count": null,
      "outputs": []
    },
    {
      "cell_type": "markdown",
      "source": [
        "### 컬럼명 설명\n",
        "- Time_spent_Alone : 혼자 보내는 시간\n",
        "- Stage_fear\t: 무대 공포증\n",
        "- Social_event_attendance : 사회적 이벤트 참여\n",
        "- Going_outside\t : 밖에 나가는 정도\n",
        "- Drained_after_socializing : 밖에 나간후 피로감을 느끼는 정도\n",
        "- Friends_circle_size : 친구 관계 규모\n",
        "- Post_frequency : 온라인에 글 업로드 빈도\n",
        "- Personality : 외향적/내향적(정답 레이블)"
      ],
      "metadata": {
        "id": "OzzBj5-CjJtS"
      }
    },
    {
      "cell_type": "code",
      "source": [
        "person_train_df.describe()"
      ],
      "metadata": {
        "id": "sCU4kfxhjui3"
      },
      "execution_count": null,
      "outputs": []
    },
    {
      "cell_type": "code",
      "source": [
        "person_train_df.shape"
      ],
      "metadata": {
        "id": "TOQ3QmYdjNG7"
      },
      "execution_count": null,
      "outputs": []
    },
    {
      "cell_type": "markdown",
      "source": [
        "### 데이터 전처리\n"
      ],
      "metadata": {
        "id": "-a_brjVGKmfc"
      }
    },
    {
      "cell_type": "code",
      "source": [
        "person_train_df.isna().sum()"
      ],
      "metadata": {
        "id": "XA3KzjWukTE7"
      },
      "execution_count": null,
      "outputs": []
    },
    {
      "cell_type": "code",
      "source": [
        "# 결측값 평균치로 채우기\n",
        "fill_null = ['Time_spent_Alone', 'Social_event_attendance', 'Going_outside', 'Friends_circle_size', 'Post_frequency']\n",
        "person_train_df[fill_null] = person_train_df[fill_null].fillna(person_train_df[fill_null].mean())"
      ],
      "metadata": {
        "id": "abyytIBWk04q"
      },
      "execution_count": null,
      "outputs": []
    },
    {
      "cell_type": "code",
      "source": [
        "# 결측값 처리 확인\n",
        "person_train_df.isna().sum()"
      ],
      "metadata": {
        "id": "Q6Mc274imfX5"
      },
      "execution_count": null,
      "outputs": []
    },
    {
      "cell_type": "code",
      "source": [
        "cat = ['Stage_fear','Drained_after_socializing']"
      ],
      "metadata": {
        "id": "6yXVCEX7oz3S"
      },
      "execution_count": null,
      "outputs": []
    },
    {
      "cell_type": "code",
      "source": [
        "cat_train_df = person_train_df.dropna()"
      ],
      "metadata": {
        "id": "xztvAc5Jn5Ri"
      },
      "execution_count": null,
      "outputs": []
    },
    {
      "cell_type": "code",
      "source": [
        "cat_train_df.isna().sum()"
      ],
      "metadata": {
        "id": "ZclCJjuDqbb5"
      },
      "execution_count": null,
      "outputs": []
    },
    {
      "cell_type": "code",
      "source": [
        "stage_fear_map = {\n",
        "    'Yes' : 0,\n",
        "    'No' : 1\n",
        "}"
      ],
      "metadata": {
        "id": "gRY0Kfq8oBaa"
      },
      "execution_count": null,
      "outputs": []
    },
    {
      "cell_type": "code",
      "source": [
        "drained_map = {\n",
        "    'Yes' : 0,\n",
        "    'No' : 1\n",
        "}"
      ],
      "metadata": {
        "id": "lmPyia7GpcBJ"
      },
      "execution_count": null,
      "outputs": []
    },
    {
      "cell_type": "code",
      "source": [
        "# 범주형 데이터 매핑\n",
        "from sklearn.feature_selection import f_classif\n",
        "\n",
        "cat_train_df['Stage_fear'] = cat_train_df['Stage_fear'].map(stage_fear_map)\n",
        "cat_train_df['Drained_after_socializing'] = cat_train_df['Drained_after_socializing'].map(drained_map)"
      ],
      "metadata": {
        "id": "Y9i1p__spiLa"
      },
      "execution_count": null,
      "outputs": []
    },
    {
      "cell_type": "code",
      "source": [
        "cat_train_df.isna().sum()"
      ],
      "metadata": {
        "id": "-NdkpF7dqJES"
      },
      "execution_count": null,
      "outputs": []
    },
    {
      "cell_type": "code",
      "source": [
        "cat_train_df.dtypes"
      ],
      "metadata": {
        "id": "xi_FDUNNs6Ds"
      },
      "execution_count": null,
      "outputs": []
    },
    {
      "cell_type": "code",
      "source": [
        "cat_train_df = cat_train_df.drop(columns='Personality')"
      ],
      "metadata": {
        "id": "vASOMj1cb18t"
      },
      "execution_count": null,
      "outputs": []
    },
    {
      "cell_type": "code",
      "source": [
        "per_train_df = person_train_df.drop(columns=['Personality','Drained_after_socializing','Stage_fear'])"
      ],
      "metadata": {
        "id": "KnOX8pdabvN8"
      },
      "execution_count": null,
      "outputs": []
    },
    {
      "cell_type": "code",
      "source": [
        "per_train_df.dtypes"
      ],
      "metadata": {
        "id": "krpWKpPib3Ek"
      },
      "execution_count": null,
      "outputs": []
    },
    {
      "cell_type": "code",
      "source": [
        "col = ['id','Time_spent_Alone','Social_event_attendance','Going_outside','Friends_circle_size','Post_frequency']\n",
        "per_train_df[col] = per_train_df[col].apply(pd.to_numeric,errors = 'coerce')\n",
        "cat_train_df[col] = cat_train_df[col].apply(pd.to_numeric,errors = 'coerce')"
      ],
      "metadata": {
        "id": "ST5YWdm_xnYK"
      },
      "execution_count": null,
      "outputs": []
    },
    {
      "cell_type": "code",
      "source": [
        "per_train_df = person_train_df.drop(columns=['Personality','Drained_after_socializing','Stage_fear'])"
      ],
      "metadata": {
        "id": "Bwt-yUXptzOa"
      },
      "execution_count": null,
      "outputs": []
    },
    {
      "cell_type": "code",
      "source": [
        "per_train_df = pd.DataFrame(per_train_df)\n",
        "cat_train_df = pd.DataFrame(cat_train_df)"
      ],
      "metadata": {
        "id": "G8DrcZY0wlrT"
      },
      "execution_count": null,
      "outputs": []
    },
    {
      "cell_type": "code",
      "source": [
        "per_train_df[fill_null].dropna().shape"
      ],
      "metadata": {
        "id": "JJYKh-w6eWnV"
      },
      "execution_count": null,
      "outputs": []
    },
    {
      "cell_type": "markdown",
      "source": [
        "### 범주형 컬럼 f-검정\n",
        "- 가장 유사도가 높은 컬럼 채택"
      ],
      "metadata": {
        "id": "UM2rrXK_KvjM"
      }
    },
    {
      "cell_type": "code",
      "source": [
        "# Stage_fear 컬럼 f-검정\n",
        "X = per_train_df[fill_null]\n",
        "y = cat_train_df['Stage_fear']\n",
        "\n",
        "common_idx = X.index.intersection(y.index)\n",
        "X = X.loc[common_idx]\n",
        "y = y.loc[common_idx]\n",
        "f_vals,p_vals = f_classif(X,y)\n",
        "\n",
        "pd.DataFrame({'feature' : fill_null, 'F_score' : f_vals, 'p_value': p_vals})"
      ],
      "metadata": {
        "id": "_jkNDByTq_oC"
      },
      "execution_count": null,
      "outputs": []
    },
    {
      "cell_type": "code",
      "source": [
        "# Drained_after_socializing 컬럼 f-검정\n",
        "X1 = per_train_df[fill_null]\n",
        "y1 = cat_train_df['Drained_after_socializing']\n",
        "\n",
        "common_idx1 = X1.index.intersection(y1.index)\n",
        "X1 = X1.loc[common_idx1]\n",
        "y1 = y1.loc[common_idx1]\n",
        "f_vals1,p_vals1 = f_classif(X1,y1)\n",
        "\n",
        "pd.DataFrame({'feature' : fill_null, 'F_score' : f_vals1, 'p_value': p_vals1})"
      ],
      "metadata": {
        "id": "OpKUjcjufM68"
      },
      "execution_count": null,
      "outputs": []
    },
    {
      "cell_type": "code",
      "source": [
        "cat_train_df['Stage_fear'].unique()"
      ],
      "metadata": {
        "id": "AGrImCSun4-1"
      },
      "execution_count": null,
      "outputs": []
    },
    {
      "cell_type": "code",
      "source": [
        "person_train_df.isna().sum()"
      ],
      "metadata": {
        "id": "6dr_3jhzrSJt"
      },
      "execution_count": null,
      "outputs": []
    },
    {
      "cell_type": "code",
      "source": [],
      "metadata": {
        "id": "TIIIRn_ykdjk"
      },
      "execution_count": null,
      "outputs": []
    },
    {
      "cell_type": "code",
      "source": [
        "person_train_df['Stage_fear'] = person_train_df['Stage_fear'].map({\n",
        "    'Yes' : 0,\n",
        "    'No' : 1\n",
        "})\n"
      ],
      "metadata": {
        "id": "5YSVQ3dhkNBe"
      },
      "execution_count": null,
      "outputs": []
    },
    {
      "cell_type": "code",
      "source": [
        "person_train_df['Drained_after_socializing'] = person_train_df['Drained_after_socializing'].map({\n",
        "    'Yes' : 0,\n",
        "    'No' : 1\n",
        "})"
      ],
      "metadata": {
        "id": "g5vxjPcRkt8W"
      },
      "execution_count": null,
      "outputs": []
    },
    {
      "cell_type": "code",
      "source": [
        "# 유사도가 높은 컬럼의 값에 따라 범주형 컬럼의 결측값 변경\n",
        "threshhold = person_train_df['Time_spent_Alone'].mean()\n",
        "\n",
        "person_train_df_filled = person_train_df.copy()\n",
        "\n",
        "for idx in person_train_df.index:\n",
        "    if pd.isna(person_train_df.loc[idx,'Stage_fear']):\n",
        "        if person_train_df.loc[idx, 'Time_spent_Alone'] >= threshhold:\n",
        "            person_train_df.loc[idx, 'Stage_fear'] = 0\n",
        "        else:\n",
        "            person_train_df.loc[idx, 'Stage_fear'] = 1\n",
        "\n",
        "    if pd.isna(person_train_df.loc[idx,'Drained_after_socializing']):\n",
        "          if person_train_df.loc[idx, 'Time_spent_Alone'] >= threshhold:\n",
        "              person_train_df.loc[idx,'Drained_after_socializing'] = 0\n",
        "          else:\n",
        "            person_train_df.loc[idx, 'Drained_after_socializing'] = 1"
      ],
      "metadata": {
        "id": "xFRa7vSXgEPc"
      },
      "execution_count": null,
      "outputs": []
    },
    {
      "cell_type": "code",
      "source": [
        "person_train_df"
      ],
      "metadata": {
        "id": "2tHgdyrKrsLK"
      },
      "execution_count": null,
      "outputs": []
    },
    {
      "cell_type": "code",
      "source": [
        "person_train_df.head()"
      ],
      "metadata": {
        "id": "DDVoV6tIudpt"
      },
      "execution_count": null,
      "outputs": []
    },
    {
      "cell_type": "code",
      "source": [
        "person_train_df['Personality'] = person_train_df['Personality'].map({\n",
        "    'Extrovert' : 0,\n",
        "    'Introvert' : 1\n",
        "})"
      ],
      "metadata": {
        "id": "W5q_w69PvMAc"
      },
      "execution_count": null,
      "outputs": []
    },
    {
      "cell_type": "code",
      "source": [
        "X = person_train_df.drop(columns=['id','Personality'])\n",
        "y = person_train_df['Personality']"
      ],
      "metadata": {
        "id": "s3i6jYErw_Uc"
      },
      "execution_count": null,
      "outputs": []
    },
    {
      "cell_type": "code",
      "source": [
        "X.shape, y.shape"
      ],
      "metadata": {
        "id": "lcgOl2v4xYDs"
      },
      "execution_count": null,
      "outputs": []
    },
    {
      "cell_type": "markdown",
      "source": [
        "### 훈련 데이터, 테스트 데이터 분할"
      ],
      "metadata": {
        "id": "9k42cuxqLGsr"
      }
    },
    {
      "cell_type": "code",
      "source": [
        "X"
      ],
      "metadata": {
        "id": "kdzHjCZvnSFt"
      },
      "execution_count": null,
      "outputs": []
    },
    {
      "cell_type": "code",
      "source": [
        "from sklearn.model_selection import train_test_split\n",
        "\n",
        "X_train, X_val, y_train, y_val = train_test_split(X,y,test_size=0.2)\n"
      ],
      "metadata": {
        "id": "bGHPEICgxnbE"
      },
      "execution_count": null,
      "outputs": []
    },
    {
      "cell_type": "code",
      "source": [
        "!pip install lazypredict"
      ],
      "metadata": {
        "id": "SnOysugL4cQN"
      },
      "execution_count": null,
      "outputs": []
    },
    {
      "cell_type": "markdown",
      "source": [
        "### lazypredict 사용해 상위 2개 알고리즘 선정"
      ],
      "metadata": {
        "id": "IaUhABQsLNhM"
      }
    },
    {
      "cell_type": "code",
      "source": [
        "from lazypredict.Supervised import LazyClassifier\n",
        "\n",
        "clf = LazyClassifier(verbose=0)\n",
        "models, predictions = clf.fit(X_train, X_val, y_train, y_val)\n",
        "\n",
        "print(models)"
      ],
      "metadata": {
        "id": "TMsiDRYO4iwE"
      },
      "execution_count": null,
      "outputs": []
    },
    {
      "cell_type": "code",
      "source": [
        "X.head()"
      ],
      "metadata": {
        "id": "Bw9tmVpVjuzU"
      },
      "execution_count": null,
      "outputs": []
    },
    {
      "cell_type": "code",
      "source": [
        "X_train"
      ],
      "metadata": {
        "id": "51I8g4hylj4u"
      },
      "execution_count": null,
      "outputs": []
    },
    {
      "cell_type": "code",
      "source": [
        "from sklearn.linear_model import Perceptron\n",
        "from sklearn.model_selection import cross_val_score\n",
        "\n",
        "model = Perceptron(max_iter=1000, eta0=1.0,random_state=2020158011)\n",
        "scores = cross_val_score(model, X_train, y_train, cv=5)\n",
        "print(f\"cross_validated accuracy : {scores}\")"
      ],
      "metadata": {
        "id": "WW7vCrpy5VHU"
      },
      "execution_count": null,
      "outputs": []
    },
    {
      "cell_type": "code",
      "source": [
        "from lightgbm import LGBMClassifier\n",
        "from sklearn.metrics import accuracy_score, classification_report,confusion_matrix, ConfusionMatrixDisplay\n",
        "import matplotlib.pyplot as plt\n",
        "\n",
        "lgb = LGBMClassifier(random_state=2020158011)\n",
        "model.fit(X_train,y_train)\n",
        "preds = model.predict(X_val)\n",
        "\n",
        "print(f\"accuracy : {accuracy_score(y_val,preds)}\")\n",
        "print(classification_report(y_val,preds))\n",
        "\n",
        "cm = confusion_matrix(y_val, preds)\n",
        "disp = ConfusionMatrixDisplay(confusion_matrix=cm)\n",
        "disp.plot(cmap='Blues')\n",
        "plt.show()"
      ],
      "metadata": {
        "id": "de7Hn1Zm6kBs"
      },
      "execution_count": null,
      "outputs": []
    },
    {
      "cell_type": "code",
      "source": [
        "!pip install optuna"
      ],
      "metadata": {
        "id": "WDJprgQL9YRW"
      },
      "execution_count": null,
      "outputs": []
    },
    {
      "cell_type": "markdown",
      "source": [
        "### LGBM 알고리즘 optuna 사용해 하이퍼 파라미터 조정"
      ],
      "metadata": {
        "id": "8AbnOktILXMN"
      }
    },
    {
      "cell_type": "code",
      "source": [
        "import optuna\n",
        "from sklearn.metrics import f1_score\n",
        "from sklearn.metrics import log_loss\n",
        "# Optuna 목적 함수 정의\n",
        "def objective(trial):\n",
        "    params = {\n",
        "        'n_estimators': trial.suggest_int('n_estimators', 50, 500),\n",
        "        'learning_rate': trial.suggest_float('learning_rate', 0.01, 0.3),\n",
        "        'max_depth': trial.suggest_int('max_depth', 3, 15),\n",
        "        'num_leaves': trial.suggest_int('num_leaves', 15, 150),\n",
        "        'min_child_samples': trial.suggest_int('min_child_samples', 5, 100),\n",
        "        'subsample': trial.suggest_float('subsample', 0.5, 1.0),\n",
        "        'colsample_bytree': trial.suggest_float('colsample_bytree', 0.5, 1.0),\n",
        "        'reg_alpha': trial.suggest_float('reg_alpha', 0.0, 1.0),\n",
        "        'reg_lambda': trial.suggest_float('reg_lambda', 0.0, 1.0),\n",
        "        'random_state': 2020158011\n",
        "    }\n",
        "    model = LGBMClassifier(**params)\n",
        "    model.fit(X_train, y_train)\n",
        "    preds = model.predict(X_val)\n",
        "    loss = log_loss(y_val,preds)\n",
        "    return loss\n",
        "    #return f1_score(y_val,preds)\n",
        "study = optuna.create_study(direction='minimize')\n",
        "study.optimize(objective, n_trials=50)\n",
        "print('Best trial:', study.best_params)"
      ],
      "metadata": {
        "collapsed": true,
        "id": "TZjrr-C28thq"
      },
      "execution_count": null,
      "outputs": []
    },
    {
      "cell_type": "markdown",
      "source": [
        "Best trial: {'n_estimators': 147, 'learning_rate': 0.22790308217928787, 'max_depth': 3, 'num_leaves': 46, 'min_child_samples': 72, 'subsample': 0.9546063780884504, 'colsample_bytree': 0.7352959423814639, 'reg_alpha': 0.03923110923582118, 'reg_lambda': 0.6929538798742644}"
      ],
      "metadata": {
        "id": "FVyTIP1u-6Qe"
      }
    },
    {
      "cell_type": "code",
      "source": [
        "# 가장 성능이 좋았던 하이퍼 파라미터 채택\n",
        "best_params = study.best_params\n",
        "print(best_params)"
      ],
      "metadata": {
        "id": "8HzhO_LfG1p0"
      },
      "execution_count": null,
      "outputs": []
    },
    {
      "cell_type": "code",
      "source": [
        "best_model = LGBMClassifier(**best_params)\n",
        "best_model.fit(X,y)"
      ],
      "metadata": {
        "id": "Fs0G5atJG7sE"
      },
      "execution_count": null,
      "outputs": []
    },
    {
      "cell_type": "markdown",
      "source": [
        "### 테스트 데이터 전처리"
      ],
      "metadata": {
        "id": "BAm2Ku9RLidd"
      }
    },
    {
      "cell_type": "code",
      "source": [
        "test_df = pd.read_csv('test (1).csv')\n",
        "test_df.isna().sum()"
      ],
      "metadata": {
        "id": "3vqFnwPFHIel"
      },
      "execution_count": null,
      "outputs": []
    },
    {
      "cell_type": "code",
      "source": [
        "test_df[fill_null] = test_df[fill_null].fillna(test_df[fill_null].mean())"
      ],
      "metadata": {
        "id": "dLTFS_K0HVKt"
      },
      "execution_count": null,
      "outputs": []
    },
    {
      "cell_type": "code",
      "source": [
        "threshhold = test_df['Time_spent_Alone'].mean()\n",
        "\n",
        "test_df_filled = test_df.copy()\n",
        "\n",
        "for idx in test_df.index:\n",
        "    if pd.isna(test_df.loc[idx,'Stage_fear']):\n",
        "        if test_df.loc[idx, 'Time_spent_Alone'] >= threshhold:\n",
        "            test_df.loc[idx, 'Stage_fear'] = 1\n",
        "        else:\n",
        "            test_df.loc[idx, 'Stage_fear'] = 0\n",
        "\n",
        "    if pd.isna(test_df.loc[idx,'Drained_after_socializing']):\n",
        "          if test_df.loc[idx, 'Time_spent_Alone'] >= threshhold:\n",
        "              test_df.loc[idx,'Drained_after_socializing'] = 1\n",
        "          else:\n",
        "            test_df.loc[idx, 'Drained_after_socializing'] = 0"
      ],
      "metadata": {
        "id": "gaGymcx3IAnr"
      },
      "execution_count": null,
      "outputs": []
    },
    {
      "cell_type": "code",
      "source": [
        "test_df.isna().sum()"
      ],
      "metadata": {
        "id": "IKJvfUZFIgyt"
      },
      "execution_count": null,
      "outputs": []
    },
    {
      "cell_type": "code",
      "source": [
        "test_df.columns"
      ],
      "metadata": {
        "id": "YTZio9sZItyz"
      },
      "execution_count": null,
      "outputs": []
    },
    {
      "cell_type": "code",
      "source": [
        "test_df['Stage_fear'] = test_df['Stage_fear'].map(stage_fear_map)\n",
        "test_df['Drained_after_socializing'] = test_df['Drained_after_socializing'].map(drained_map)"
      ],
      "metadata": {
        "id": "2Bqu1ZRGJziu"
      },
      "execution_count": null,
      "outputs": []
    },
    {
      "cell_type": "markdown",
      "source": [
        "### 예측 수행 후 저장"
      ],
      "metadata": {
        "id": "S_LSWOGZLnPt"
      }
    },
    {
      "cell_type": "code",
      "source": [
        "features = ['Time_spent_Alone', 'Stage_fear', 'Social_event_attendance',\n",
        "       'Going_outside', 'Drained_after_socializing', 'Friends_circle_size',\n",
        "       'Post_frequency']\n",
        "X_test = test_df[features]\n",
        "y_test_pred = best_model.predict(X_test)\n",
        "\n",
        "submission = pd.DataFrame({\n",
        "    'id' : test_df['id'],\n",
        "    'Personality' : y_test_pred\n",
        "})\n",
        "submission.to_csv('person_submission1.csv', index=False)"
      ],
      "metadata": {
        "id": "ZCoUxbB0IwZe"
      },
      "execution_count": null,
      "outputs": []
    },
    {
      "cell_type": "code",
      "source": [
        "sub_df = pd.read_csv('person_submission1.csv') # 'Extrovert' : 0,\n",
        "    #'Introvert' : 1"
      ],
      "metadata": {
        "id": "nImnk9WFKGcc"
      },
      "execution_count": null,
      "outputs": []
    },
    {
      "cell_type": "code",
      "source": [
        "sub_df['Personality'] = sub_df['Personality'].map({\n",
        "    0 : 'Extrovert',\n",
        "    1 : 'Introvert'\n",
        "})"
      ],
      "metadata": {
        "id": "oIAiDMOiNI5s"
      },
      "execution_count": null,
      "outputs": []
    },
    {
      "cell_type": "code",
      "source": [
        "sub_df.to_csv('person1.csv',index=False)"
      ],
      "metadata": {
        "id": "rSmAV3NaNbSN"
      },
      "execution_count": null,
      "outputs": []
    },
    {
      "cell_type": "code",
      "source": [
        "import pandas as pd\n",
        "result_df = pd.read_csv('person1.csv',index_col=0)"
      ],
      "metadata": {
        "id": "978Kio12dZoN"
      },
      "execution_count": null,
      "outputs": []
    },
    {
      "cell_type": "code",
      "source": [
        "result_df"
      ],
      "metadata": {
        "id": "6RIOCfUxduzM"
      },
      "execution_count": null,
      "outputs": []
    }
  ]
}