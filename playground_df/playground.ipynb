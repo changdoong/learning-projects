{
 "cells": [
  {
   "cell_type": "code",
   "execution_count": null,
   "id": "cffcbeae-3830-4afa-ba8a-322b24cea421",
   "metadata": {},
   "outputs": [],
   "source": [
    "import pandas as pd\n",
    "\n",
    "playground_df = pd.read_csv('train.csv')\n",
    "playground_df.head(10)"
   ]
  },
  {
   "attachments": {},
   "cell_type": "markdown",
   "id": "7eb20603-1854-4f24-bf7e-abc12fc89892",
   "metadata": {},
   "source": [
    "## 컬럼 설명 \n",
    "- id             : id 번호 \n",
    "- age            : 나이\n",
    "- job            : 직업\n",
    "- marital        : 결혼 여부\n",
    "- education      : 교육 수준\n",
    "- default        : 신용 불량 여부         \n",
    "- balance        : 계좌 잔고\n",
    "- housing        : 주택 보유 여부\n",
    "- loan           : 대출 여부\n",
    "- contact        : 마지막 접촉 수단\n",
    "- day            : 마지막 접촉 일자\n",
    "- month          : 마지막 접촉 월\n",
    "- duration       : 마지막 접촉 통화 시간\n",
    "- campaign       : 이번 캠페인 동안 연락한 횟수\n",
    "- pdays          : 마지막 연락 후 경과일\n",
    "- previous       : 이전 캠페인에서 연락 횟수\n",
    "- poutcome       : 이전 캠페인의 결과\n",
    "- y              : 예금 가입 여부\n",
    "\n",
    "입력변수  : \n",
    "출력 변수 : y"
   ]
  },
  {
   "cell_type": "code",
   "execution_count": null,
   "id": "807204e2-f320-431f-bee3-bb4542153c1a",
   "metadata": {},
   "outputs": [],
   "source": [
    "playground_df.shape"
   ]
  },
  {
   "cell_type": "code",
   "execution_count": null,
   "id": "228fb7b1-ba78-480c-a553-d9cc91d30041",
   "metadata": {},
   "outputs": [],
   "source": [
    "playground_df['job'].value_counts()"
   ]
  },
  {
   "cell_type": "code",
   "execution_count": null,
   "id": "11ec3510-908b-40b3-90b2-671f6ba1508e",
   "metadata": {},
   "outputs": [],
   "source": [
    "playground_df.isna().sum()"
   ]
  },
  {
   "cell_type": "code",
   "execution_count": null,
   "id": "97e225b0-5815-4f37-b79a-2ef2092759a3",
   "metadata": {},
   "outputs": [],
   "source": [
    "playground_df[['previous','campaign']].corr()"
   ]
  },
  {
   "cell_type": "code",
   "execution_count": null,
   "id": "9b79e48c-c3eb-4c51-ba20-9147a87a6cb8",
   "metadata": {},
   "outputs": [],
   "source": [
    "playground_df['poutcome'].value_counts().sort_values(ascending=False)"
   ]
  },
  {
   "cell_type": "code",
   "execution_count": null,
   "id": "242760d5-6ae0-413f-a8ef-a697349f64c3",
   "metadata": {},
   "outputs": [],
   "source": [
    "playground_df['pdays'].value_counts()"
   ]
  },
  {
   "cell_type": "code",
   "execution_count": null,
   "id": "7d3d6f29-e002-4dde-9ca6-bee80050db11",
   "metadata": {},
   "outputs": [],
   "source": [
    "playground_df.sort_values(by='age', ascending=False)"
   ]
  },
  {
   "cell_type": "code",
   "execution_count": null,
   "id": "588db564-828b-4470-add2-0ebf6f8c8da0",
   "metadata": {},
   "outputs": [],
   "source": [
    "pd.DataFrame(playground_df[playground_df['pdays']==-1])"
   ]
  },
  {
   "cell_type": "markdown",
   "id": "945d33ea-ad16-4e68-98c6-dd0a820b3990",
   "metadata": {},
   "source": [
    "## 카이제곱 검정 시행"
   ]
  },
  {
   "cell_type": "code",
   "execution_count": null,
   "id": "ae88b366-f131-498a-a5c1-59805e120546",
   "metadata": {},
   "outputs": [],
   "source": [
    "chi = ['marital','education','housing','loan','contact','month','poutcome']"
   ]
  },
  {
   "cell_type": "code",
   "execution_count": null,
   "id": "86488d75-b16d-40ce-82d2-56fb8774bf3d",
   "metadata": {
    "scrolled": true
   },
   "outputs": [],
   "source": [
    "import scipy.stats as stats\n",
    "from scipy.stats import chi2_contingency\n",
    "\n",
    "for i in chi:\n",
    "    ct = pd.crosstab(playground_df[i],playground_df['y'])\n",
    "    chi2, p, _, _ = chi2_contingency(ct)\n",
    "    print(f'== {i} vs y ==')\n",
    "    print(ct)\n",
    "    print(f'Chi2: {chi2:.3f}, p-value: {p:.8f}')\n",
    "    print('\\n')"
   ]
  },
  {
   "cell_type": "markdown",
   "id": "ea0c85c2-fc1f-4f1f-ad88-37ceb09a6a95",
   "metadata": {},
   "source": [
    "데이터가 많아서 p-value값이 0이 나온 것 같긴 함                                       \n",
    "그래도 통계적 유의성만 본다면 범주형 컬럼중에 제외시켜야 할 컬럼은 없는 것 같음"
   ]
  },
  {
   "cell_type": "code",
   "execution_count": null,
   "id": "dcbfc537-ba73-4d26-8516-4350655d387a",
   "metadata": {},
   "outputs": [],
   "source": [
    "map_YN = ['default','housing','loan']\n",
    "for col in map_YN:\n",
    "    playground_df[col] = playground_df[col].map({\n",
    "    'no' : 0,\n",
    "    'yes' : 1\n",
    "})"
   ]
  },
  {
   "cell_type": "code",
   "execution_count": null,
   "id": "eafa188a-adda-4b6c-96f2-8cf9383410ee",
   "metadata": {},
   "outputs": [],
   "source": [
    "playground_df"
   ]
  },
  {
   "cell_type": "code",
   "execution_count": null,
   "id": "9710c265-b12c-4fd9-a3a4-534fba78b067",
   "metadata": {},
   "outputs": [],
   "source": [
    "playground_df = pd.get_dummies(columns=['job','marital','education','contact','month','poutcome'],data=playground_df)"
   ]
  },
  {
   "cell_type": "code",
   "execution_count": null,
   "id": "c0ad0ac1-0e30-43e6-9d21-b3b188ba8eee",
   "metadata": {},
   "outputs": [],
   "source": [
    "playground_df.shape"
   ]
  },
  {
   "cell_type": "code",
   "execution_count": null,
   "id": "81eff505-4c54-4734-a511-99fb938bd70b",
   "metadata": {},
   "outputs": [],
   "source": [
    "X = playground_df.drop(columns=['id','y'])\n",
    "y = playground_df['y']"
   ]
  },
  {
   "cell_type": "code",
   "execution_count": null,
   "id": "8b80e041-adcb-47fe-8a68-63df7e257c7d",
   "metadata": {},
   "outputs": [],
   "source": [
    "from sklearn.model_selection import train_test_split\n",
    "\n",
    "X_train,X_val,y_train,y_val = train_test_split(X,y, test_size=0.2)"
   ]
  },
  {
   "cell_type": "code",
   "execution_count": null,
   "id": "53aae723-b49c-4a35-8723-e3affb6b530c",
   "metadata": {},
   "outputs": [],
   "source": [
    "from lazypredict.Supervised import LazyClassifier\n",
    "\n",
    "clf = LazyClassifier()\n",
    "models, predictions = clf.fit(X_train,X_val,y_train,y_val)\n",
    "print(models.head(5))"
   ]
  },
  {
   "cell_type": "code",
   "execution_count": null,
   "id": "6366e8bd-27c0-44a2-be23-b41fea9da45e",
   "metadata": {
    "scrolled": true
   },
   "outputs": [],
   "source": [
    "import optuna\n",
    "from sklearn.tree import DecisionTreeClassifier\n",
    "from sklearn.ensemble import AdaBoostClassifier\n",
    "from sklearn.metrics import accuracy_score, roc_auc_score, roc_curve\n",
    "from sklearn.model_selection import cross_val_score, StratifiedKFold\n",
    "\n",
    "def objective(trial):\n",
    "    n_estimators = trial.suggest_int(\"n_estimators\", 50, 500)\n",
    "    learning_rate = trial.suggest_float(\"learning_rate\", 0.01,1.0, log=True)\n",
    "    #max_depth = trial.suggest_int(\"max_depth\", 1, 20)\n",
    "\n",
    "    base_estimator = DecisionTreeClassifier()\n",
    "\n",
    "    model = AdaBoostClassifier(\n",
    "    estimator=base_estimator,\n",
    "    n_estimators=n_estimators,\n",
    "    learning_rate = learning_rate,\n",
    "    random_state=2020158011\n",
    "    )\n",
    "\n",
    "    cv = StratifiedKFold(n_splits=5, shuffle=True, random_state=2020158011)\n",
    "    scores = cross_val_score(model,X_train,y_train, cv=cv, scoring='roc_auc')\n",
    "    return scores.mean()\n",
    "\n",
    "study = optuna.create_study(direction='maximize')\n",
    "study.optimize(objective, n_trials=50)\n",
    "\n",
    "print(\"best trial : \")\n",
    "trial = study.best_trial\n",
    "print(f\" AUC score : {trial.value}\")\n",
    "print(f\" Params   : {trial.params}\")"
   ]
  },
  {
   "cell_type": "code",
   "execution_count": null,
   "id": "9825ba72-d4ce-4847-aa73-f0fb2df2e0dd",
   "metadata": {},
   "outputs": [],
   "source": [
    "best_params = study.best_params\n",
    "print(best_params)"
   ]
  },
  {
   "cell_type": "code",
   "execution_count": null,
   "id": "371196bb-694a-4208-92c0-c304c8ad531b",
   "metadata": {},
   "outputs": [],
   "source": [
    "best_model = AdaBoostClassifier(**best_params)\n",
    "best_model.fit(X,y)"
   ]
  },
  {
   "cell_type": "markdown",
   "id": "bec8c286-615a-445b-b0d2-b472fa699d2f",
   "metadata": {},
   "source": [
    "## 테스트 데이터 전처리"
   ]
  },
  {
   "cell_type": "code",
   "execution_count": null,
   "id": "d64e9df3-4e29-4997-b191-745bd06163fa",
   "metadata": {},
   "outputs": [],
   "source": [
    "test_df = pd.read_csv('test.csv')\n",
    "test_df.head()"
   ]
  },
  {
   "cell_type": "code",
   "execution_count": null,
   "id": "ade77912-d8a9-4658-82b2-895d17156ca3",
   "metadata": {},
   "outputs": [],
   "source": [
    "for col in map_YN:\n",
    "    test_df[col] = test_df[col].map({\n",
    "    'no' : 0,\n",
    "    'yes' : 1\n",
    "})"
   ]
  },
  {
   "cell_type": "code",
   "execution_count": null,
   "id": "e3c1f81d-54bc-4872-94ad-266f486efeb4",
   "metadata": {},
   "outputs": [],
   "source": [
    "test_df = pd.get_dummies(columns=['job','marital','education','contact','month','poutcome'],data=test_df)"
   ]
  },
  {
   "cell_type": "code",
   "execution_count": null,
   "id": "ca900cdd-9ec6-42fc-bb88-e73d5cf8abe1",
   "metadata": {
    "scrolled": true
   },
   "outputs": [],
   "source": [
    "test_df.head(5).dtypes"
   ]
  },
  {
   "cell_type": "code",
   "execution_count": null,
   "id": "22e16b78-386b-4ffe-8ba0-166b58c103e2",
   "metadata": {},
   "outputs": [],
   "source": [
    "X_test = test_df.drop(columns='id')\n",
    "y_test_pred = best_model.predict(X_test)\n",
    "\n",
    "submission = pd.DataFrame({\n",
    "    'id' : test_df['id'],\n",
    "    'y' : y_test_pred\n",
    "})\n",
    "submission.to_csv('submission',index=False)"
   ]
  },
  {
   "cell_type": "code",
   "execution_count": null,
   "id": "63c71530-f034-4e37-a19e-fe1da1bcf6a0",
   "metadata": {},
   "outputs": [],
   "source": [
    "sub = pd.read_csv('sample_submission.csv')\n",
    "sub.head(5)"
   ]
  },
  {
   "cell_type": "code",
   "execution_count": null,
   "id": "be196da8-1950-45d5-b995-191d632cfa78",
   "metadata": {},
   "outputs": [],
   "source": []
  }
 ],
 "metadata": {
  "kernelspec": {
   "display_name": "Python 3 (ipykernel)",
   "language": "python",
   "name": "python3"
  },
  "language_info": {
   "codemirror_mode": {
    "name": "ipython",
    "version": 3
   },
   "file_extension": ".py",
   "mimetype": "text/x-python",
   "name": "python",
   "nbconvert_exporter": "python",
   "pygments_lexer": "ipython3",
   "version": "3.13.5"
  }
 },
 "nbformat": 4,
 "nbformat_minor": 5
}
